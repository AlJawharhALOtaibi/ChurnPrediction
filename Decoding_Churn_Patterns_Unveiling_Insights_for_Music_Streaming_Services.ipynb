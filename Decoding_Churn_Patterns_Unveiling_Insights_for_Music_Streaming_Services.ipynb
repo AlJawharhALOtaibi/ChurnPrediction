{
  "cells": [
    {
      "cell_type": "markdown",
      "metadata": {
        "id": "Za8_YPEiSTrt"
      },
      "source": [
        "# Decoding Churn Patterns: Unveiling Insights for Music Streaming Services\n"
      ]
    },
    {
      "cell_type": "markdown",
      "metadata": {
        "id": "ciJ_OBF-STrv"
      },
      "source": [
        "First let's import the necessary libraries."
      ]
    },
    {
      "cell_type": "code",
      "execution_count": null,
      "metadata": {
        "id": "7qCRmQdnSTrw"
      },
      "outputs": [],
      "source": [
        "# import libraries\n",
        "import pyspark\n",
        "from pyspark import SparkConf\n",
        "from pyspark.sql import SparkSession\n",
        "from pyspark.sql.functions import udf\n",
        "from pyspark.sql.types import StringType\n",
        "from pyspark.sql.types import IntegerType\n",
        "from pyspark.sql.functions import isnan, count, when, col, desc, udf, col, sort_array, asc, avg\n",
        "from pyspark.sql.functions import sum as Fsum\n",
        "from pyspark.sql.window import Window\n",
        "from pyspark.sql import Row\n",
        "from pyspark.sql import functions as F\n",
        "from pyspark.sql.functions import *\n",
        "\n",
        "from pyspark.ml import Pipeline\n",
        "from pyspark.ml.classification import LogisticRegression, RandomForestClassifier, GBTClassifier, LinearSVC, NaiveBayes\n",
        "from pyspark.ml.evaluation import MulticlassClassificationEvaluator\n",
        "from pyspark.ml.feature import CountVectorizer, IDF, PCA, RegexTokenizer, VectorAssembler, Normalizer, StandardScaler\n",
        "from pyspark.ml.regression import LinearRegression\n",
        "from pyspark.ml.tuning import CrossValidator, ParamGridBuilder\n",
        "\n",
        "import datetime\n",
        "import time\n",
        "\n",
        "import pandas as pd\n",
        "import numpy as np\n",
        "import re\n",
        "%matplotlib inline\n",
        "import matplotlib.pyplot as plt\n",
        "import seaborn as sns\n",
        "sns.set()"
      ]
    },
    {
      "cell_type": "markdown",
      "metadata": {
        "id": "Ap6YV8qcSTrx"
      },
      "source": [
        "We can now create a Spark Session."
      ]
    },
    {
      "cell_type": "code",
      "execution_count": null,
      "metadata": {
        "id": "OlbrWuIfSTrx"
      },
      "outputs": [],
      "source": [
        "# create a Spark session\n",
        "spark = SparkSession \\\n",
        "    .builder \\\n",
        "    .appName(\"Sparkify Project\") \\\n",
        "    .getOrCreate()"
      ]
    },
    {
      "cell_type": "code",
      "execution_count": null,
      "metadata": {
        "id": "LRsTTIghSTrx",
        "outputId": "6cec6371-f59e-40ec-d4f4-fdc0baa99019"
      },
      "outputs": [
        {
          "data": {
            "text/plain": [
              "[('spark.app.id', 'local-1611226732999'),\n",
              " ('spark.rdd.compress', 'True'),\n",
              " ('spark.driver.port', '44231'),\n",
              " ('spark.serializer.objectStreamReset', '100'),\n",
              " ('spark.driver.host', '64180a7e933e'),\n",
              " ('spark.master', 'local[*]'),\n",
              " ('spark.executor.id', 'driver'),\n",
              " ('spark.submit.deployMode', 'client'),\n",
              " ('spark.ui.showConsoleProgress', 'true'),\n",
              " ('spark.app.name', 'Sparkify Project')]"
            ]
          },
          "execution_count": 7,
          "metadata": {},
          "output_type": "execute_result"
        }
      ],
      "source": [
        "spark.sparkContext.getConf().getAll()"
      ]
    },
    {
      "cell_type": "markdown",
      "metadata": {
        "id": "-PJZGeEBSTrz"
      },
      "source": [
        "## Load and Clean Dataset\n",
        "<a class=\"anchor\" id=\"load\"></a>\n",
        "Our mini-dataset file is `mini_sparkify_event_data.json`. First the dataset must be loaded and cleaned, checking for invalid or missing data - for example, records without userids or sessionids."
      ]
    },
    {
      "cell_type": "code",
      "execution_count": null,
      "metadata": {
        "id": "8SxgWex8STrz"
      },
      "outputs": [],
      "source": [
        "# load in the dataset\n",
        "df = spark.read.json(\"mini_sparkify_event_data.json\")"
      ]
    },
    {
      "cell_type": "code",
      "execution_count": null,
      "metadata": {
        "id": "MzpsvTUUSTr0",
        "outputId": "3a130fc3-014a-4a27-cbfd-b11e6cc75b05"
      },
      "outputs": [
        {
          "name": "stdout",
          "output_type": "stream",
          "text": [
            "root\n",
            " |-- artist: string (nullable = true)\n",
            " |-- auth: string (nullable = true)\n",
            " |-- firstName: string (nullable = true)\n",
            " |-- gender: string (nullable = true)\n",
            " |-- itemInSession: long (nullable = true)\n",
            " |-- lastName: string (nullable = true)\n",
            " |-- length: double (nullable = true)\n",
            " |-- level: string (nullable = true)\n",
            " |-- location: string (nullable = true)\n",
            " |-- method: string (nullable = true)\n",
            " |-- page: string (nullable = true)\n",
            " |-- registration: long (nullable = true)\n",
            " |-- sessionId: long (nullable = true)\n",
            " |-- song: string (nullable = true)\n",
            " |-- status: long (nullable = true)\n",
            " |-- ts: long (nullable = true)\n",
            " |-- userAgent: string (nullable = true)\n",
            " |-- userId: string (nullable = true)\n",
            "\n"
          ]
        }
      ],
      "source": [
        "# print the schema\n",
        "df.printSchema()"
      ]
    },
    {
      "cell_type": "code",
      "execution_count": null,
      "metadata": {
        "id": "4UhpLDylSTr0",
        "outputId": "6cc6ed6a-63cf-4cd7-b098-6ebc9f0b8c0a"
      },
      "outputs": [
        {
          "data": {
            "text/plain": [
              "DataFrame[summary: string, artist: string, auth: string, firstName: string, gender: string, itemInSession: string, lastName: string, length: string, level: string, location: string, method: string, page: string, registration: string, sessionId: string, song: string, status: string, ts: string, userAgent: string, userId: string]"
            ]
          },
          "execution_count": 10,
          "metadata": {},
          "output_type": "execute_result"
        }
      ],
      "source": [
        "df.describe()"
      ]
    },
    {
      "cell_type": "markdown",
      "metadata": {
        "id": "0qvfERRkSTr0"
      },
      "source": [
        "The datatypes make sense at this stage so we don't need to make any changes."
      ]
    },
    {
      "cell_type": "code",
      "execution_count": null,
      "metadata": {
        "id": "n_FE3x6iSTr0",
        "outputId": "3b25a69e-aac7-44e9-9fac-5d135964420f"
      },
      "outputs": [
        {
          "data": {
            "text/plain": [
              "[Row(artist='Martha Tilston', auth='Logged In', firstName='Colin', gender='M', itemInSession=50, lastName='Freeman', length=277.89016, level='paid', location='Bakersfield, CA', method='PUT', page='NextSong', registration=1538173362000, sessionId=29, song='Rockpools', status=200, ts=1538352117000, userAgent='Mozilla/5.0 (Windows NT 6.1; WOW64; rv:31.0) Gecko/20100101 Firefox/31.0', userId='30'),\n",
              " Row(artist='Five Iron Frenzy', auth='Logged In', firstName='Micah', gender='M', itemInSession=79, lastName='Long', length=236.09424, level='free', location='Boston-Cambridge-Newton, MA-NH', method='PUT', page='NextSong', registration=1538331630000, sessionId=8, song='Canada', status=200, ts=1538352180000, userAgent='\"Mozilla/5.0 (Windows NT 6.1; WOW64) AppleWebKit/537.36 (KHTML, like Gecko) Chrome/37.0.2062.103 Safari/537.36\"', userId='9')]"
            ]
          },
          "execution_count": 11,
          "metadata": {},
          "output_type": "execute_result"
        }
      ],
      "source": [
        "df.take(2)"
      ]
    },
    {
      "cell_type": "code",
      "execution_count": null,
      "metadata": {
        "id": "HXw91zmFSTr1",
        "outputId": "79346522-0a70-4069-8303-5f9be96f971f"
      },
      "outputs": [
        {
          "data": {
            "text/plain": [
              "286500"
            ]
          },
          "execution_count": 12,
          "metadata": {},
          "output_type": "execute_result"
        }
      ],
      "source": [
        "# get the count of the dataset before we do any cleaning - this is 286500\n",
        "df.count()"
      ]
    },
    {
      "cell_type": "markdown",
      "metadata": {
        "id": "8aQdD-WrSTr1"
      },
      "source": [
        "The dataset before any cleaning is performed has 286500 rows."
      ]
    },
    {
      "cell_type": "markdown",
      "metadata": {
        "id": "qZjG0sF4STr1"
      },
      "source": [
        "### Drop Rows with Missing Values"
      ]
    },
    {
      "cell_type": "markdown",
      "metadata": {
        "id": "htYp6L6BSTr1"
      },
      "source": [
        "First we will drop any rows with missing values in the userid or sessionid."
      ]
    },
    {
      "cell_type": "code",
      "execution_count": null,
      "metadata": {
        "id": "ZCyz5VD8STr1"
      },
      "outputs": [],
      "source": [
        "# drop rows with missing values in userid and/or sessionid\n",
        "df = df.dropna(how = 'any', subset = [\"userId\", \"sessionId\"])"
      ]
    },
    {
      "cell_type": "code",
      "execution_count": null,
      "metadata": {
        "id": "Itd7YYYwSTr2",
        "outputId": "89a6cfe4-7476-48cf-e847-538280f5f9d4"
      },
      "outputs": [
        {
          "data": {
            "text/plain": [
              "286500"
            ]
          },
          "execution_count": 14,
          "metadata": {},
          "output_type": "execute_result"
        }
      ],
      "source": [
        "df.count()"
      ]
    },
    {
      "cell_type": "markdown",
      "metadata": {
        "id": "eoacfxWGSTr2"
      },
      "source": [
        "As we can see from the above, the row count is still the same at 286500. Let's take a closer look."
      ]
    },
    {
      "cell_type": "code",
      "execution_count": null,
      "metadata": {
        "id": "7GkEwQLVSTr2",
        "outputId": "1fde8f96-a63d-46a8-eb08-3ba61c04f1b7"
      },
      "outputs": [
        {
          "name": "stdout",
          "output_type": "stream",
          "text": [
            "+------+\n",
            "|userId|\n",
            "+------+\n",
            "|      |\n",
            "|    10|\n",
            "|   100|\n",
            "|100001|\n",
            "|100002|\n",
            "|100003|\n",
            "|100004|\n",
            "|100005|\n",
            "|100006|\n",
            "|100007|\n",
            "|100008|\n",
            "|100009|\n",
            "|100010|\n",
            "|100011|\n",
            "|100012|\n",
            "|100013|\n",
            "|100014|\n",
            "|100015|\n",
            "|100016|\n",
            "|100017|\n",
            "+------+\n",
            "only showing top 20 rows\n",
            "\n"
          ]
        }
      ],
      "source": [
        "# drop userid duplicates\n",
        "df.select(\"userId\").dropDuplicates().sort(\"userId\").show()"
      ]
    },
    {
      "cell_type": "markdown",
      "metadata": {
        "id": "t-CHS070STr2"
      },
      "source": [
        "From the above, we can see that there are empty strings being used for a userId. We will drop these after we further investigate the sessionid."
      ]
    },
    {
      "cell_type": "code",
      "execution_count": null,
      "metadata": {
        "id": "MHVGXllnSTr2",
        "outputId": "6b4177b4-b25f-42fd-8324-6b27b574daf6"
      },
      "outputs": [
        {
          "name": "stdout",
          "output_type": "stream",
          "text": [
            "+---------+\n",
            "|sessionId|\n",
            "+---------+\n",
            "|        1|\n",
            "|        2|\n",
            "|        3|\n",
            "|        4|\n",
            "|        5|\n",
            "|        6|\n",
            "|        7|\n",
            "|        8|\n",
            "|        9|\n",
            "|       10|\n",
            "|       11|\n",
            "|       12|\n",
            "|       13|\n",
            "|       15|\n",
            "|       16|\n",
            "|       17|\n",
            "|       18|\n",
            "|       19|\n",
            "|       20|\n",
            "|       21|\n",
            "+---------+\n",
            "only showing top 20 rows\n",
            "\n"
          ]
        }
      ],
      "source": [
        "df.select(\"sessionId\").dropDuplicates().sort(\"sessionId\").show()"
      ]
    },
    {
      "cell_type": "markdown",
      "metadata": {
        "id": "n56wRtpPSTr2"
      },
      "source": [
        "The sessionId looks as expected. However we saw from above that there are entries with an empty string for the userId. These should now be removed."
      ]
    },
    {
      "cell_type": "code",
      "execution_count": null,
      "metadata": {
        "id": "lNWf7_y4STr2"
      },
      "outputs": [],
      "source": [
        "# remove those with an empty string userId\n",
        "df = df.filter(df[\"userId\"] != \"\")"
      ]
    },
    {
      "cell_type": "code",
      "execution_count": null,
      "metadata": {
        "id": "aKWVI21_STr2",
        "outputId": "50a7c002-242a-47a9-c3fa-5862c742eefa"
      },
      "outputs": [
        {
          "data": {
            "text/plain": [
              "278154"
            ]
          },
          "execution_count": 18,
          "metadata": {},
          "output_type": "execute_result"
        }
      ],
      "source": [
        "df.count()"
      ]
    },
    {
      "cell_type": "markdown",
      "metadata": {
        "id": "gAfQf49WSTr2"
      },
      "source": [
        "We have dropped (286500-278154) = **8346 rows** in this cleaning step."
      ]
    },
    {
      "cell_type": "code",
      "execution_count": null,
      "metadata": {
        "id": "fTllkGDeSTr3",
        "outputId": "28d27730-92f7-462e-cba0-f6c6efdc45e6"
      },
      "outputs": [
        {
          "data": {
            "text/html": [
              "<div>\n",
              "<style scoped>\n",
              "    .dataframe tbody tr th:only-of-type {\n",
              "        vertical-align: middle;\n",
              "    }\n",
              "\n",
              "    .dataframe tbody tr th {\n",
              "        vertical-align: top;\n",
              "    }\n",
              "\n",
              "    .dataframe thead th {\n",
              "        text-align: right;\n",
              "    }\n",
              "</style>\n",
              "<table border=\"1\" class=\"dataframe\">\n",
              "  <thead>\n",
              "    <tr style=\"text-align: right;\">\n",
              "      <th></th>\n",
              "      <th>artist</th>\n",
              "      <th>auth</th>\n",
              "      <th>firstName</th>\n",
              "      <th>gender</th>\n",
              "      <th>itemInSession</th>\n",
              "      <th>lastName</th>\n",
              "      <th>length</th>\n",
              "      <th>level</th>\n",
              "      <th>location</th>\n",
              "      <th>method</th>\n",
              "      <th>page</th>\n",
              "      <th>registration</th>\n",
              "      <th>sessionId</th>\n",
              "      <th>song</th>\n",
              "      <th>status</th>\n",
              "      <th>ts</th>\n",
              "      <th>userAgent</th>\n",
              "      <th>userId</th>\n",
              "    </tr>\n",
              "  </thead>\n",
              "  <tbody>\n",
              "    <tr>\n",
              "      <th>0</th>\n",
              "      <td>Martha Tilston</td>\n",
              "      <td>Logged In</td>\n",
              "      <td>Colin</td>\n",
              "      <td>M</td>\n",
              "      <td>50</td>\n",
              "      <td>Freeman</td>\n",
              "      <td>277.89016</td>\n",
              "      <td>paid</td>\n",
              "      <td>Bakersfield, CA</td>\n",
              "      <td>PUT</td>\n",
              "      <td>NextSong</td>\n",
              "      <td>1538173362000</td>\n",
              "      <td>29</td>\n",
              "      <td>Rockpools</td>\n",
              "      <td>200</td>\n",
              "      <td>1538352117000</td>\n",
              "      <td>Mozilla/5.0 (Windows NT 6.1; WOW64; rv:31.0) G...</td>\n",
              "      <td>30</td>\n",
              "    </tr>\n",
              "    <tr>\n",
              "      <th>1</th>\n",
              "      <td>Five Iron Frenzy</td>\n",
              "      <td>Logged In</td>\n",
              "      <td>Micah</td>\n",
              "      <td>M</td>\n",
              "      <td>79</td>\n",
              "      <td>Long</td>\n",
              "      <td>236.09424</td>\n",
              "      <td>free</td>\n",
              "      <td>Boston-Cambridge-Newton, MA-NH</td>\n",
              "      <td>PUT</td>\n",
              "      <td>NextSong</td>\n",
              "      <td>1538331630000</td>\n",
              "      <td>8</td>\n",
              "      <td>Canada</td>\n",
              "      <td>200</td>\n",
              "      <td>1538352180000</td>\n",
              "      <td>\"Mozilla/5.0 (Windows NT 6.1; WOW64) AppleWebK...</td>\n",
              "      <td>9</td>\n",
              "    </tr>\n",
              "    <tr>\n",
              "      <th>2</th>\n",
              "      <td>Adam Lambert</td>\n",
              "      <td>Logged In</td>\n",
              "      <td>Colin</td>\n",
              "      <td>M</td>\n",
              "      <td>51</td>\n",
              "      <td>Freeman</td>\n",
              "      <td>282.82730</td>\n",
              "      <td>paid</td>\n",
              "      <td>Bakersfield, CA</td>\n",
              "      <td>PUT</td>\n",
              "      <td>NextSong</td>\n",
              "      <td>1538173362000</td>\n",
              "      <td>29</td>\n",
              "      <td>Time For Miracles</td>\n",
              "      <td>200</td>\n",
              "      <td>1538352394000</td>\n",
              "      <td>Mozilla/5.0 (Windows NT 6.1; WOW64; rv:31.0) G...</td>\n",
              "      <td>30</td>\n",
              "    </tr>\n",
              "    <tr>\n",
              "      <th>3</th>\n",
              "      <td>Enigma</td>\n",
              "      <td>Logged In</td>\n",
              "      <td>Micah</td>\n",
              "      <td>M</td>\n",
              "      <td>80</td>\n",
              "      <td>Long</td>\n",
              "      <td>262.71302</td>\n",
              "      <td>free</td>\n",
              "      <td>Boston-Cambridge-Newton, MA-NH</td>\n",
              "      <td>PUT</td>\n",
              "      <td>NextSong</td>\n",
              "      <td>1538331630000</td>\n",
              "      <td>8</td>\n",
              "      <td>Knocking On Forbidden Doors</td>\n",
              "      <td>200</td>\n",
              "      <td>1538352416000</td>\n",
              "      <td>\"Mozilla/5.0 (Windows NT 6.1; WOW64) AppleWebK...</td>\n",
              "      <td>9</td>\n",
              "    </tr>\n",
              "    <tr>\n",
              "      <th>4</th>\n",
              "      <td>Daft Punk</td>\n",
              "      <td>Logged In</td>\n",
              "      <td>Colin</td>\n",
              "      <td>M</td>\n",
              "      <td>52</td>\n",
              "      <td>Freeman</td>\n",
              "      <td>223.60771</td>\n",
              "      <td>paid</td>\n",
              "      <td>Bakersfield, CA</td>\n",
              "      <td>PUT</td>\n",
              "      <td>NextSong</td>\n",
              "      <td>1538173362000</td>\n",
              "      <td>29</td>\n",
              "      <td>Harder Better Faster Stronger</td>\n",
              "      <td>200</td>\n",
              "      <td>1538352676000</td>\n",
              "      <td>Mozilla/5.0 (Windows NT 6.1; WOW64; rv:31.0) G...</td>\n",
              "      <td>30</td>\n",
              "    </tr>\n",
              "    <tr>\n",
              "      <th>5</th>\n",
              "      <td>The All-American Rejects</td>\n",
              "      <td>Logged In</td>\n",
              "      <td>Micah</td>\n",
              "      <td>M</td>\n",
              "      <td>81</td>\n",
              "      <td>Long</td>\n",
              "      <td>208.29995</td>\n",
              "      <td>free</td>\n",
              "      <td>Boston-Cambridge-Newton, MA-NH</td>\n",
              "      <td>PUT</td>\n",
              "      <td>NextSong</td>\n",
              "      <td>1538331630000</td>\n",
              "      <td>8</td>\n",
              "      <td>Don't Leave Me</td>\n",
              "      <td>200</td>\n",
              "      <td>1538352678000</td>\n",
              "      <td>\"Mozilla/5.0 (Windows NT 6.1; WOW64) AppleWebK...</td>\n",
              "      <td>9</td>\n",
              "    </tr>\n",
              "    <tr>\n",
              "      <th>6</th>\n",
              "      <td>The Velvet Underground / Nico</td>\n",
              "      <td>Logged In</td>\n",
              "      <td>Micah</td>\n",
              "      <td>M</td>\n",
              "      <td>82</td>\n",
              "      <td>Long</td>\n",
              "      <td>260.46649</td>\n",
              "      <td>free</td>\n",
              "      <td>Boston-Cambridge-Newton, MA-NH</td>\n",
              "      <td>PUT</td>\n",
              "      <td>NextSong</td>\n",
              "      <td>1538331630000</td>\n",
              "      <td>8</td>\n",
              "      <td>Run Run Run</td>\n",
              "      <td>200</td>\n",
              "      <td>1538352886000</td>\n",
              "      <td>\"Mozilla/5.0 (Windows NT 6.1; WOW64) AppleWebK...</td>\n",
              "      <td>9</td>\n",
              "    </tr>\n",
              "    <tr>\n",
              "      <th>7</th>\n",
              "      <td>Starflyer 59</td>\n",
              "      <td>Logged In</td>\n",
              "      <td>Colin</td>\n",
              "      <td>M</td>\n",
              "      <td>53</td>\n",
              "      <td>Freeman</td>\n",
              "      <td>185.44281</td>\n",
              "      <td>paid</td>\n",
              "      <td>Bakersfield, CA</td>\n",
              "      <td>PUT</td>\n",
              "      <td>NextSong</td>\n",
              "      <td>1538173362000</td>\n",
              "      <td>29</td>\n",
              "      <td>Passengers (Old Album Version)</td>\n",
              "      <td>200</td>\n",
              "      <td>1538352899000</td>\n",
              "      <td>Mozilla/5.0 (Windows NT 6.1; WOW64; rv:31.0) G...</td>\n",
              "      <td>30</td>\n",
              "    </tr>\n",
              "    <tr>\n",
              "      <th>8</th>\n",
              "      <td>None</td>\n",
              "      <td>Logged In</td>\n",
              "      <td>Colin</td>\n",
              "      <td>M</td>\n",
              "      <td>54</td>\n",
              "      <td>Freeman</td>\n",
              "      <td>NaN</td>\n",
              "      <td>paid</td>\n",
              "      <td>Bakersfield, CA</td>\n",
              "      <td>PUT</td>\n",
              "      <td>Add to Playlist</td>\n",
              "      <td>1538173362000</td>\n",
              "      <td>29</td>\n",
              "      <td>None</td>\n",
              "      <td>200</td>\n",
              "      <td>1538352905000</td>\n",
              "      <td>Mozilla/5.0 (Windows NT 6.1; WOW64; rv:31.0) G...</td>\n",
              "      <td>30</td>\n",
              "    </tr>\n",
              "    <tr>\n",
              "      <th>9</th>\n",
              "      <td>Frumpies</td>\n",
              "      <td>Logged In</td>\n",
              "      <td>Colin</td>\n",
              "      <td>M</td>\n",
              "      <td>55</td>\n",
              "      <td>Freeman</td>\n",
              "      <td>134.47791</td>\n",
              "      <td>paid</td>\n",
              "      <td>Bakersfield, CA</td>\n",
              "      <td>PUT</td>\n",
              "      <td>NextSong</td>\n",
              "      <td>1538173362000</td>\n",
              "      <td>29</td>\n",
              "      <td>Fuck Kitty</td>\n",
              "      <td>200</td>\n",
              "      <td>1538353084000</td>\n",
              "      <td>Mozilla/5.0 (Windows NT 6.1; WOW64; rv:31.0) G...</td>\n",
              "      <td>30</td>\n",
              "    </tr>\n",
              "    <tr>\n",
              "      <th>10</th>\n",
              "      <td>Britt Nicole</td>\n",
              "      <td>Logged In</td>\n",
              "      <td>Micah</td>\n",
              "      <td>M</td>\n",
              "      <td>83</td>\n",
              "      <td>Long</td>\n",
              "      <td>229.87710</td>\n",
              "      <td>free</td>\n",
              "      <td>Boston-Cambridge-Newton, MA-NH</td>\n",
              "      <td>PUT</td>\n",
              "      <td>NextSong</td>\n",
              "      <td>1538331630000</td>\n",
              "      <td>8</td>\n",
              "      <td>Walk On The Water</td>\n",
              "      <td>200</td>\n",
              "      <td>1538353146000</td>\n",
              "      <td>\"Mozilla/5.0 (Windows NT 6.1; WOW64) AppleWebK...</td>\n",
              "      <td>9</td>\n",
              "    </tr>\n",
              "    <tr>\n",
              "      <th>11</th>\n",
              "      <td>None</td>\n",
              "      <td>Logged In</td>\n",
              "      <td>Micah</td>\n",
              "      <td>M</td>\n",
              "      <td>84</td>\n",
              "      <td>Long</td>\n",
              "      <td>NaN</td>\n",
              "      <td>free</td>\n",
              "      <td>Boston-Cambridge-Newton, MA-NH</td>\n",
              "      <td>GET</td>\n",
              "      <td>Roll Advert</td>\n",
              "      <td>1538331630000</td>\n",
              "      <td>8</td>\n",
              "      <td>None</td>\n",
              "      <td>200</td>\n",
              "      <td>1538353150000</td>\n",
              "      <td>\"Mozilla/5.0 (Windows NT 6.1; WOW64) AppleWebK...</td>\n",
              "      <td>9</td>\n",
              "    </tr>\n",
              "    <tr>\n",
              "      <th>12</th>\n",
              "      <td>Edward Sharpe &amp; The Magnetic Zeros</td>\n",
              "      <td>Logged In</td>\n",
              "      <td>Colin</td>\n",
              "      <td>M</td>\n",
              "      <td>56</td>\n",
              "      <td>Freeman</td>\n",
              "      <td>223.58159</td>\n",
              "      <td>paid</td>\n",
              "      <td>Bakersfield, CA</td>\n",
              "      <td>PUT</td>\n",
              "      <td>NextSong</td>\n",
              "      <td>1538173362000</td>\n",
              "      <td>29</td>\n",
              "      <td>Jade</td>\n",
              "      <td>200</td>\n",
              "      <td>1538353218000</td>\n",
              "      <td>Mozilla/5.0 (Windows NT 6.1; WOW64; rv:31.0) G...</td>\n",
              "      <td>30</td>\n",
              "    </tr>\n",
              "    <tr>\n",
              "      <th>13</th>\n",
              "      <td>Tesla</td>\n",
              "      <td>Logged In</td>\n",
              "      <td>Micah</td>\n",
              "      <td>M</td>\n",
              "      <td>85</td>\n",
              "      <td>Long</td>\n",
              "      <td>201.06404</td>\n",
              "      <td>free</td>\n",
              "      <td>Boston-Cambridge-Newton, MA-NH</td>\n",
              "      <td>PUT</td>\n",
              "      <td>NextSong</td>\n",
              "      <td>1538331630000</td>\n",
              "      <td>8</td>\n",
              "      <td>Gettin' Better</td>\n",
              "      <td>200</td>\n",
              "      <td>1538353375000</td>\n",
              "      <td>\"Mozilla/5.0 (Windows NT 6.1; WOW64) AppleWebK...</td>\n",
              "      <td>9</td>\n",
              "    </tr>\n",
              "    <tr>\n",
              "      <th>14</th>\n",
              "      <td>None</td>\n",
              "      <td>Logged In</td>\n",
              "      <td>Micah</td>\n",
              "      <td>M</td>\n",
              "      <td>86</td>\n",
              "      <td>Long</td>\n",
              "      <td>NaN</td>\n",
              "      <td>free</td>\n",
              "      <td>Boston-Cambridge-Newton, MA-NH</td>\n",
              "      <td>PUT</td>\n",
              "      <td>Thumbs Up</td>\n",
              "      <td>1538331630000</td>\n",
              "      <td>8</td>\n",
              "      <td>None</td>\n",
              "      <td>307</td>\n",
              "      <td>1538353376000</td>\n",
              "      <td>\"Mozilla/5.0 (Windows NT 6.1; WOW64) AppleWebK...</td>\n",
              "      <td>9</td>\n",
              "    </tr>\n",
              "    <tr>\n",
              "      <th>15</th>\n",
              "      <td>Stan Mosley</td>\n",
              "      <td>Logged In</td>\n",
              "      <td>Colin</td>\n",
              "      <td>M</td>\n",
              "      <td>57</td>\n",
              "      <td>Freeman</td>\n",
              "      <td>246.69995</td>\n",
              "      <td>paid</td>\n",
              "      <td>Bakersfield, CA</td>\n",
              "      <td>PUT</td>\n",
              "      <td>NextSong</td>\n",
              "      <td>1538173362000</td>\n",
              "      <td>29</td>\n",
              "      <td>So-Called Friends</td>\n",
              "      <td>200</td>\n",
              "      <td>1538353441000</td>\n",
              "      <td>Mozilla/5.0 (Windows NT 6.1; WOW64; rv:31.0) G...</td>\n",
              "      <td>30</td>\n",
              "    </tr>\n",
              "    <tr>\n",
              "      <th>16</th>\n",
              "      <td>Florence + The Machine</td>\n",
              "      <td>Logged In</td>\n",
              "      <td>Micah</td>\n",
              "      <td>M</td>\n",
              "      <td>87</td>\n",
              "      <td>Long</td>\n",
              "      <td>168.64608</td>\n",
              "      <td>free</td>\n",
              "      <td>Boston-Cambridge-Newton, MA-NH</td>\n",
              "      <td>PUT</td>\n",
              "      <td>NextSong</td>\n",
              "      <td>1538331630000</td>\n",
              "      <td>8</td>\n",
              "      <td>You've Got The Love</td>\n",
              "      <td>200</td>\n",
              "      <td>1538353576000</td>\n",
              "      <td>\"Mozilla/5.0 (Windows NT 6.1; WOW64) AppleWebK...</td>\n",
              "      <td>9</td>\n",
              "    </tr>\n",
              "    <tr>\n",
              "      <th>17</th>\n",
              "      <td>Tokyo Police Club</td>\n",
              "      <td>Logged In</td>\n",
              "      <td>Ashlynn</td>\n",
              "      <td>F</td>\n",
              "      <td>0</td>\n",
              "      <td>Williams</td>\n",
              "      <td>166.11220</td>\n",
              "      <td>free</td>\n",
              "      <td>Tallahassee, FL</td>\n",
              "      <td>PUT</td>\n",
              "      <td>NextSong</td>\n",
              "      <td>1537365219000</td>\n",
              "      <td>217</td>\n",
              "      <td>Citizens Of Tomorrow</td>\n",
              "      <td>200</td>\n",
              "      <td>1538353668000</td>\n",
              "      <td>\"Mozilla/5.0 (Macintosh; Intel Mac OS X 10_9_4...</td>\n",
              "      <td>74</td>\n",
              "    </tr>\n",
              "    <tr>\n",
              "      <th>18</th>\n",
              "      <td>Orishas</td>\n",
              "      <td>Logged In</td>\n",
              "      <td>Colin</td>\n",
              "      <td>M</td>\n",
              "      <td>58</td>\n",
              "      <td>Freeman</td>\n",
              "      <td>222.22322</td>\n",
              "      <td>paid</td>\n",
              "      <td>Bakersfield, CA</td>\n",
              "      <td>PUT</td>\n",
              "      <td>NextSong</td>\n",
              "      <td>1538173362000</td>\n",
              "      <td>29</td>\n",
              "      <td>Represent</td>\n",
              "      <td>200</td>\n",
              "      <td>1538353687000</td>\n",
              "      <td>Mozilla/5.0 (Windows NT 6.1; WOW64; rv:31.0) G...</td>\n",
              "      <td>30</td>\n",
              "    </tr>\n",
              "    <tr>\n",
              "      <th>19</th>\n",
              "      <td>Ratatat</td>\n",
              "      <td>Logged In</td>\n",
              "      <td>Micah</td>\n",
              "      <td>M</td>\n",
              "      <td>88</td>\n",
              "      <td>Long</td>\n",
              "      <td>229.77261</td>\n",
              "      <td>free</td>\n",
              "      <td>Boston-Cambridge-Newton, MA-NH</td>\n",
              "      <td>PUT</td>\n",
              "      <td>NextSong</td>\n",
              "      <td>1538331630000</td>\n",
              "      <td>8</td>\n",
              "      <td>Swisha</td>\n",
              "      <td>200</td>\n",
              "      <td>1538353744000</td>\n",
              "      <td>\"Mozilla/5.0 (Windows NT 6.1; WOW64) AppleWebK...</td>\n",
              "      <td>9</td>\n",
              "    </tr>\n",
              "    <tr>\n",
              "      <th>20</th>\n",
              "      <td>Manolo Garcia</td>\n",
              "      <td>Logged In</td>\n",
              "      <td>Ashlynn</td>\n",
              "      <td>F</td>\n",
              "      <td>1</td>\n",
              "      <td>Williams</td>\n",
              "      <td>283.74159</td>\n",
              "      <td>free</td>\n",
              "      <td>Tallahassee, FL</td>\n",
              "      <td>PUT</td>\n",
              "      <td>NextSong</td>\n",
              "      <td>1537365219000</td>\n",
              "      <td>217</td>\n",
              "      <td>Carbon Y Ramas Secas</td>\n",
              "      <td>200</td>\n",
              "      <td>1538353834000</td>\n",
              "      <td>\"Mozilla/5.0 (Macintosh; Intel Mac OS X 10_9_4...</td>\n",
              "      <td>74</td>\n",
              "    </tr>\n",
              "    <tr>\n",
              "      <th>21</th>\n",
              "      <td>Downhere</td>\n",
              "      <td>Logged In</td>\n",
              "      <td>Colin</td>\n",
              "      <td>M</td>\n",
              "      <td>59</td>\n",
              "      <td>Freeman</td>\n",
              "      <td>223.92118</td>\n",
              "      <td>paid</td>\n",
              "      <td>Bakersfield, CA</td>\n",
              "      <td>PUT</td>\n",
              "      <td>NextSong</td>\n",
              "      <td>1538173362000</td>\n",
              "      <td>29</td>\n",
              "      <td>Here I Am</td>\n",
              "      <td>200</td>\n",
              "      <td>1538353909000</td>\n",
              "      <td>Mozilla/5.0 (Windows NT 6.1; WOW64; rv:31.0) G...</td>\n",
              "      <td>30</td>\n",
              "    </tr>\n",
              "    <tr>\n",
              "      <th>22</th>\n",
              "      <td>Modjo</td>\n",
              "      <td>Logged In</td>\n",
              "      <td>Alexi</td>\n",
              "      <td>F</td>\n",
              "      <td>0</td>\n",
              "      <td>Warren</td>\n",
              "      <td>250.93179</td>\n",
              "      <td>paid</td>\n",
              "      <td>Spokane-Spokane Valley, WA</td>\n",
              "      <td>PUT</td>\n",
              "      <td>NextSong</td>\n",
              "      <td>1532482662000</td>\n",
              "      <td>53</td>\n",
              "      <td>What I Mean</td>\n",
              "      <td>200</td>\n",
              "      <td>1538353930000</td>\n",
              "      <td>Mozilla/5.0 (Windows NT 6.1; WOW64; rv:32.0) G...</td>\n",
              "      <td>54</td>\n",
              "    </tr>\n",
              "    <tr>\n",
              "      <th>23</th>\n",
              "      <td>MÃÂ¶tley CrÃÂ¼e</td>\n",
              "      <td>Logged In</td>\n",
              "      <td>Micah</td>\n",
              "      <td>M</td>\n",
              "      <td>89</td>\n",
              "      <td>Long</td>\n",
              "      <td>231.26159</td>\n",
              "      <td>free</td>\n",
              "      <td>Boston-Cambridge-Newton, MA-NH</td>\n",
              "      <td>PUT</td>\n",
              "      <td>NextSong</td>\n",
              "      <td>1538331630000</td>\n",
              "      <td>8</td>\n",
              "      <td>Sticky Sweet</td>\n",
              "      <td>200</td>\n",
              "      <td>1538353973000</td>\n",
              "      <td>\"Mozilla/5.0 (Windows NT 6.1; WOW64) AppleWebK...</td>\n",
              "      <td>9</td>\n",
              "    </tr>\n",
              "    <tr>\n",
              "      <th>24</th>\n",
              "      <td>David Bowie</td>\n",
              "      <td>Logged In</td>\n",
              "      <td>Ashlynn</td>\n",
              "      <td>F</td>\n",
              "      <td>2</td>\n",
              "      <td>Williams</td>\n",
              "      <td>174.41914</td>\n",
              "      <td>free</td>\n",
              "      <td>Tallahassee, FL</td>\n",
              "      <td>PUT</td>\n",
              "      <td>NextSong</td>\n",
              "      <td>1537365219000</td>\n",
              "      <td>217</td>\n",
              "      <td>Sorrow (1997 Digital Remaster)</td>\n",
              "      <td>200</td>\n",
              "      <td>1538354117000</td>\n",
              "      <td>\"Mozilla/5.0 (Macintosh; Intel Mac OS X 10_9_4...</td>\n",
              "      <td>74</td>\n",
              "    </tr>\n",
              "    <tr>\n",
              "      <th>25</th>\n",
              "      <td>Skillet</td>\n",
              "      <td>Logged In</td>\n",
              "      <td>Colin</td>\n",
              "      <td>M</td>\n",
              "      <td>60</td>\n",
              "      <td>Freeman</td>\n",
              "      <td>233.32526</td>\n",
              "      <td>paid</td>\n",
              "      <td>Bakersfield, CA</td>\n",
              "      <td>PUT</td>\n",
              "      <td>NextSong</td>\n",
              "      <td>1538173362000</td>\n",
              "      <td>29</td>\n",
              "      <td>Rebirthing (Album Version)</td>\n",
              "      <td>200</td>\n",
              "      <td>1538354132000</td>\n",
              "      <td>Mozilla/5.0 (Windows NT 6.1; WOW64; rv:31.0) G...</td>\n",
              "      <td>30</td>\n",
              "    </tr>\n",
              "    <tr>\n",
              "      <th>26</th>\n",
              "      <td>Edwyn Collins</td>\n",
              "      <td>Logged In</td>\n",
              "      <td>Alexi</td>\n",
              "      <td>F</td>\n",
              "      <td>1</td>\n",
              "      <td>Warren</td>\n",
              "      <td>216.84200</td>\n",
              "      <td>paid</td>\n",
              "      <td>Spokane-Spokane Valley, WA</td>\n",
              "      <td>PUT</td>\n",
              "      <td>NextSong</td>\n",
              "      <td>1532482662000</td>\n",
              "      <td>53</td>\n",
              "      <td>You'll Never Know (My Love) (Bovellian 07 Mix)</td>\n",
              "      <td>200</td>\n",
              "      <td>1538354180000</td>\n",
              "      <td>Mozilla/5.0 (Windows NT 6.1; WOW64; rv:32.0) G...</td>\n",
              "      <td>54</td>\n",
              "    </tr>\n",
              "    <tr>\n",
              "      <th>27</th>\n",
              "      <td>Telepopmusik</td>\n",
              "      <td>Logged In</td>\n",
              "      <td>Micah</td>\n",
              "      <td>M</td>\n",
              "      <td>90</td>\n",
              "      <td>Long</td>\n",
              "      <td>241.60608</td>\n",
              "      <td>free</td>\n",
              "      <td>Boston-Cambridge-Newton, MA-NH</td>\n",
              "      <td>PUT</td>\n",
              "      <td>NextSong</td>\n",
              "      <td>1538331630000</td>\n",
              "      <td>8</td>\n",
              "      <td>Smile</td>\n",
              "      <td>200</td>\n",
              "      <td>1538354204000</td>\n",
              "      <td>\"Mozilla/5.0 (Windows NT 6.1; WOW64) AppleWebK...</td>\n",
              "      <td>9</td>\n",
              "    </tr>\n",
              "    <tr>\n",
              "      <th>28</th>\n",
              "      <td>Kings Of Leon</td>\n",
              "      <td>Logged In</td>\n",
              "      <td>Ashlynn</td>\n",
              "      <td>F</td>\n",
              "      <td>3</td>\n",
              "      <td>Williams</td>\n",
              "      <td>307.46077</td>\n",
              "      <td>free</td>\n",
              "      <td>Tallahassee, FL</td>\n",
              "      <td>PUT</td>\n",
              "      <td>NextSong</td>\n",
              "      <td>1537365219000</td>\n",
              "      <td>217</td>\n",
              "      <td>I Want You</td>\n",
              "      <td>200</td>\n",
              "      <td>1538354291000</td>\n",
              "      <td>\"Mozilla/5.0 (Macintosh; Intel Mac OS X 10_9_4...</td>\n",
              "      <td>74</td>\n",
              "    </tr>\n",
              "    <tr>\n",
              "      <th>29</th>\n",
              "      <td>Florence + The Machine</td>\n",
              "      <td>Logged In</td>\n",
              "      <td>Colin</td>\n",
              "      <td>M</td>\n",
              "      <td>61</td>\n",
              "      <td>Freeman</td>\n",
              "      <td>219.66322</td>\n",
              "      <td>paid</td>\n",
              "      <td>Bakersfield, CA</td>\n",
              "      <td>PUT</td>\n",
              "      <td>NextSong</td>\n",
              "      <td>1538173362000</td>\n",
              "      <td>29</td>\n",
              "      <td>Dog Days Are Over (Radio Edit)</td>\n",
              "      <td>200</td>\n",
              "      <td>1538354365000</td>\n",
              "      <td>Mozilla/5.0 (Windows NT 6.1; WOW64; rv:31.0) G...</td>\n",
              "      <td>30</td>\n",
              "    </tr>\n",
              "    <tr>\n",
              "      <th>...</th>\n",
              "      <td>...</td>\n",
              "      <td>...</td>\n",
              "      <td>...</td>\n",
              "      <td>...</td>\n",
              "      <td>...</td>\n",
              "      <td>...</td>\n",
              "      <td>...</td>\n",
              "      <td>...</td>\n",
              "      <td>...</td>\n",
              "      <td>...</td>\n",
              "      <td>...</td>\n",
              "      <td>...</td>\n",
              "      <td>...</td>\n",
              "      <td>...</td>\n",
              "      <td>...</td>\n",
              "      <td>...</td>\n",
              "      <td>...</td>\n",
              "      <td>...</td>\n",
              "    </tr>\n",
              "    <tr>\n",
              "      <th>278124</th>\n",
              "      <td>Muse</td>\n",
              "      <td>Logged In</td>\n",
              "      <td>Emilia</td>\n",
              "      <td>F</td>\n",
              "      <td>13</td>\n",
              "      <td>House</td>\n",
              "      <td>228.93669</td>\n",
              "      <td>paid</td>\n",
              "      <td>New York-Newark-Jersey City, NY-NJ-PA</td>\n",
              "      <td>PUT</td>\n",
              "      <td>NextSong</td>\n",
              "      <td>1538336771000</td>\n",
              "      <td>500</td>\n",
              "      <td>Endlessly</td>\n",
              "      <td>200</td>\n",
              "      <td>1543616883000</td>\n",
              "      <td>Mozilla/5.0 (compatible; MSIE 9.0; Windows NT ...</td>\n",
              "      <td>300011</td>\n",
              "    </tr>\n",
              "    <tr>\n",
              "      <th>278125</th>\n",
              "      <td>Natural Born Deejays</td>\n",
              "      <td>Logged In</td>\n",
              "      <td>Emilia</td>\n",
              "      <td>F</td>\n",
              "      <td>14</td>\n",
              "      <td>House</td>\n",
              "      <td>203.85914</td>\n",
              "      <td>paid</td>\n",
              "      <td>New York-Newark-Jersey City, NY-NJ-PA</td>\n",
              "      <td>PUT</td>\n",
              "      <td>NextSong</td>\n",
              "      <td>1538336771000</td>\n",
              "      <td>500</td>\n",
              "      <td>Breathe</td>\n",
              "      <td>200</td>\n",
              "      <td>1543617111000</td>\n",
              "      <td>Mozilla/5.0 (compatible; MSIE 9.0; Windows NT ...</td>\n",
              "      <td>300011</td>\n",
              "    </tr>\n",
              "    <tr>\n",
              "      <th>278126</th>\n",
              "      <td>None</td>\n",
              "      <td>Logged In</td>\n",
              "      <td>Emilia</td>\n",
              "      <td>F</td>\n",
              "      <td>15</td>\n",
              "      <td>House</td>\n",
              "      <td>NaN</td>\n",
              "      <td>paid</td>\n",
              "      <td>New York-Newark-Jersey City, NY-NJ-PA</td>\n",
              "      <td>GET</td>\n",
              "      <td>Home</td>\n",
              "      <td>1538336771000</td>\n",
              "      <td>500</td>\n",
              "      <td>None</td>\n",
              "      <td>200</td>\n",
              "      <td>1543617317000</td>\n",
              "      <td>Mozilla/5.0 (compatible; MSIE 9.0; Windows NT ...</td>\n",
              "      <td>300011</td>\n",
              "    </tr>\n",
              "    <tr>\n",
              "      <th>278127</th>\n",
              "      <td>Shaggy</td>\n",
              "      <td>Logged In</td>\n",
              "      <td>Emilia</td>\n",
              "      <td>F</td>\n",
              "      <td>16</td>\n",
              "      <td>House</td>\n",
              "      <td>201.37751</td>\n",
              "      <td>paid</td>\n",
              "      <td>New York-Newark-Jersey City, NY-NJ-PA</td>\n",
              "      <td>PUT</td>\n",
              "      <td>NextSong</td>\n",
              "      <td>1538336771000</td>\n",
              "      <td>500</td>\n",
              "      <td>Lucky Day</td>\n",
              "      <td>200</td>\n",
              "      <td>1543617391000</td>\n",
              "      <td>Mozilla/5.0 (compatible; MSIE 9.0; Windows NT ...</td>\n",
              "      <td>300011</td>\n",
              "    </tr>\n",
              "    <tr>\n",
              "      <th>278128</th>\n",
              "      <td>Natiruts</td>\n",
              "      <td>Logged In</td>\n",
              "      <td>Emilia</td>\n",
              "      <td>F</td>\n",
              "      <td>17</td>\n",
              "      <td>House</td>\n",
              "      <td>210.88608</td>\n",
              "      <td>paid</td>\n",
              "      <td>New York-Newark-Jersey City, NY-NJ-PA</td>\n",
              "      <td>PUT</td>\n",
              "      <td>NextSong</td>\n",
              "      <td>1538336771000</td>\n",
              "      <td>500</td>\n",
              "      <td>Jamaica Roots II(Agora E Sempre)</td>\n",
              "      <td>200</td>\n",
              "      <td>1543617592000</td>\n",
              "      <td>Mozilla/5.0 (compatible; MSIE 9.0; Windows NT ...</td>\n",
              "      <td>300011</td>\n",
              "    </tr>\n",
              "    <tr>\n",
              "      <th>278129</th>\n",
              "      <td>In Flames</td>\n",
              "      <td>Logged In</td>\n",
              "      <td>Emilia</td>\n",
              "      <td>F</td>\n",
              "      <td>18</td>\n",
              "      <td>House</td>\n",
              "      <td>217.65179</td>\n",
              "      <td>paid</td>\n",
              "      <td>New York-Newark-Jersey City, NY-NJ-PA</td>\n",
              "      <td>PUT</td>\n",
              "      <td>NextSong</td>\n",
              "      <td>1538336771000</td>\n",
              "      <td>500</td>\n",
              "      <td>Embody the invisible</td>\n",
              "      <td>200</td>\n",
              "      <td>1543617802000</td>\n",
              "      <td>Mozilla/5.0 (compatible; MSIE 9.0; Windows NT ...</td>\n",
              "      <td>300011</td>\n",
              "    </tr>\n",
              "    <tr>\n",
              "      <th>278130</th>\n",
              "      <td>Eminem</td>\n",
              "      <td>Logged In</td>\n",
              "      <td>Emilia</td>\n",
              "      <td>F</td>\n",
              "      <td>19</td>\n",
              "      <td>House</td>\n",
              "      <td>250.82730</td>\n",
              "      <td>paid</td>\n",
              "      <td>New York-Newark-Jersey City, NY-NJ-PA</td>\n",
              "      <td>PUT</td>\n",
              "      <td>NextSong</td>\n",
              "      <td>1538336771000</td>\n",
              "      <td>500</td>\n",
              "      <td>Mockingbird</td>\n",
              "      <td>200</td>\n",
              "      <td>1543618019000</td>\n",
              "      <td>Mozilla/5.0 (compatible; MSIE 9.0; Windows NT ...</td>\n",
              "      <td>300011</td>\n",
              "    </tr>\n",
              "    <tr>\n",
              "      <th>278131</th>\n",
              "      <td>Blink-182</td>\n",
              "      <td>Logged In</td>\n",
              "      <td>Emilia</td>\n",
              "      <td>F</td>\n",
              "      <td>20</td>\n",
              "      <td>House</td>\n",
              "      <td>173.76608</td>\n",
              "      <td>paid</td>\n",
              "      <td>New York-Newark-Jersey City, NY-NJ-PA</td>\n",
              "      <td>PUT</td>\n",
              "      <td>NextSong</td>\n",
              "      <td>1538336771000</td>\n",
              "      <td>500</td>\n",
              "      <td>Feeling This</td>\n",
              "      <td>200</td>\n",
              "      <td>1543618269000</td>\n",
              "      <td>Mozilla/5.0 (compatible; MSIE 9.0; Windows NT ...</td>\n",
              "      <td>300011</td>\n",
              "    </tr>\n",
              "    <tr>\n",
              "      <th>278132</th>\n",
              "      <td>None</td>\n",
              "      <td>Logged In</td>\n",
              "      <td>Emilia</td>\n",
              "      <td>F</td>\n",
              "      <td>21</td>\n",
              "      <td>House</td>\n",
              "      <td>NaN</td>\n",
              "      <td>paid</td>\n",
              "      <td>New York-Newark-Jersey City, NY-NJ-PA</td>\n",
              "      <td>PUT</td>\n",
              "      <td>Thumbs Up</td>\n",
              "      <td>1538336771000</td>\n",
              "      <td>500</td>\n",
              "      <td>None</td>\n",
              "      <td>307</td>\n",
              "      <td>1543618270000</td>\n",
              "      <td>Mozilla/5.0 (compatible; MSIE 9.0; Windows NT ...</td>\n",
              "      <td>300011</td>\n",
              "    </tr>\n",
              "    <tr>\n",
              "      <th>278133</th>\n",
              "      <td>Jason Mraz</td>\n",
              "      <td>Logged In</td>\n",
              "      <td>Emilia</td>\n",
              "      <td>F</td>\n",
              "      <td>22</td>\n",
              "      <td>House</td>\n",
              "      <td>218.40934</td>\n",
              "      <td>paid</td>\n",
              "      <td>New York-Newark-Jersey City, NY-NJ-PA</td>\n",
              "      <td>PUT</td>\n",
              "      <td>NextSong</td>\n",
              "      <td>1538336771000</td>\n",
              "      <td>500</td>\n",
              "      <td>Geek In The Pink [Phil Tan Remix]</td>\n",
              "      <td>200</td>\n",
              "      <td>1543618442000</td>\n",
              "      <td>Mozilla/5.0 (compatible; MSIE 9.0; Windows NT ...</td>\n",
              "      <td>300011</td>\n",
              "    </tr>\n",
              "    <tr>\n",
              "      <th>278134</th>\n",
              "      <td>Jessica Lea Mayfield</td>\n",
              "      <td>Logged In</td>\n",
              "      <td>Emilia</td>\n",
              "      <td>F</td>\n",
              "      <td>23</td>\n",
              "      <td>House</td>\n",
              "      <td>180.74077</td>\n",
              "      <td>paid</td>\n",
              "      <td>New York-Newark-Jersey City, NY-NJ-PA</td>\n",
              "      <td>PUT</td>\n",
              "      <td>NextSong</td>\n",
              "      <td>1538336771000</td>\n",
              "      <td>500</td>\n",
              "      <td>Greater Heights</td>\n",
              "      <td>200</td>\n",
              "      <td>1543618660000</td>\n",
              "      <td>Mozilla/5.0 (compatible; MSIE 9.0; Windows NT ...</td>\n",
              "      <td>300011</td>\n",
              "    </tr>\n",
              "    <tr>\n",
              "      <th>278135</th>\n",
              "      <td>Jimi Hendrix</td>\n",
              "      <td>Logged In</td>\n",
              "      <td>Emilia</td>\n",
              "      <td>F</td>\n",
              "      <td>24</td>\n",
              "      <td>House</td>\n",
              "      <td>380.68200</td>\n",
              "      <td>paid</td>\n",
              "      <td>New York-Newark-Jersey City, NY-NJ-PA</td>\n",
              "      <td>PUT</td>\n",
              "      <td>NextSong</td>\n",
              "      <td>1538336771000</td>\n",
              "      <td>500</td>\n",
              "      <td>Bleeding Heart</td>\n",
              "      <td>200</td>\n",
              "      <td>1543618840000</td>\n",
              "      <td>Mozilla/5.0 (compatible; MSIE 9.0; Windows NT ...</td>\n",
              "      <td>300011</td>\n",
              "    </tr>\n",
              "    <tr>\n",
              "      <th>278136</th>\n",
              "      <td>None</td>\n",
              "      <td>Logged In</td>\n",
              "      <td>Emilia</td>\n",
              "      <td>F</td>\n",
              "      <td>25</td>\n",
              "      <td>House</td>\n",
              "      <td>NaN</td>\n",
              "      <td>paid</td>\n",
              "      <td>New York-Newark-Jersey City, NY-NJ-PA</td>\n",
              "      <td>PUT</td>\n",
              "      <td>Add Friend</td>\n",
              "      <td>1538336771000</td>\n",
              "      <td>500</td>\n",
              "      <td>None</td>\n",
              "      <td>307</td>\n",
              "      <td>1543618841000</td>\n",
              "      <td>Mozilla/5.0 (compatible; MSIE 9.0; Windows NT ...</td>\n",
              "      <td>300011</td>\n",
              "    </tr>\n",
              "    <tr>\n",
              "      <th>278137</th>\n",
              "      <td>Jamie Foxx featuring Twista</td>\n",
              "      <td>Logged In</td>\n",
              "      <td>Emilia</td>\n",
              "      <td>F</td>\n",
              "      <td>26</td>\n",
              "      <td>House</td>\n",
              "      <td>258.79465</td>\n",
              "      <td>paid</td>\n",
              "      <td>New York-Newark-Jersey City, NY-NJ-PA</td>\n",
              "      <td>PUT</td>\n",
              "      <td>NextSong</td>\n",
              "      <td>1538336771000</td>\n",
              "      <td>500</td>\n",
              "      <td>DJ Play A Love Song</td>\n",
              "      <td>200</td>\n",
              "      <td>1543619220000</td>\n",
              "      <td>Mozilla/5.0 (compatible; MSIE 9.0; Windows NT ...</td>\n",
              "      <td>300011</td>\n",
              "    </tr>\n",
              "    <tr>\n",
              "      <th>278138</th>\n",
              "      <td>Aaliyah</td>\n",
              "      <td>Logged In</td>\n",
              "      <td>Emilia</td>\n",
              "      <td>F</td>\n",
              "      <td>27</td>\n",
              "      <td>House</td>\n",
              "      <td>228.28363</td>\n",
              "      <td>paid</td>\n",
              "      <td>New York-Newark-Jersey City, NY-NJ-PA</td>\n",
              "      <td>PUT</td>\n",
              "      <td>NextSong</td>\n",
              "      <td>1538336771000</td>\n",
              "      <td>500</td>\n",
              "      <td>More Than A Woman</td>\n",
              "      <td>200</td>\n",
              "      <td>1543619478000</td>\n",
              "      <td>Mozilla/5.0 (compatible; MSIE 9.0; Windows NT ...</td>\n",
              "      <td>300011</td>\n",
              "    </tr>\n",
              "    <tr>\n",
              "      <th>278139</th>\n",
              "      <td>None</td>\n",
              "      <td>Logged In</td>\n",
              "      <td>Emilia</td>\n",
              "      <td>F</td>\n",
              "      <td>28</td>\n",
              "      <td>House</td>\n",
              "      <td>NaN</td>\n",
              "      <td>paid</td>\n",
              "      <td>New York-Newark-Jersey City, NY-NJ-PA</td>\n",
              "      <td>GET</td>\n",
              "      <td>Home</td>\n",
              "      <td>1538336771000</td>\n",
              "      <td>500</td>\n",
              "      <td>None</td>\n",
              "      <td>200</td>\n",
              "      <td>1543619556000</td>\n",
              "      <td>Mozilla/5.0 (compatible; MSIE 9.0; Windows NT ...</td>\n",
              "      <td>300011</td>\n",
              "    </tr>\n",
              "    <tr>\n",
              "      <th>278140</th>\n",
              "      <td>Hermano</td>\n",
              "      <td>Logged In</td>\n",
              "      <td>Emilia</td>\n",
              "      <td>F</td>\n",
              "      <td>29</td>\n",
              "      <td>House</td>\n",
              "      <td>115.90485</td>\n",
              "      <td>paid</td>\n",
              "      <td>New York-Newark-Jersey City, NY-NJ-PA</td>\n",
              "      <td>PUT</td>\n",
              "      <td>NextSong</td>\n",
              "      <td>1538336771000</td>\n",
              "      <td>500</td>\n",
              "      <td>Letters From Madrid</td>\n",
              "      <td>200</td>\n",
              "      <td>1543619706000</td>\n",
              "      <td>Mozilla/5.0 (compatible; MSIE 9.0; Windows NT ...</td>\n",
              "      <td>300011</td>\n",
              "    </tr>\n",
              "    <tr>\n",
              "      <th>278141</th>\n",
              "      <td>Saliva</td>\n",
              "      <td>Logged In</td>\n",
              "      <td>Emilia</td>\n",
              "      <td>F</td>\n",
              "      <td>30</td>\n",
              "      <td>House</td>\n",
              "      <td>222.56281</td>\n",
              "      <td>paid</td>\n",
              "      <td>New York-Newark-Jersey City, NY-NJ-PA</td>\n",
              "      <td>PUT</td>\n",
              "      <td>NextSong</td>\n",
              "      <td>1538336771000</td>\n",
              "      <td>500</td>\n",
              "      <td>King Of The Stereo</td>\n",
              "      <td>200</td>\n",
              "      <td>1543619821000</td>\n",
              "      <td>Mozilla/5.0 (compatible; MSIE 9.0; Windows NT ...</td>\n",
              "      <td>300011</td>\n",
              "    </tr>\n",
              "    <tr>\n",
              "      <th>278142</th>\n",
              "      <td>Lupe Fiasco</td>\n",
              "      <td>Logged In</td>\n",
              "      <td>Emilia</td>\n",
              "      <td>F</td>\n",
              "      <td>31</td>\n",
              "      <td>House</td>\n",
              "      <td>273.94567</td>\n",
              "      <td>paid</td>\n",
              "      <td>New York-Newark-Jersey City, NY-NJ-PA</td>\n",
              "      <td>PUT</td>\n",
              "      <td>NextSong</td>\n",
              "      <td>1538336771000</td>\n",
              "      <td>500</td>\n",
              "      <td>Shining Down [feat. Matthew Santos] (Amended A...</td>\n",
              "      <td>200</td>\n",
              "      <td>1543620043000</td>\n",
              "      <td>Mozilla/5.0 (compatible; MSIE 9.0; Windows NT ...</td>\n",
              "      <td>300011</td>\n",
              "    </tr>\n",
              "    <tr>\n",
              "      <th>278143</th>\n",
              "      <td>Harmonia</td>\n",
              "      <td>Logged In</td>\n",
              "      <td>Emilia</td>\n",
              "      <td>F</td>\n",
              "      <td>32</td>\n",
              "      <td>House</td>\n",
              "      <td>655.77751</td>\n",
              "      <td>paid</td>\n",
              "      <td>New York-Newark-Jersey City, NY-NJ-PA</td>\n",
              "      <td>PUT</td>\n",
              "      <td>NextSong</td>\n",
              "      <td>1538336771000</td>\n",
              "      <td>500</td>\n",
              "      <td>Sehr kosmisch</td>\n",
              "      <td>200</td>\n",
              "      <td>1543620316000</td>\n",
              "      <td>Mozilla/5.0 (compatible; MSIE 9.0; Windows NT ...</td>\n",
              "      <td>300011</td>\n",
              "    </tr>\n",
              "    <tr>\n",
              "      <th>278144</th>\n",
              "      <td>The Rolling Stones</td>\n",
              "      <td>Logged In</td>\n",
              "      <td>Emilia</td>\n",
              "      <td>F</td>\n",
              "      <td>33</td>\n",
              "      <td>House</td>\n",
              "      <td>225.30567</td>\n",
              "      <td>paid</td>\n",
              "      <td>New York-Newark-Jersey City, NY-NJ-PA</td>\n",
              "      <td>PUT</td>\n",
              "      <td>NextSong</td>\n",
              "      <td>1538336771000</td>\n",
              "      <td>500</td>\n",
              "      <td>Tops</td>\n",
              "      <td>200</td>\n",
              "      <td>1543620971000</td>\n",
              "      <td>Mozilla/5.0 (compatible; MSIE 9.0; Windows NT ...</td>\n",
              "      <td>300011</td>\n",
              "    </tr>\n",
              "    <tr>\n",
              "      <th>278145</th>\n",
              "      <td>Alejandro Sanz</td>\n",
              "      <td>Logged In</td>\n",
              "      <td>Emilia</td>\n",
              "      <td>F</td>\n",
              "      <td>34</td>\n",
              "      <td>House</td>\n",
              "      <td>241.52771</td>\n",
              "      <td>paid</td>\n",
              "      <td>New York-Newark-Jersey City, NY-NJ-PA</td>\n",
              "      <td>PUT</td>\n",
              "      <td>NextSong</td>\n",
              "      <td>1538336771000</td>\n",
              "      <td>500</td>\n",
              "      <td>Tu no tienes alma</td>\n",
              "      <td>200</td>\n",
              "      <td>1543621196000</td>\n",
              "      <td>Mozilla/5.0 (compatible; MSIE 9.0; Windows NT ...</td>\n",
              "      <td>300011</td>\n",
              "    </tr>\n",
              "    <tr>\n",
              "      <th>278146</th>\n",
              "      <td>Valley of the Giants</td>\n",
              "      <td>Logged In</td>\n",
              "      <td>Emilia</td>\n",
              "      <td>F</td>\n",
              "      <td>35</td>\n",
              "      <td>House</td>\n",
              "      <td>420.46649</td>\n",
              "      <td>paid</td>\n",
              "      <td>New York-Newark-Jersey City, NY-NJ-PA</td>\n",
              "      <td>PUT</td>\n",
              "      <td>NextSong</td>\n",
              "      <td>1538336771000</td>\n",
              "      <td>500</td>\n",
              "      <td>Bala Bay Inn</td>\n",
              "      <td>200</td>\n",
              "      <td>1543621437000</td>\n",
              "      <td>Mozilla/5.0 (compatible; MSIE 9.0; Windows NT ...</td>\n",
              "      <td>300011</td>\n",
              "    </tr>\n",
              "    <tr>\n",
              "      <th>278147</th>\n",
              "      <td>None</td>\n",
              "      <td>Logged In</td>\n",
              "      <td>Emilia</td>\n",
              "      <td>F</td>\n",
              "      <td>36</td>\n",
              "      <td>House</td>\n",
              "      <td>NaN</td>\n",
              "      <td>paid</td>\n",
              "      <td>New York-Newark-Jersey City, NY-NJ-PA</td>\n",
              "      <td>GET</td>\n",
              "      <td>Home</td>\n",
              "      <td>1538336771000</td>\n",
              "      <td>500</td>\n",
              "      <td>None</td>\n",
              "      <td>200</td>\n",
              "      <td>1543621485000</td>\n",
              "      <td>Mozilla/5.0 (compatible; MSIE 9.0; Windows NT ...</td>\n",
              "      <td>300011</td>\n",
              "    </tr>\n",
              "    <tr>\n",
              "      <th>278148</th>\n",
              "      <td>Olive</td>\n",
              "      <td>Logged In</td>\n",
              "      <td>Emilia</td>\n",
              "      <td>F</td>\n",
              "      <td>37</td>\n",
              "      <td>House</td>\n",
              "      <td>264.12363</td>\n",
              "      <td>paid</td>\n",
              "      <td>New York-Newark-Jersey City, NY-NJ-PA</td>\n",
              "      <td>PUT</td>\n",
              "      <td>NextSong</td>\n",
              "      <td>1538336771000</td>\n",
              "      <td>500</td>\n",
              "      <td>You're Not Alone</td>\n",
              "      <td>200</td>\n",
              "      <td>1543621857000</td>\n",
              "      <td>Mozilla/5.0 (compatible; MSIE 9.0; Windows NT ...</td>\n",
              "      <td>300011</td>\n",
              "    </tr>\n",
              "    <tr>\n",
              "      <th>278149</th>\n",
              "      <td>Iron Maiden</td>\n",
              "      <td>Logged In</td>\n",
              "      <td>Emilia</td>\n",
              "      <td>F</td>\n",
              "      <td>38</td>\n",
              "      <td>House</td>\n",
              "      <td>258.66404</td>\n",
              "      <td>paid</td>\n",
              "      <td>New York-Newark-Jersey City, NY-NJ-PA</td>\n",
              "      <td>PUT</td>\n",
              "      <td>NextSong</td>\n",
              "      <td>1538336771000</td>\n",
              "      <td>500</td>\n",
              "      <td>Murders In The Rue Morgue (1998 Digital Remaster)</td>\n",
              "      <td>200</td>\n",
              "      <td>1543622121000</td>\n",
              "      <td>Mozilla/5.0 (compatible; MSIE 9.0; Windows NT ...</td>\n",
              "      <td>300011</td>\n",
              "    </tr>\n",
              "    <tr>\n",
              "      <th>278150</th>\n",
              "      <td>None</td>\n",
              "      <td>Logged In</td>\n",
              "      <td>Emilia</td>\n",
              "      <td>F</td>\n",
              "      <td>39</td>\n",
              "      <td>House</td>\n",
              "      <td>NaN</td>\n",
              "      <td>paid</td>\n",
              "      <td>New York-Newark-Jersey City, NY-NJ-PA</td>\n",
              "      <td>PUT</td>\n",
              "      <td>Logout</td>\n",
              "      <td>1538336771000</td>\n",
              "      <td>500</td>\n",
              "      <td>None</td>\n",
              "      <td>307</td>\n",
              "      <td>1543622122000</td>\n",
              "      <td>Mozilla/5.0 (compatible; MSIE 9.0; Windows NT ...</td>\n",
              "      <td>300011</td>\n",
              "    </tr>\n",
              "    <tr>\n",
              "      <th>278151</th>\n",
              "      <td>None</td>\n",
              "      <td>Logged In</td>\n",
              "      <td>Emilia</td>\n",
              "      <td>F</td>\n",
              "      <td>43</td>\n",
              "      <td>House</td>\n",
              "      <td>NaN</td>\n",
              "      <td>paid</td>\n",
              "      <td>New York-Newark-Jersey City, NY-NJ-PA</td>\n",
              "      <td>GET</td>\n",
              "      <td>Home</td>\n",
              "      <td>1538336771000</td>\n",
              "      <td>500</td>\n",
              "      <td>None</td>\n",
              "      <td>200</td>\n",
              "      <td>1543622248000</td>\n",
              "      <td>Mozilla/5.0 (compatible; MSIE 9.0; Windows NT ...</td>\n",
              "      <td>300011</td>\n",
              "    </tr>\n",
              "    <tr>\n",
              "      <th>278152</th>\n",
              "      <td>None</td>\n",
              "      <td>Logged In</td>\n",
              "      <td>Emilia</td>\n",
              "      <td>F</td>\n",
              "      <td>44</td>\n",
              "      <td>House</td>\n",
              "      <td>NaN</td>\n",
              "      <td>paid</td>\n",
              "      <td>New York-Newark-Jersey City, NY-NJ-PA</td>\n",
              "      <td>GET</td>\n",
              "      <td>About</td>\n",
              "      <td>1538336771000</td>\n",
              "      <td>500</td>\n",
              "      <td>None</td>\n",
              "      <td>200</td>\n",
              "      <td>1543622398000</td>\n",
              "      <td>Mozilla/5.0 (compatible; MSIE 9.0; Windows NT ...</td>\n",
              "      <td>300011</td>\n",
              "    </tr>\n",
              "    <tr>\n",
              "      <th>278153</th>\n",
              "      <td>Camera Obscura</td>\n",
              "      <td>Logged In</td>\n",
              "      <td>Emilia</td>\n",
              "      <td>F</td>\n",
              "      <td>45</td>\n",
              "      <td>House</td>\n",
              "      <td>170.89261</td>\n",
              "      <td>paid</td>\n",
              "      <td>New York-Newark-Jersey City, NY-NJ-PA</td>\n",
              "      <td>PUT</td>\n",
              "      <td>NextSong</td>\n",
              "      <td>1538336771000</td>\n",
              "      <td>500</td>\n",
              "      <td>The Sun On His Back</td>\n",
              "      <td>200</td>\n",
              "      <td>1543622411000</td>\n",
              "      <td>Mozilla/5.0 (compatible; MSIE 9.0; Windows NT ...</td>\n",
              "      <td>300011</td>\n",
              "    </tr>\n",
              "  </tbody>\n",
              "</table>\n",
              "<p>278154 rows × 18 columns</p>\n",
              "</div>"
            ],
            "text/plain": [
              "                                    artist       auth firstName gender  \\\n",
              "0                           Martha Tilston  Logged In     Colin      M   \n",
              "1                         Five Iron Frenzy  Logged In     Micah      M   \n",
              "2                             Adam Lambert  Logged In     Colin      M   \n",
              "3                                   Enigma  Logged In     Micah      M   \n",
              "4                                Daft Punk  Logged In     Colin      M   \n",
              "5                 The All-American Rejects  Logged In     Micah      M   \n",
              "6            The Velvet Underground / Nico  Logged In     Micah      M   \n",
              "7                             Starflyer 59  Logged In     Colin      M   \n",
              "8                                     None  Logged In     Colin      M   \n",
              "9                                 Frumpies  Logged In     Colin      M   \n",
              "10                            Britt Nicole  Logged In     Micah      M   \n",
              "11                                    None  Logged In     Micah      M   \n",
              "12      Edward Sharpe & The Magnetic Zeros  Logged In     Colin      M   \n",
              "13                                   Tesla  Logged In     Micah      M   \n",
              "14                                    None  Logged In     Micah      M   \n",
              "15                             Stan Mosley  Logged In     Colin      M   \n",
              "16                  Florence + The Machine  Logged In     Micah      M   \n",
              "17                       Tokyo Police Club  Logged In   Ashlynn      F   \n",
              "18                                 Orishas  Logged In     Colin      M   \n",
              "19                                 Ratatat  Logged In     Micah      M   \n",
              "20                           Manolo Garcia  Logged In   Ashlynn      F   \n",
              "21                                Downhere  Logged In     Colin      M   \n",
              "22                                   Modjo  Logged In     Alexi      F   \n",
              "23                       MÃÂ¶tley CrÃÂ¼e  Logged In     Micah      M   \n",
              "24                             David Bowie  Logged In   Ashlynn      F   \n",
              "25                                 Skillet  Logged In     Colin      M   \n",
              "26                           Edwyn Collins  Logged In     Alexi      F   \n",
              "27                            Telepopmusik  Logged In     Micah      M   \n",
              "28                           Kings Of Leon  Logged In   Ashlynn      F   \n",
              "29                  Florence + The Machine  Logged In     Colin      M   \n",
              "...                                    ...        ...       ...    ...   \n",
              "278124                                Muse  Logged In    Emilia      F   \n",
              "278125                Natural Born Deejays  Logged In    Emilia      F   \n",
              "278126                                None  Logged In    Emilia      F   \n",
              "278127                              Shaggy  Logged In    Emilia      F   \n",
              "278128                            Natiruts  Logged In    Emilia      F   \n",
              "278129                           In Flames  Logged In    Emilia      F   \n",
              "278130                              Eminem  Logged In    Emilia      F   \n",
              "278131                           Blink-182  Logged In    Emilia      F   \n",
              "278132                                None  Logged In    Emilia      F   \n",
              "278133                          Jason Mraz  Logged In    Emilia      F   \n",
              "278134                Jessica Lea Mayfield  Logged In    Emilia      F   \n",
              "278135                        Jimi Hendrix  Logged In    Emilia      F   \n",
              "278136                                None  Logged In    Emilia      F   \n",
              "278137         Jamie Foxx featuring Twista  Logged In    Emilia      F   \n",
              "278138                             Aaliyah  Logged In    Emilia      F   \n",
              "278139                                None  Logged In    Emilia      F   \n",
              "278140                             Hermano  Logged In    Emilia      F   \n",
              "278141                              Saliva  Logged In    Emilia      F   \n",
              "278142                         Lupe Fiasco  Logged In    Emilia      F   \n",
              "278143                            Harmonia  Logged In    Emilia      F   \n",
              "278144                  The Rolling Stones  Logged In    Emilia      F   \n",
              "278145                      Alejandro Sanz  Logged In    Emilia      F   \n",
              "278146                Valley of the Giants  Logged In    Emilia      F   \n",
              "278147                                None  Logged In    Emilia      F   \n",
              "278148                               Olive  Logged In    Emilia      F   \n",
              "278149                         Iron Maiden  Logged In    Emilia      F   \n",
              "278150                                None  Logged In    Emilia      F   \n",
              "278151                                None  Logged In    Emilia      F   \n",
              "278152                                None  Logged In    Emilia      F   \n",
              "278153                      Camera Obscura  Logged In    Emilia      F   \n",
              "\n",
              "        itemInSession  lastName     length level  \\\n",
              "0                  50   Freeman  277.89016  paid   \n",
              "1                  79      Long  236.09424  free   \n",
              "2                  51   Freeman  282.82730  paid   \n",
              "3                  80      Long  262.71302  free   \n",
              "4                  52   Freeman  223.60771  paid   \n",
              "5                  81      Long  208.29995  free   \n",
              "6                  82      Long  260.46649  free   \n",
              "7                  53   Freeman  185.44281  paid   \n",
              "8                  54   Freeman        NaN  paid   \n",
              "9                  55   Freeman  134.47791  paid   \n",
              "10                 83      Long  229.87710  free   \n",
              "11                 84      Long        NaN  free   \n",
              "12                 56   Freeman  223.58159  paid   \n",
              "13                 85      Long  201.06404  free   \n",
              "14                 86      Long        NaN  free   \n",
              "15                 57   Freeman  246.69995  paid   \n",
              "16                 87      Long  168.64608  free   \n",
              "17                  0  Williams  166.11220  free   \n",
              "18                 58   Freeman  222.22322  paid   \n",
              "19                 88      Long  229.77261  free   \n",
              "20                  1  Williams  283.74159  free   \n",
              "21                 59   Freeman  223.92118  paid   \n",
              "22                  0    Warren  250.93179  paid   \n",
              "23                 89      Long  231.26159  free   \n",
              "24                  2  Williams  174.41914  free   \n",
              "25                 60   Freeman  233.32526  paid   \n",
              "26                  1    Warren  216.84200  paid   \n",
              "27                 90      Long  241.60608  free   \n",
              "28                  3  Williams  307.46077  free   \n",
              "29                 61   Freeman  219.66322  paid   \n",
              "...               ...       ...        ...   ...   \n",
              "278124             13     House  228.93669  paid   \n",
              "278125             14     House  203.85914  paid   \n",
              "278126             15     House        NaN  paid   \n",
              "278127             16     House  201.37751  paid   \n",
              "278128             17     House  210.88608  paid   \n",
              "278129             18     House  217.65179  paid   \n",
              "278130             19     House  250.82730  paid   \n",
              "278131             20     House  173.76608  paid   \n",
              "278132             21     House        NaN  paid   \n",
              "278133             22     House  218.40934  paid   \n",
              "278134             23     House  180.74077  paid   \n",
              "278135             24     House  380.68200  paid   \n",
              "278136             25     House        NaN  paid   \n",
              "278137             26     House  258.79465  paid   \n",
              "278138             27     House  228.28363  paid   \n",
              "278139             28     House        NaN  paid   \n",
              "278140             29     House  115.90485  paid   \n",
              "278141             30     House  222.56281  paid   \n",
              "278142             31     House  273.94567  paid   \n",
              "278143             32     House  655.77751  paid   \n",
              "278144             33     House  225.30567  paid   \n",
              "278145             34     House  241.52771  paid   \n",
              "278146             35     House  420.46649  paid   \n",
              "278147             36     House        NaN  paid   \n",
              "278148             37     House  264.12363  paid   \n",
              "278149             38     House  258.66404  paid   \n",
              "278150             39     House        NaN  paid   \n",
              "278151             43     House        NaN  paid   \n",
              "278152             44     House        NaN  paid   \n",
              "278153             45     House  170.89261  paid   \n",
              "\n",
              "                                     location method             page  \\\n",
              "0                             Bakersfield, CA    PUT         NextSong   \n",
              "1              Boston-Cambridge-Newton, MA-NH    PUT         NextSong   \n",
              "2                             Bakersfield, CA    PUT         NextSong   \n",
              "3              Boston-Cambridge-Newton, MA-NH    PUT         NextSong   \n",
              "4                             Bakersfield, CA    PUT         NextSong   \n",
              "5              Boston-Cambridge-Newton, MA-NH    PUT         NextSong   \n",
              "6              Boston-Cambridge-Newton, MA-NH    PUT         NextSong   \n",
              "7                             Bakersfield, CA    PUT         NextSong   \n",
              "8                             Bakersfield, CA    PUT  Add to Playlist   \n",
              "9                             Bakersfield, CA    PUT         NextSong   \n",
              "10             Boston-Cambridge-Newton, MA-NH    PUT         NextSong   \n",
              "11             Boston-Cambridge-Newton, MA-NH    GET      Roll Advert   \n",
              "12                            Bakersfield, CA    PUT         NextSong   \n",
              "13             Boston-Cambridge-Newton, MA-NH    PUT         NextSong   \n",
              "14             Boston-Cambridge-Newton, MA-NH    PUT        Thumbs Up   \n",
              "15                            Bakersfield, CA    PUT         NextSong   \n",
              "16             Boston-Cambridge-Newton, MA-NH    PUT         NextSong   \n",
              "17                            Tallahassee, FL    PUT         NextSong   \n",
              "18                            Bakersfield, CA    PUT         NextSong   \n",
              "19             Boston-Cambridge-Newton, MA-NH    PUT         NextSong   \n",
              "20                            Tallahassee, FL    PUT         NextSong   \n",
              "21                            Bakersfield, CA    PUT         NextSong   \n",
              "22                 Spokane-Spokane Valley, WA    PUT         NextSong   \n",
              "23             Boston-Cambridge-Newton, MA-NH    PUT         NextSong   \n",
              "24                            Tallahassee, FL    PUT         NextSong   \n",
              "25                            Bakersfield, CA    PUT         NextSong   \n",
              "26                 Spokane-Spokane Valley, WA    PUT         NextSong   \n",
              "27             Boston-Cambridge-Newton, MA-NH    PUT         NextSong   \n",
              "28                            Tallahassee, FL    PUT         NextSong   \n",
              "29                            Bakersfield, CA    PUT         NextSong   \n",
              "...                                       ...    ...              ...   \n",
              "278124  New York-Newark-Jersey City, NY-NJ-PA    PUT         NextSong   \n",
              "278125  New York-Newark-Jersey City, NY-NJ-PA    PUT         NextSong   \n",
              "278126  New York-Newark-Jersey City, NY-NJ-PA    GET             Home   \n",
              "278127  New York-Newark-Jersey City, NY-NJ-PA    PUT         NextSong   \n",
              "278128  New York-Newark-Jersey City, NY-NJ-PA    PUT         NextSong   \n",
              "278129  New York-Newark-Jersey City, NY-NJ-PA    PUT         NextSong   \n",
              "278130  New York-Newark-Jersey City, NY-NJ-PA    PUT         NextSong   \n",
              "278131  New York-Newark-Jersey City, NY-NJ-PA    PUT         NextSong   \n",
              "278132  New York-Newark-Jersey City, NY-NJ-PA    PUT        Thumbs Up   \n",
              "278133  New York-Newark-Jersey City, NY-NJ-PA    PUT         NextSong   \n",
              "278134  New York-Newark-Jersey City, NY-NJ-PA    PUT         NextSong   \n",
              "278135  New York-Newark-Jersey City, NY-NJ-PA    PUT         NextSong   \n",
              "278136  New York-Newark-Jersey City, NY-NJ-PA    PUT       Add Friend   \n",
              "278137  New York-Newark-Jersey City, NY-NJ-PA    PUT         NextSong   \n",
              "278138  New York-Newark-Jersey City, NY-NJ-PA    PUT         NextSong   \n",
              "278139  New York-Newark-Jersey City, NY-NJ-PA    GET             Home   \n",
              "278140  New York-Newark-Jersey City, NY-NJ-PA    PUT         NextSong   \n",
              "278141  New York-Newark-Jersey City, NY-NJ-PA    PUT         NextSong   \n",
              "278142  New York-Newark-Jersey City, NY-NJ-PA    PUT         NextSong   \n",
              "278143  New York-Newark-Jersey City, NY-NJ-PA    PUT         NextSong   \n",
              "278144  New York-Newark-Jersey City, NY-NJ-PA    PUT         NextSong   \n",
              "278145  New York-Newark-Jersey City, NY-NJ-PA    PUT         NextSong   \n",
              "278146  New York-Newark-Jersey City, NY-NJ-PA    PUT         NextSong   \n",
              "278147  New York-Newark-Jersey City, NY-NJ-PA    GET             Home   \n",
              "278148  New York-Newark-Jersey City, NY-NJ-PA    PUT         NextSong   \n",
              "278149  New York-Newark-Jersey City, NY-NJ-PA    PUT         NextSong   \n",
              "278150  New York-Newark-Jersey City, NY-NJ-PA    PUT           Logout   \n",
              "278151  New York-Newark-Jersey City, NY-NJ-PA    GET             Home   \n",
              "278152  New York-Newark-Jersey City, NY-NJ-PA    GET            About   \n",
              "278153  New York-Newark-Jersey City, NY-NJ-PA    PUT         NextSong   \n",
              "\n",
              "         registration  sessionId  \\\n",
              "0       1538173362000         29   \n",
              "1       1538331630000          8   \n",
              "2       1538173362000         29   \n",
              "3       1538331630000          8   \n",
              "4       1538173362000         29   \n",
              "5       1538331630000          8   \n",
              "6       1538331630000          8   \n",
              "7       1538173362000         29   \n",
              "8       1538173362000         29   \n",
              "9       1538173362000         29   \n",
              "10      1538331630000          8   \n",
              "11      1538331630000          8   \n",
              "12      1538173362000         29   \n",
              "13      1538331630000          8   \n",
              "14      1538331630000          8   \n",
              "15      1538173362000         29   \n",
              "16      1538331630000          8   \n",
              "17      1537365219000        217   \n",
              "18      1538173362000         29   \n",
              "19      1538331630000          8   \n",
              "20      1537365219000        217   \n",
              "21      1538173362000         29   \n",
              "22      1532482662000         53   \n",
              "23      1538331630000          8   \n",
              "24      1537365219000        217   \n",
              "25      1538173362000         29   \n",
              "26      1532482662000         53   \n",
              "27      1538331630000          8   \n",
              "28      1537365219000        217   \n",
              "29      1538173362000         29   \n",
              "...               ...        ...   \n",
              "278124  1538336771000        500   \n",
              "278125  1538336771000        500   \n",
              "278126  1538336771000        500   \n",
              "278127  1538336771000        500   \n",
              "278128  1538336771000        500   \n",
              "278129  1538336771000        500   \n",
              "278130  1538336771000        500   \n",
              "278131  1538336771000        500   \n",
              "278132  1538336771000        500   \n",
              "278133  1538336771000        500   \n",
              "278134  1538336771000        500   \n",
              "278135  1538336771000        500   \n",
              "278136  1538336771000        500   \n",
              "278137  1538336771000        500   \n",
              "278138  1538336771000        500   \n",
              "278139  1538336771000        500   \n",
              "278140  1538336771000        500   \n",
              "278141  1538336771000        500   \n",
              "278142  1538336771000        500   \n",
              "278143  1538336771000        500   \n",
              "278144  1538336771000        500   \n",
              "278145  1538336771000        500   \n",
              "278146  1538336771000        500   \n",
              "278147  1538336771000        500   \n",
              "278148  1538336771000        500   \n",
              "278149  1538336771000        500   \n",
              "278150  1538336771000        500   \n",
              "278151  1538336771000        500   \n",
              "278152  1538336771000        500   \n",
              "278153  1538336771000        500   \n",
              "\n",
              "                                                     song  status  \\\n",
              "0                                               Rockpools     200   \n",
              "1                                                  Canada     200   \n",
              "2                                       Time For Miracles     200   \n",
              "3                             Knocking On Forbidden Doors     200   \n",
              "4                           Harder Better Faster Stronger     200   \n",
              "5                                          Don't Leave Me     200   \n",
              "6                                             Run Run Run     200   \n",
              "7                          Passengers (Old Album Version)     200   \n",
              "8                                                    None     200   \n",
              "9                                              Fuck Kitty     200   \n",
              "10                                      Walk On The Water     200   \n",
              "11                                                   None     200   \n",
              "12                                                   Jade     200   \n",
              "13                                         Gettin' Better     200   \n",
              "14                                                   None     307   \n",
              "15                                      So-Called Friends     200   \n",
              "16                                    You've Got The Love     200   \n",
              "17                                   Citizens Of Tomorrow     200   \n",
              "18                                              Represent     200   \n",
              "19                                                 Swisha     200   \n",
              "20                                   Carbon Y Ramas Secas     200   \n",
              "21                                              Here I Am     200   \n",
              "22                                            What I Mean     200   \n",
              "23                                           Sticky Sweet     200   \n",
              "24                         Sorrow (1997 Digital Remaster)     200   \n",
              "25                             Rebirthing (Album Version)     200   \n",
              "26         You'll Never Know (My Love) (Bovellian 07 Mix)     200   \n",
              "27                                                  Smile     200   \n",
              "28                                             I Want You     200   \n",
              "29                         Dog Days Are Over (Radio Edit)     200   \n",
              "...                                                   ...     ...   \n",
              "278124                                          Endlessly     200   \n",
              "278125                                            Breathe     200   \n",
              "278126                                               None     200   \n",
              "278127                                          Lucky Day     200   \n",
              "278128                   Jamaica Roots II(Agora E Sempre)     200   \n",
              "278129                               Embody the invisible     200   \n",
              "278130                                        Mockingbird     200   \n",
              "278131                                       Feeling This     200   \n",
              "278132                                               None     307   \n",
              "278133                  Geek In The Pink [Phil Tan Remix]     200   \n",
              "278134                                    Greater Heights     200   \n",
              "278135                                     Bleeding Heart     200   \n",
              "278136                                               None     307   \n",
              "278137                                DJ Play A Love Song     200   \n",
              "278138                                  More Than A Woman     200   \n",
              "278139                                               None     200   \n",
              "278140                                Letters From Madrid     200   \n",
              "278141                                 King Of The Stereo     200   \n",
              "278142  Shining Down [feat. Matthew Santos] (Amended A...     200   \n",
              "278143                                      Sehr kosmisch     200   \n",
              "278144                                               Tops     200   \n",
              "278145                                  Tu no tienes alma     200   \n",
              "278146                                       Bala Bay Inn     200   \n",
              "278147                                               None     200   \n",
              "278148                                   You're Not Alone     200   \n",
              "278149  Murders In The Rue Morgue (1998 Digital Remaster)     200   \n",
              "278150                                               None     307   \n",
              "278151                                               None     200   \n",
              "278152                                               None     200   \n",
              "278153                                The Sun On His Back     200   \n",
              "\n",
              "                   ts                                          userAgent  \\\n",
              "0       1538352117000  Mozilla/5.0 (Windows NT 6.1; WOW64; rv:31.0) G...   \n",
              "1       1538352180000  \"Mozilla/5.0 (Windows NT 6.1; WOW64) AppleWebK...   \n",
              "2       1538352394000  Mozilla/5.0 (Windows NT 6.1; WOW64; rv:31.0) G...   \n",
              "3       1538352416000  \"Mozilla/5.0 (Windows NT 6.1; WOW64) AppleWebK...   \n",
              "4       1538352676000  Mozilla/5.0 (Windows NT 6.1; WOW64; rv:31.0) G...   \n",
              "5       1538352678000  \"Mozilla/5.0 (Windows NT 6.1; WOW64) AppleWebK...   \n",
              "6       1538352886000  \"Mozilla/5.0 (Windows NT 6.1; WOW64) AppleWebK...   \n",
              "7       1538352899000  Mozilla/5.0 (Windows NT 6.1; WOW64; rv:31.0) G...   \n",
              "8       1538352905000  Mozilla/5.0 (Windows NT 6.1; WOW64; rv:31.0) G...   \n",
              "9       1538353084000  Mozilla/5.0 (Windows NT 6.1; WOW64; rv:31.0) G...   \n",
              "10      1538353146000  \"Mozilla/5.0 (Windows NT 6.1; WOW64) AppleWebK...   \n",
              "11      1538353150000  \"Mozilla/5.0 (Windows NT 6.1; WOW64) AppleWebK...   \n",
              "12      1538353218000  Mozilla/5.0 (Windows NT 6.1; WOW64; rv:31.0) G...   \n",
              "13      1538353375000  \"Mozilla/5.0 (Windows NT 6.1; WOW64) AppleWebK...   \n",
              "14      1538353376000  \"Mozilla/5.0 (Windows NT 6.1; WOW64) AppleWebK...   \n",
              "15      1538353441000  Mozilla/5.0 (Windows NT 6.1; WOW64; rv:31.0) G...   \n",
              "16      1538353576000  \"Mozilla/5.0 (Windows NT 6.1; WOW64) AppleWebK...   \n",
              "17      1538353668000  \"Mozilla/5.0 (Macintosh; Intel Mac OS X 10_9_4...   \n",
              "18      1538353687000  Mozilla/5.0 (Windows NT 6.1; WOW64; rv:31.0) G...   \n",
              "19      1538353744000  \"Mozilla/5.0 (Windows NT 6.1; WOW64) AppleWebK...   \n",
              "20      1538353834000  \"Mozilla/5.0 (Macintosh; Intel Mac OS X 10_9_4...   \n",
              "21      1538353909000  Mozilla/5.0 (Windows NT 6.1; WOW64; rv:31.0) G...   \n",
              "22      1538353930000  Mozilla/5.0 (Windows NT 6.1; WOW64; rv:32.0) G...   \n",
              "23      1538353973000  \"Mozilla/5.0 (Windows NT 6.1; WOW64) AppleWebK...   \n",
              "24      1538354117000  \"Mozilla/5.0 (Macintosh; Intel Mac OS X 10_9_4...   \n",
              "25      1538354132000  Mozilla/5.0 (Windows NT 6.1; WOW64; rv:31.0) G...   \n",
              "26      1538354180000  Mozilla/5.0 (Windows NT 6.1; WOW64; rv:32.0) G...   \n",
              "27      1538354204000  \"Mozilla/5.0 (Windows NT 6.1; WOW64) AppleWebK...   \n",
              "28      1538354291000  \"Mozilla/5.0 (Macintosh; Intel Mac OS X 10_9_4...   \n",
              "29      1538354365000  Mozilla/5.0 (Windows NT 6.1; WOW64; rv:31.0) G...   \n",
              "...               ...                                                ...   \n",
              "278124  1543616883000  Mozilla/5.0 (compatible; MSIE 9.0; Windows NT ...   \n",
              "278125  1543617111000  Mozilla/5.0 (compatible; MSIE 9.0; Windows NT ...   \n",
              "278126  1543617317000  Mozilla/5.0 (compatible; MSIE 9.0; Windows NT ...   \n",
              "278127  1543617391000  Mozilla/5.0 (compatible; MSIE 9.0; Windows NT ...   \n",
              "278128  1543617592000  Mozilla/5.0 (compatible; MSIE 9.0; Windows NT ...   \n",
              "278129  1543617802000  Mozilla/5.0 (compatible; MSIE 9.0; Windows NT ...   \n",
              "278130  1543618019000  Mozilla/5.0 (compatible; MSIE 9.0; Windows NT ...   \n",
              "278131  1543618269000  Mozilla/5.0 (compatible; MSIE 9.0; Windows NT ...   \n",
              "278132  1543618270000  Mozilla/5.0 (compatible; MSIE 9.0; Windows NT ...   \n",
              "278133  1543618442000  Mozilla/5.0 (compatible; MSIE 9.0; Windows NT ...   \n",
              "278134  1543618660000  Mozilla/5.0 (compatible; MSIE 9.0; Windows NT ...   \n",
              "278135  1543618840000  Mozilla/5.0 (compatible; MSIE 9.0; Windows NT ...   \n",
              "278136  1543618841000  Mozilla/5.0 (compatible; MSIE 9.0; Windows NT ...   \n",
              "278137  1543619220000  Mozilla/5.0 (compatible; MSIE 9.0; Windows NT ...   \n",
              "278138  1543619478000  Mozilla/5.0 (compatible; MSIE 9.0; Windows NT ...   \n",
              "278139  1543619556000  Mozilla/5.0 (compatible; MSIE 9.0; Windows NT ...   \n",
              "278140  1543619706000  Mozilla/5.0 (compatible; MSIE 9.0; Windows NT ...   \n",
              "278141  1543619821000  Mozilla/5.0 (compatible; MSIE 9.0; Windows NT ...   \n",
              "278142  1543620043000  Mozilla/5.0 (compatible; MSIE 9.0; Windows NT ...   \n",
              "278143  1543620316000  Mozilla/5.0 (compatible; MSIE 9.0; Windows NT ...   \n",
              "278144  1543620971000  Mozilla/5.0 (compatible; MSIE 9.0; Windows NT ...   \n",
              "278145  1543621196000  Mozilla/5.0 (compatible; MSIE 9.0; Windows NT ...   \n",
              "278146  1543621437000  Mozilla/5.0 (compatible; MSIE 9.0; Windows NT ...   \n",
              "278147  1543621485000  Mozilla/5.0 (compatible; MSIE 9.0; Windows NT ...   \n",
              "278148  1543621857000  Mozilla/5.0 (compatible; MSIE 9.0; Windows NT ...   \n",
              "278149  1543622121000  Mozilla/5.0 (compatible; MSIE 9.0; Windows NT ...   \n",
              "278150  1543622122000  Mozilla/5.0 (compatible; MSIE 9.0; Windows NT ...   \n",
              "278151  1543622248000  Mozilla/5.0 (compatible; MSIE 9.0; Windows NT ...   \n",
              "278152  1543622398000  Mozilla/5.0 (compatible; MSIE 9.0; Windows NT ...   \n",
              "278153  1543622411000  Mozilla/5.0 (compatible; MSIE 9.0; Windows NT ...   \n",
              "\n",
              "        userId  \n",
              "0           30  \n",
              "1            9  \n",
              "2           30  \n",
              "3            9  \n",
              "4           30  \n",
              "5            9  \n",
              "6            9  \n",
              "7           30  \n",
              "8           30  \n",
              "9           30  \n",
              "10           9  \n",
              "11           9  \n",
              "12          30  \n",
              "13           9  \n",
              "14           9  \n",
              "15          30  \n",
              "16           9  \n",
              "17          74  \n",
              "18          30  \n",
              "19           9  \n",
              "20          74  \n",
              "21          30  \n",
              "22          54  \n",
              "23           9  \n",
              "24          74  \n",
              "25          30  \n",
              "26          54  \n",
              "27           9  \n",
              "28          74  \n",
              "29          30  \n",
              "...        ...  \n",
              "278124  300011  \n",
              "278125  300011  \n",
              "278126  300011  \n",
              "278127  300011  \n",
              "278128  300011  \n",
              "278129  300011  \n",
              "278130  300011  \n",
              "278131  300011  \n",
              "278132  300011  \n",
              "278133  300011  \n",
              "278134  300011  \n",
              "278135  300011  \n",
              "278136  300011  \n",
              "278137  300011  \n",
              "278138  300011  \n",
              "278139  300011  \n",
              "278140  300011  \n",
              "278141  300011  \n",
              "278142  300011  \n",
              "278143  300011  \n",
              "278144  300011  \n",
              "278145  300011  \n",
              "278146  300011  \n",
              "278147  300011  \n",
              "278148  300011  \n",
              "278149  300011  \n",
              "278150  300011  \n",
              "278151  300011  \n",
              "278152  300011  \n",
              "278153  300011  \n",
              "\n",
              "[278154 rows x 18 columns]"
            ]
          },
          "execution_count": 19,
          "metadata": {},
          "output_type": "execute_result"
        }
      ],
      "source": [
        "df_pandas = df.toPandas()\n",
        "df_pandas"
      ]
    },
    {
      "cell_type": "markdown",
      "metadata": {
        "id": "x7HjyvN7STr3"
      },
      "source": [
        "## Exploratory Data Analysis\n",
        "<a class=\"anchor\" id=\"eda\"></a>\n",
        "\n",
        "### Define Churn\n",
        "\n",
        "A column `Churn` will be created to use as the label for our model. `Cancellation Confirmation` events is used to define churn, which happen for both paid and free users. We will assign a 1 where a user has churned and a 0 where they have not churned.\n",
        "\n",
        "### Explore Data\n",
        "Exploratory data analysis will  be performed to observe the behavior for users who stayed vs users who churned. Starting by exploring aggregates on these two groups of users, observing how much of a specific action they experienced per a certain time unit or number of songs played."
      ]
    },
    {
      "cell_type": "markdown",
      "metadata": {
        "id": "5nWA_GfQSTr3"
      },
      "source": [
        "### Identify users who have churned"
      ]
    },
    {
      "cell_type": "markdown",
      "metadata": {
        "id": "X0Bzb7vNSTr3"
      },
      "source": [
        "First, we will identify the users who have churned using the `Cancellation Confirmation` event under the `page` column."
      ]
    },
    {
      "cell_type": "code",
      "execution_count": null,
      "metadata": {
        "id": "c0_i-UHjSTr3",
        "outputId": "d40c11d1-34df-4e90-baee-443e4f67c401"
      },
      "outputs": [
        {
          "name": "stdout",
          "output_type": "stream",
          "text": [
            "+--------------------+\n",
            "|                page|\n",
            "+--------------------+\n",
            "|              Cancel|\n",
            "|    Submit Downgrade|\n",
            "|         Thumbs Down|\n",
            "|                Home|\n",
            "|           Downgrade|\n",
            "|         Roll Advert|\n",
            "|              Logout|\n",
            "|       Save Settings|\n",
            "|Cancellation Conf...|\n",
            "|               About|\n",
            "|            Settings|\n",
            "|     Add to Playlist|\n",
            "|          Add Friend|\n",
            "|            NextSong|\n",
            "|           Thumbs Up|\n",
            "|                Help|\n",
            "|             Upgrade|\n",
            "|               Error|\n",
            "|      Submit Upgrade|\n",
            "+--------------------+\n",
            "\n"
          ]
        }
      ],
      "source": [
        "# check Cancellation Confirmation page\n",
        "df.select(\"page\").dropDuplicates().show()"
      ]
    },
    {
      "cell_type": "markdown",
      "metadata": {
        "id": "yhT5XZZFSTr3"
      },
      "source": [
        "From the above we can see that Cancellation Confirmation is the page that a user is taken to once they have confirmed that they would like to cancel their service. Again, this is how we are identifying churn."
      ]
    },
    {
      "cell_type": "code",
      "execution_count": null,
      "metadata": {
        "id": "4ZTP748lSTr3",
        "outputId": "ecd2db0e-9f6c-4d3b-df18-bfa1d6e7b761"
      },
      "outputs": [
        {
          "data": {
            "text/plain": [
              "52"
            ]
          },
          "execution_count": 21,
          "metadata": {},
          "output_type": "execute_result"
        }
      ],
      "source": [
        "# number of users who churned\n",
        "df.select([\"userId\", \"page\"]).where(df.page == \"Cancellation Confirmation\").count()"
      ]
    },
    {
      "cell_type": "markdown",
      "metadata": {
        "id": "30sTT3EDSTr3"
      },
      "source": [
        "From the above cell we can see that there are 52 users in our dataset that have churned. We can take a closer look at the userids that churned."
      ]
    },
    {
      "cell_type": "code",
      "execution_count": null,
      "metadata": {
        "id": "jaQv8iqdSTr3",
        "outputId": "f02817db-0f60-4f8f-b749-d927228edbb3"
      },
      "outputs": [
        {
          "name": "stdout",
          "output_type": "stream",
          "text": [
            "+------+--------------------+\n",
            "|userId|                page|\n",
            "+------+--------------------+\n",
            "|    18|Cancellation Conf...|\n",
            "|    32|Cancellation Conf...|\n",
            "|   125|Cancellation Conf...|\n",
            "|   105|Cancellation Conf...|\n",
            "|    17|Cancellation Conf...|\n",
            "|   143|Cancellation Conf...|\n",
            "|   101|Cancellation Conf...|\n",
            "|   129|Cancellation Conf...|\n",
            "|   121|Cancellation Conf...|\n",
            "|    51|Cancellation Conf...|\n",
            "|    87|Cancellation Conf...|\n",
            "|   122|Cancellation Conf...|\n",
            "|    12|Cancellation Conf...|\n",
            "|    58|Cancellation Conf...|\n",
            "|    73|Cancellation Conf...|\n",
            "|     3|Cancellation Conf...|\n",
            "|   106|Cancellation Conf...|\n",
            "|   103|Cancellation Conf...|\n",
            "|    28|Cancellation Conf...|\n",
            "|    54|Cancellation Conf...|\n",
            "+------+--------------------+\n",
            "only showing top 20 rows\n",
            "\n"
          ]
        }
      ],
      "source": [
        "df.select([\"userId\", \"page\"]).where(df.page == \"Cancellation Confirmation\").show()"
      ]
    },
    {
      "cell_type": "markdown",
      "metadata": {
        "id": "j94jQufnSTr3"
      },
      "source": [
        "We will now create the flag for churned users who will be assigned a 1 if churned and a 0 where they have not churned. This flag will be added to the dataset as a column named \"churn\"."
      ]
    },
    {
      "cell_type": "code",
      "execution_count": null,
      "metadata": {
        "id": "oyF1gKCSSTr3"
      },
      "outputs": [],
      "source": [
        "# flag the records where Cancellation Confirmation page is reached - 1 if it is and 0 if not\n",
        "churn_event = udf(lambda x: 1 if x == \"Cancellation Confirmation\" else 0, IntegerType())"
      ]
    },
    {
      "cell_type": "code",
      "execution_count": null,
      "metadata": {
        "id": "s9sxjUViSTr4"
      },
      "outputs": [],
      "source": [
        "#creating churn column\n",
        "df = df.withColumn(\"churn\", churn_event(\"page\"))"
      ]
    },
    {
      "cell_type": "code",
      "execution_count": null,
      "metadata": {
        "id": "MOpnBbceSTr4",
        "outputId": "073b0efb-82c1-4733-d20d-f34b425e4838"
      },
      "outputs": [
        {
          "data": {
            "text/plain": [
              "Row(artist='Martha Tilston', auth='Logged In', firstName='Colin', gender='M', itemInSession=50, lastName='Freeman', length=277.89016, level='paid', location='Bakersfield, CA', method='PUT', page='NextSong', registration=1538173362000, sessionId=29, song='Rockpools', status=200, ts=1538352117000, userAgent='Mozilla/5.0 (Windows NT 6.1; WOW64; rv:31.0) Gecko/20100101 Firefox/31.0', userId='30', churn=0)"
            ]
          },
          "execution_count": 25,
          "metadata": {},
          "output_type": "execute_result"
        }
      ],
      "source": [
        "df.head()"
      ]
    },
    {
      "cell_type": "markdown",
      "metadata": {
        "id": "7jijBgJiSTr4"
      },
      "source": [
        "From the above example we can see that the churn column has been successfully added to the dataframe and a 0 has been assigned for this particular userId. Now we can sort our records for a userId in reverse time order and add up the values in the churn column."
      ]
    },
    {
      "cell_type": "code",
      "execution_count": null,
      "metadata": {
        "id": "SKx4J0kfSTr4"
      },
      "outputs": [],
      "source": [
        "# sort records for a user in reverse time order so we can add up vals in churn column\n",
        "windowval = Window.partitionBy(\"userId\").orderBy(desc(\"ts\")).rangeBetween(Window.unboundedPreceding, 0)"
      ]
    },
    {
      "cell_type": "code",
      "execution_count": null,
      "metadata": {
        "id": "SNx9uqI7STr4"
      },
      "outputs": [],
      "source": [
        "# create column churn which contains sum of churn 1s over records\n",
        "df = df.withColumn(\"churn\", Fsum(\"churn\").over(windowval))"
      ]
    },
    {
      "cell_type": "code",
      "execution_count": null,
      "metadata": {
        "id": "MN9y0a3fSTr4"
      },
      "outputs": [],
      "source": [
        "# groupby churn to get counts\n",
        "df_churn = df.select(['userId', 'churn']).dropDuplicates().groupBy('churn').count()"
      ]
    },
    {
      "cell_type": "code",
      "execution_count": null,
      "metadata": {
        "id": "suFqjBdDSTr4",
        "outputId": "93d439ab-e987-4140-ff31-f071167c6227"
      },
      "outputs": [
        {
          "name": "stdout",
          "output_type": "stream",
          "text": [
            "+-----+-----+\n",
            "|churn|count|\n",
            "+-----+-----+\n",
            "|    0|  173|\n",
            "|    1|   52|\n",
            "+-----+-----+\n",
            "\n"
          ]
        }
      ],
      "source": [
        "df_churn.show()"
      ]
    },
    {
      "cell_type": "markdown",
      "metadata": {
        "id": "IhzT2BNNSTr5"
      },
      "source": [
        "### EDA for Users that Stayed vs Users that Churned"
      ]
    },
    {
      "cell_type": "markdown",
      "metadata": {
        "id": "dCwsXsyqSTr5"
      },
      "source": [
        "Now we can examine behaviour of those who churned vs those who did not churn. First we will visualise those who churned vs those who stayed."
      ]
    },
    {
      "cell_type": "code",
      "execution_count": null,
      "metadata": {
        "id": "GlmTsURWSTr5"
      },
      "outputs": [],
      "source": [
        "# convert to pandas for visualisation\n",
        "df_churn = df_churn.toPandas()"
      ]
    },
    {
      "cell_type": "code",
      "execution_count": null,
      "metadata": {
        "id": "CTr-pje_STr5",
        "outputId": "711ad812-8239-48e8-92f1-cb3be7a0dd91"
      },
      "outputs": [
        {
          "data": {
            "image/png": "[encoded data removed]",
            "text/plain": [
              "<matplotlib.figure.Figure at 0x7fa7ca32dcc0>"
            ]
          },
          "metadata": {
            "needs_background": "light"
          },
          "output_type": "display_data"
        }
      ],
      "source": [
        "# plot the number of users that churned\n",
        "plt.figure(figsize = [8,6])\n",
        "ax = sns.barplot(data = df_churn, x = 'churn', y='count')\n",
        "plt.title(\"Numbers of Users That Churned\");"
      ]
    },
    {
      "cell_type": "code",
      "execution_count": null,
      "metadata": {
        "id": "1Hj52vx3STr5",
        "outputId": "ac3763af-20b6-413e-a13e-fc5057107951"
      },
      "outputs": [
        {
          "data": {
            "text/plain": [
              "23.11111111111111"
            ]
          },
          "execution_count": 32,
          "metadata": {},
          "output_type": "execute_result"
        }
      ],
      "source": [
        "# calculate churn rate\n",
        "52/(173+52) * 100"
      ]
    },
    {
      "cell_type": "markdown",
      "metadata": {
        "id": "cbb8U8U-STr5"
      },
      "source": [
        "From the above, we can see that 173 users stayed while 52 users churned. Therefore this means that 23% of our users churned. It is important to note moving forward that this is an imbalance."
      ]
    },
    {
      "cell_type": "markdown",
      "metadata": {
        "id": "ShapkS0FSTr5"
      },
      "source": [
        "### Length of time: Users that Churned vs. Users that Stayed"
      ]
    },
    {
      "cell_type": "markdown",
      "metadata": {
        "id": "XdhFVSlaSTr5"
      },
      "source": [
        "We can now look at the length distribution for customers who stayed and those which churned."
      ]
    },
    {
      "cell_type": "code",
      "execution_count": null,
      "metadata": {
        "id": "nFRYryb4STr5"
      },
      "outputs": [],
      "source": [
        "# get those customers who churned\n",
        "df_len = df.filter(df.churn ==1)"
      ]
    },
    {
      "cell_type": "code",
      "execution_count": null,
      "metadata": {
        "id": "HAynmeXQSTr5"
      },
      "outputs": [],
      "source": [
        "# convert to pandas\n",
        "df_pd = df_len.toPandas()"
      ]
    },
    {
      "cell_type": "code",
      "execution_count": null,
      "metadata": {
        "id": "Eur6lYDeSTr5"
      },
      "outputs": [],
      "source": [
        "# drop the nulls\n",
        "df_pd.length.dropna(inplace=True)"
      ]
    },
    {
      "cell_type": "code",
      "execution_count": null,
      "metadata": {
        "id": "g2Ktg_bNSTr6",
        "outputId": "2bf9ef15-3374-4659-9c97-e2f81bde39c1"
      },
      "outputs": [
        {
          "data": {
            "image/png": "[encoded data removed]",
            "text/plain": [
              "<matplotlib.figure.Figure at 0x7fa7c4a08a90>"
            ]
          },
          "metadata": {
            "needs_background": "light"
          },
          "output_type": "display_data"
        }
      ],
      "source": [
        "# plot the distribution\n",
        "bin_edges = np.arange (10, df_pd['length'].max()+25, 25)\n",
        "plt.hist(data = df_pd, x = 'length', bins = bin_edges)\n",
        "plt.xlim(0,700)\n",
        "plt.xlabel('Length')\n",
        "plt.ylabel('Frequency');"
      ]
    },
    {
      "cell_type": "markdown",
      "metadata": {
        "id": "UceXm0OUSTr6"
      },
      "source": [
        "Now we can do the same process for customers who didn't churn."
      ]
    },
    {
      "cell_type": "code",
      "execution_count": null,
      "metadata": {
        "id": "Q6PxKQKYSTr6"
      },
      "outputs": [],
      "source": [
        "# users who stayed\n",
        "df_len_stay = df.filter(df.churn ==0)"
      ]
    },
    {
      "cell_type": "code",
      "execution_count": null,
      "metadata": {
        "id": "yEmjeByaSTr6"
      },
      "outputs": [],
      "source": [
        "# convert to pandas\n",
        "df_pd = df_len_stay.toPandas()"
      ]
    },
    {
      "cell_type": "code",
      "execution_count": null,
      "metadata": {
        "id": "86SRO8irSTr6"
      },
      "outputs": [],
      "source": [
        "# drop nulls\n",
        "df_pd.length.dropna(inplace=True)"
      ]
    },
    {
      "cell_type": "code",
      "execution_count": null,
      "metadata": {
        "id": "D7HxUzAASTr6",
        "outputId": "85d76dc2-9d1c-442d-b0b6-df7fcc0f8cfa"
      },
      "outputs": [
        {
          "data": {
            "image/png": "[encoded data removed]",
            "text/plain": [
              "<matplotlib.figure.Figure at 0x7fa7d32eddd8>"
            ]
          },
          "metadata": {
            "needs_background": "light"
          },
          "output_type": "display_data"
        }
      ],
      "source": [
        "# plot distribution\n",
        "bin_edges = np.arange (10, df_pd['length'].max()+25, 25)\n",
        "plt.hist(data = df_pd, x = 'length', bins = bin_edges)\n",
        "plt.xlim(0,700)\n",
        "plt.xlabel('Length')\n",
        "plt.ylabel('Frequency');"
      ]
    },
    {
      "cell_type": "markdown",
      "metadata": {
        "id": "fKUehXOMSTr6"
      },
      "source": [
        "We can see from the above plots that length distribution is very similar for users that churned and those who stayed. This won't be very useful for predicting customer churn. Let's try a categorical feature: gender."
      ]
    },
    {
      "cell_type": "markdown",
      "metadata": {
        "id": "AegU_agoSTr6"
      },
      "source": [
        "###  Gender - Users who Churned vs Users who Stayed"
      ]
    },
    {
      "cell_type": "markdown",
      "metadata": {
        "id": "d4fEuHH3STr6"
      },
      "source": [
        "Now we can examine if gender had an effect on users that churned vs. those that stayed."
      ]
    },
    {
      "cell_type": "code",
      "execution_count": null,
      "metadata": {
        "id": "jRyFEUiMSTr6"
      },
      "outputs": [],
      "source": [
        "# create gender df grouped by churn and gender\n",
        "df_gender = df.select(['userId', 'churn', 'gender']).dropDuplicates().groupBy('gender', 'churn').count()"
      ]
    },
    {
      "cell_type": "code",
      "execution_count": null,
      "metadata": {
        "id": "6I81ehziSTr7",
        "outputId": "32c0026e-2111-4110-db05-5761d661a6ca"
      },
      "outputs": [
        {
          "name": "stdout",
          "output_type": "stream",
          "text": [
            "+------+-----+-----+\n",
            "|gender|churn|count|\n",
            "+------+-----+-----+\n",
            "|     F|    0|   84|\n",
            "|     F|    1|   20|\n",
            "|     M|    0|   89|\n",
            "|     M|    1|   32|\n",
            "+------+-----+-----+\n",
            "\n"
          ]
        }
      ],
      "source": [
        "# show gender df\n",
        "df_gender.show()"
      ]
    },
    {
      "cell_type": "code",
      "execution_count": null,
      "metadata": {
        "id": "RX2I3xdRSTr7"
      },
      "outputs": [],
      "source": [
        "# convert to pandas for visualisation\n",
        "df_gender = df_gender.toPandas()"
      ]
    },
    {
      "cell_type": "code",
      "execution_count": null,
      "metadata": {
        "id": "BwPSFMXVSTr7"
      },
      "outputs": [],
      "source": [
        "# order for the visualisation\n",
        "df_gender = df_gender.sort_values('count', ascending = False)"
      ]
    },
    {
      "cell_type": "code",
      "execution_count": null,
      "metadata": {
        "id": "2hrbmrFbSTr7",
        "outputId": "5eb13921-593e-4c15-9745-6aa27de5f345"
      },
      "outputs": [
        {
          "data": {
            "image/png": "[encoded data removed]",
            "text/plain": [
              "<matplotlib.figure.Figure at 0x7fa7d1d88400>"
            ]
          },
          "metadata": {
            "needs_background": "light"
          },
          "output_type": "display_data"
        }
      ],
      "source": [
        "# seaborn barplot\n",
        "plt.figure(figsize = [8,6])\n",
        "ax = sns.barplot(data = df_gender, x = 'churn', y='count', hue = 'gender')\n",
        "ax.legend(loc = 1, ncol = 2, framealpha =1, title = 'gender')\n",
        "plt.title(\"Number of Users That Churned by Gender\");"
      ]
    },
    {
      "cell_type": "code",
      "execution_count": null,
      "metadata": {
        "id": "WOkUKSmkSTr7",
        "outputId": "8a550bf5-c97e-4dd7-aabe-80e6c1f5e6a4"
      },
      "outputs": [
        {
          "data": {
            "text/plain": [
              "0.2644628099173554"
            ]
          },
          "execution_count": 46,
          "metadata": {},
          "output_type": "execute_result"
        }
      ],
      "source": [
        "# male churn rate\n",
        "32/(89+32)"
      ]
    },
    {
      "cell_type": "code",
      "execution_count": null,
      "metadata": {
        "id": "gQBHMPTsSTr7",
        "outputId": "e4818ac8-6e9d-4932-9b90-441b2ffaf679"
      },
      "outputs": [
        {
          "data": {
            "text/plain": [
              "0.19230769230769232"
            ]
          },
          "execution_count": 47,
          "metadata": {},
          "output_type": "execute_result"
        }
      ],
      "source": [
        "# female churn rate\n",
        "20/(20+84)"
      ]
    },
    {
      "cell_type": "markdown",
      "metadata": {
        "id": "c4hzvh33STr7"
      },
      "source": [
        "From the above chart, we can see that more male users churned(rate of 0.264) compared to female users (rate of 0.192)."
      ]
    },
    {
      "cell_type": "markdown",
      "metadata": {
        "id": "tb3udkR0STr7"
      },
      "source": [
        "### Users who Churned vs Stayed by Level"
      ]
    },
    {
      "cell_type": "markdown",
      "metadata": {
        "id": "qtzrssYPSTr7"
      },
      "source": [
        "Next we can examine if level has an effect on whether a user will churn or not. By level here we mean if the user paid for the app or if they used it for free with ads."
      ]
    },
    {
      "cell_type": "code",
      "execution_count": null,
      "metadata": {
        "id": "nfIcSIzCSTr8"
      },
      "outputs": [],
      "source": [
        "# create the level dataframe\n",
        "df_level = df.select(['userId', 'churn', 'level']).dropDuplicates().groupBy('level','churn').count()"
      ]
    },
    {
      "cell_type": "code",
      "execution_count": null,
      "metadata": {
        "id": "irwBHMytSTr8",
        "outputId": "6b928970-57db-47ec-deed-d3e351360c6d"
      },
      "outputs": [
        {
          "name": "stdout",
          "output_type": "stream",
          "text": [
            "+-----+-----+-----+\n",
            "|level|churn|count|\n",
            "+-----+-----+-----+\n",
            "| free|    0|  149|\n",
            "| paid|    0|  129|\n",
            "| free|    1|   46|\n",
            "| paid|    1|   36|\n",
            "+-----+-----+-----+\n",
            "\n"
          ]
        }
      ],
      "source": [
        "df_level.show()"
      ]
    },
    {
      "cell_type": "code",
      "execution_count": null,
      "metadata": {
        "id": "enZ7snKYSTr8"
      },
      "outputs": [],
      "source": [
        "# convert to pandas for visualisation\n",
        "df_level = df_level.toPandas()"
      ]
    },
    {
      "cell_type": "code",
      "execution_count": null,
      "metadata": {
        "id": "5SmJn5xhSTr8",
        "outputId": "5b04b7a9-93ee-4952-da1c-5e36714202b0"
      },
      "outputs": [
        {
          "data": {
            "image/png": "[encoded data removed]",
            "text/plain": [
              "<matplotlib.figure.Figure at 0x7fa7d0608390>"
            ]
          },
          "metadata": {
            "needs_background": "light"
          },
          "output_type": "display_data"
        }
      ],
      "source": [
        "# plot the barplot using seaborn\n",
        "plt.figure(figsize = [8,6])\n",
        "ax = sns.barplot(data = df_level, x = 'churn', y='count', hue = 'level')\n",
        "ax.legend(loc = 1, ncol = 2, framealpha =1, title = 'level')\n",
        "plt.title(\"Number of Users That Churned by Level\");"
      ]
    },
    {
      "cell_type": "code",
      "execution_count": null,
      "metadata": {
        "id": "sagIp0_qSTr8",
        "outputId": "a292f52e-db51-49cc-9f9b-21b335dd31cb"
      },
      "outputs": [
        {
          "data": {
            "text/plain": [
              "0.2358974358974359"
            ]
          },
          "execution_count": 52,
          "metadata": {},
          "output_type": "execute_result"
        }
      ],
      "source": [
        "# free churn rate\n",
        "46/(46+149)"
      ]
    },
    {
      "cell_type": "code",
      "execution_count": null,
      "metadata": {
        "id": "SgdxfuuCSTr8",
        "outputId": "62bf3c2d-db3a-4206-8bab-539d66755d51"
      },
      "outputs": [
        {
          "data": {
            "text/plain": [
              "0.21818181818181817"
            ]
          },
          "execution_count": 53,
          "metadata": {},
          "output_type": "execute_result"
        }
      ],
      "source": [
        "# paid churn rate\n",
        "36/(129+36)"
      ]
    },
    {
      "cell_type": "markdown",
      "metadata": {
        "id": "rt2Gl25LSTr8"
      },
      "source": [
        "We can see from the above chart that more users who used the service for free were slightly more likely to churn (rate of 0.236) compared to those who paid for the app (0.218)."
      ]
    },
    {
      "cell_type": "markdown",
      "metadata": {
        "id": "adCdJ6lvSTr8"
      },
      "source": [
        "### Pages Visited by Those that Churned vs. Those That Stayed"
      ]
    },
    {
      "cell_type": "markdown",
      "metadata": {
        "id": "pDLLSgzESTr8"
      },
      "source": [
        "Next we can examine if there were different pages visited by users that churned compared to those that remained."
      ]
    },
    {
      "cell_type": "code",
      "execution_count": null,
      "metadata": {
        "id": "oBipTRHfSTr8"
      },
      "outputs": [],
      "source": [
        "df_page = df.select(['userId', 'churn', 'page']).groupBy('page','churn').count()"
      ]
    },
    {
      "cell_type": "code",
      "execution_count": null,
      "metadata": {
        "id": "W7tSN4dnSTr8",
        "outputId": "af809673-e016-4794-a49f-eb4ef72a0e21"
      },
      "outputs": [
        {
          "name": "stdout",
          "output_type": "stream",
          "text": [
            "+--------------------+-----+------+\n",
            "|                page|churn| count|\n",
            "+--------------------+-----+------+\n",
            "|            Settings|    0|  1244|\n",
            "|         Thumbs Down|    1|   496|\n",
            "|           Thumbs Up|    1|  1859|\n",
            "|     Add to Playlist|    1|  1038|\n",
            "|               Error|    1|    32|\n",
            "|               About|    1|    56|\n",
            "|         Thumbs Down|    0|  2050|\n",
            "|         Roll Advert|    1|   967|\n",
            "|                Home|    0|  8410|\n",
            "|Cancellation Conf...|    1|    52|\n",
            "|               Error|    0|   220|\n",
            "|              Cancel|    1|    52|\n",
            "|            Settings|    1|   270|\n",
            "|          Add Friend|    1|   636|\n",
            "|             Upgrade|    0|   387|\n",
            "|           Downgrade|    1|   337|\n",
            "|              Logout|    1|   553|\n",
            "|    Submit Downgrade|    1|     9|\n",
            "|       Save Settings|    0|   252|\n",
            "|           Thumbs Up|    0| 10692|\n",
            "|           Downgrade|    0|  1718|\n",
            "|      Submit Upgrade|    0|   127|\n",
            "|         Roll Advert|    0|  2966|\n",
            "|    Submit Downgrade|    0|    54|\n",
            "|              Logout|    0|  2673|\n",
            "|                Home|    1|  1672|\n",
            "|          Add Friend|    0|  3641|\n",
            "|             Upgrade|    1|   112|\n",
            "|      Submit Upgrade|    1|    32|\n",
            "|               About|    0|   439|\n",
            "|     Add to Playlist|    0|  5488|\n",
            "|       Save Settings|    1|    58|\n",
            "|                Help|    1|   239|\n",
            "|            NextSong|    1| 36394|\n",
            "|            NextSong|    0|191714|\n",
            "|                Help|    0|  1215|\n",
            "+--------------------+-----+------+\n",
            "\n"
          ]
        }
      ],
      "source": [
        "df_page.show(40)"
      ]
    },
    {
      "cell_type": "code",
      "execution_count": null,
      "metadata": {
        "id": "YWfTrcBLSTr8"
      },
      "outputs": [],
      "source": [
        "# convert to pandas\n",
        "df_page = df_page.toPandas()"
      ]
    },
    {
      "cell_type": "code",
      "execution_count": null,
      "metadata": {
        "id": "dLtJjuOASTr8"
      },
      "outputs": [],
      "source": [
        "# create counts for those who churned and those who stayed\n",
        "churn_count =  df_page[df_page['churn'] == 1].sum()\n",
        "stay_count =  df_page[df_page['churn'] == 0].sum()"
      ]
    },
    {
      "cell_type": "markdown",
      "metadata": {
        "id": "0zOGlqlkSTr9"
      },
      "source": [
        "Now that we have a count of the number of customers who churned and those that stayed we can calculate the rate and create this as a column on our dataFrame."
      ]
    },
    {
      "cell_type": "code",
      "execution_count": null,
      "metadata": {
        "id": "pQdY5wzPSTr9"
      },
      "outputs": [],
      "source": [
        "# calculate the rate of pages visited by those who churned vs. those who stayed\n",
        "df_page['rate'] = np.where(\n",
        "    df_page['churn'] == 0, df_page['count']/stay_count['count'], np.where(\n",
        "    df_page['churn'] == 1, df_page['count']/churn_count['count'],df_page['count']/churn_count['count']))"
      ]
    },
    {
      "cell_type": "code",
      "execution_count": null,
      "metadata": {
        "id": "CUPHuARQSTr9",
        "outputId": "174d8a03-fac2-4d6e-c138-e15930a251b3"
      },
      "outputs": [
        {
          "data": {
            "text/html": [
              "<div>\n",
              "<style scoped>\n",
              "    .dataframe tbody tr th:only-of-type {\n",
              "        vertical-align: middle;\n",
              "    }\n",
              "\n",
              "    .dataframe tbody tr th {\n",
              "        vertical-align: top;\n",
              "    }\n",
              "\n",
              "    .dataframe thead th {\n",
              "        text-align: right;\n",
              "    }\n",
              "</style>\n",
              "<table border=\"1\" class=\"dataframe\">\n",
              "  <thead>\n",
              "    <tr style=\"text-align: right;\">\n",
              "      <th></th>\n",
              "      <th>page</th>\n",
              "      <th>churn</th>\n",
              "      <th>count</th>\n",
              "      <th>rate</th>\n",
              "    </tr>\n",
              "  </thead>\n",
              "  <tbody>\n",
              "    <tr>\n",
              "      <th>0</th>\n",
              "      <td>Settings</td>\n",
              "      <td>0</td>\n",
              "      <td>1244</td>\n",
              "      <td>0.005332</td>\n",
              "    </tr>\n",
              "    <tr>\n",
              "      <th>1</th>\n",
              "      <td>Thumbs Down</td>\n",
              "      <td>1</td>\n",
              "      <td>496</td>\n",
              "      <td>0.011056</td>\n",
              "    </tr>\n",
              "    <tr>\n",
              "      <th>2</th>\n",
              "      <td>Thumbs Up</td>\n",
              "      <td>1</td>\n",
              "      <td>1859</td>\n",
              "      <td>0.041436</td>\n",
              "    </tr>\n",
              "    <tr>\n",
              "      <th>3</th>\n",
              "      <td>Add to Playlist</td>\n",
              "      <td>1</td>\n",
              "      <td>1038</td>\n",
              "      <td>0.023137</td>\n",
              "    </tr>\n",
              "    <tr>\n",
              "      <th>4</th>\n",
              "      <td>Error</td>\n",
              "      <td>1</td>\n",
              "      <td>32</td>\n",
              "      <td>0.000713</td>\n",
              "    </tr>\n",
              "    <tr>\n",
              "      <th>5</th>\n",
              "      <td>About</td>\n",
              "      <td>1</td>\n",
              "      <td>56</td>\n",
              "      <td>0.001248</td>\n",
              "    </tr>\n",
              "    <tr>\n",
              "      <th>6</th>\n",
              "      <td>Thumbs Down</td>\n",
              "      <td>0</td>\n",
              "      <td>2050</td>\n",
              "      <td>0.008787</td>\n",
              "    </tr>\n",
              "    <tr>\n",
              "      <th>7</th>\n",
              "      <td>Roll Advert</td>\n",
              "      <td>1</td>\n",
              "      <td>967</td>\n",
              "      <td>0.021554</td>\n",
              "    </tr>\n",
              "    <tr>\n",
              "      <th>8</th>\n",
              "      <td>Home</td>\n",
              "      <td>0</td>\n",
              "      <td>8410</td>\n",
              "      <td>0.036050</td>\n",
              "    </tr>\n",
              "    <tr>\n",
              "      <th>9</th>\n",
              "      <td>Cancellation Confirmation</td>\n",
              "      <td>1</td>\n",
              "      <td>52</td>\n",
              "      <td>0.001159</td>\n",
              "    </tr>\n",
              "    <tr>\n",
              "      <th>10</th>\n",
              "      <td>Error</td>\n",
              "      <td>0</td>\n",
              "      <td>220</td>\n",
              "      <td>0.000943</td>\n",
              "    </tr>\n",
              "    <tr>\n",
              "      <th>11</th>\n",
              "      <td>Cancel</td>\n",
              "      <td>1</td>\n",
              "      <td>52</td>\n",
              "      <td>0.001159</td>\n",
              "    </tr>\n",
              "    <tr>\n",
              "      <th>12</th>\n",
              "      <td>Settings</td>\n",
              "      <td>1</td>\n",
              "      <td>270</td>\n",
              "      <td>0.006018</td>\n",
              "    </tr>\n",
              "    <tr>\n",
              "      <th>13</th>\n",
              "      <td>Add Friend</td>\n",
              "      <td>1</td>\n",
              "      <td>636</td>\n",
              "      <td>0.014176</td>\n",
              "    </tr>\n",
              "    <tr>\n",
              "      <th>14</th>\n",
              "      <td>Upgrade</td>\n",
              "      <td>0</td>\n",
              "      <td>387</td>\n",
              "      <td>0.001659</td>\n",
              "    </tr>\n",
              "    <tr>\n",
              "      <th>15</th>\n",
              "      <td>Downgrade</td>\n",
              "      <td>1</td>\n",
              "      <td>337</td>\n",
              "      <td>0.007512</td>\n",
              "    </tr>\n",
              "    <tr>\n",
              "      <th>16</th>\n",
              "      <td>Logout</td>\n",
              "      <td>1</td>\n",
              "      <td>553</td>\n",
              "      <td>0.012326</td>\n",
              "    </tr>\n",
              "    <tr>\n",
              "      <th>17</th>\n",
              "      <td>Submit Downgrade</td>\n",
              "      <td>1</td>\n",
              "      <td>9</td>\n",
              "      <td>0.000201</td>\n",
              "    </tr>\n",
              "    <tr>\n",
              "      <th>18</th>\n",
              "      <td>Save Settings</td>\n",
              "      <td>0</td>\n",
              "      <td>252</td>\n",
              "      <td>0.001080</td>\n",
              "    </tr>\n",
              "    <tr>\n",
              "      <th>19</th>\n",
              "      <td>Thumbs Up</td>\n",
              "      <td>0</td>\n",
              "      <td>10692</td>\n",
              "      <td>0.045831</td>\n",
              "    </tr>\n",
              "    <tr>\n",
              "      <th>20</th>\n",
              "      <td>Downgrade</td>\n",
              "      <td>0</td>\n",
              "      <td>1718</td>\n",
              "      <td>0.007364</td>\n",
              "    </tr>\n",
              "    <tr>\n",
              "      <th>21</th>\n",
              "      <td>Submit Upgrade</td>\n",
              "      <td>0</td>\n",
              "      <td>127</td>\n",
              "      <td>0.000544</td>\n",
              "    </tr>\n",
              "    <tr>\n",
              "      <th>22</th>\n",
              "      <td>Roll Advert</td>\n",
              "      <td>0</td>\n",
              "      <td>2966</td>\n",
              "      <td>0.012714</td>\n",
              "    </tr>\n",
              "    <tr>\n",
              "      <th>23</th>\n",
              "      <td>Submit Downgrade</td>\n",
              "      <td>0</td>\n",
              "      <td>54</td>\n",
              "      <td>0.000231</td>\n",
              "    </tr>\n",
              "    <tr>\n",
              "      <th>24</th>\n",
              "      <td>Logout</td>\n",
              "      <td>0</td>\n",
              "      <td>2673</td>\n",
              "      <td>0.011458</td>\n",
              "    </tr>\n",
              "    <tr>\n",
              "      <th>25</th>\n",
              "      <td>Home</td>\n",
              "      <td>1</td>\n",
              "      <td>1672</td>\n",
              "      <td>0.037268</td>\n",
              "    </tr>\n",
              "    <tr>\n",
              "      <th>26</th>\n",
              "      <td>Add Friend</td>\n",
              "      <td>0</td>\n",
              "      <td>3641</td>\n",
              "      <td>0.015607</td>\n",
              "    </tr>\n",
              "    <tr>\n",
              "      <th>27</th>\n",
              "      <td>Upgrade</td>\n",
              "      <td>1</td>\n",
              "      <td>112</td>\n",
              "      <td>0.002496</td>\n",
              "    </tr>\n",
              "    <tr>\n",
              "      <th>28</th>\n",
              "      <td>Submit Upgrade</td>\n",
              "      <td>1</td>\n",
              "      <td>32</td>\n",
              "      <td>0.000713</td>\n",
              "    </tr>\n",
              "    <tr>\n",
              "      <th>29</th>\n",
              "      <td>About</td>\n",
              "      <td>0</td>\n",
              "      <td>439</td>\n",
              "      <td>0.001882</td>\n",
              "    </tr>\n",
              "    <tr>\n",
              "      <th>30</th>\n",
              "      <td>Add to Playlist</td>\n",
              "      <td>0</td>\n",
              "      <td>5488</td>\n",
              "      <td>0.023524</td>\n",
              "    </tr>\n",
              "    <tr>\n",
              "      <th>31</th>\n",
              "      <td>Save Settings</td>\n",
              "      <td>1</td>\n",
              "      <td>58</td>\n",
              "      <td>0.001293</td>\n",
              "    </tr>\n",
              "    <tr>\n",
              "      <th>32</th>\n",
              "      <td>Help</td>\n",
              "      <td>1</td>\n",
              "      <td>239</td>\n",
              "      <td>0.005327</td>\n",
              "    </tr>\n",
              "    <tr>\n",
              "      <th>33</th>\n",
              "      <td>NextSong</td>\n",
              "      <td>1</td>\n",
              "      <td>36394</td>\n",
              "      <td>0.811207</td>\n",
              "    </tr>\n",
              "    <tr>\n",
              "      <th>34</th>\n",
              "      <td>NextSong</td>\n",
              "      <td>0</td>\n",
              "      <td>191714</td>\n",
              "      <td>0.821784</td>\n",
              "    </tr>\n",
              "    <tr>\n",
              "      <th>35</th>\n",
              "      <td>Help</td>\n",
              "      <td>0</td>\n",
              "      <td>1215</td>\n",
              "      <td>0.005208</td>\n",
              "    </tr>\n",
              "  </tbody>\n",
              "</table>\n",
              "</div>"
            ],
            "text/plain": [
              "                         page  churn   count      rate\n",
              "0                    Settings      0    1244  0.005332\n",
              "1                 Thumbs Down      1     496  0.011056\n",
              "2                   Thumbs Up      1    1859  0.041436\n",
              "3             Add to Playlist      1    1038  0.023137\n",
              "4                       Error      1      32  0.000713\n",
              "5                       About      1      56  0.001248\n",
              "6                 Thumbs Down      0    2050  0.008787\n",
              "7                 Roll Advert      1     967  0.021554\n",
              "8                        Home      0    8410  0.036050\n",
              "9   Cancellation Confirmation      1      52  0.001159\n",
              "10                      Error      0     220  0.000943\n",
              "11                     Cancel      1      52  0.001159\n",
              "12                   Settings      1     270  0.006018\n",
              "13                 Add Friend      1     636  0.014176\n",
              "14                    Upgrade      0     387  0.001659\n",
              "15                  Downgrade      1     337  0.007512\n",
              "16                     Logout      1     553  0.012326\n",
              "17           Submit Downgrade      1       9  0.000201\n",
              "18              Save Settings      0     252  0.001080\n",
              "19                  Thumbs Up      0   10692  0.045831\n",
              "20                  Downgrade      0    1718  0.007364\n",
              "21             Submit Upgrade      0     127  0.000544\n",
              "22                Roll Advert      0    2966  0.012714\n",
              "23           Submit Downgrade      0      54  0.000231\n",
              "24                     Logout      0    2673  0.011458\n",
              "25                       Home      1    1672  0.037268\n",
              "26                 Add Friend      0    3641  0.015607\n",
              "27                    Upgrade      1     112  0.002496\n",
              "28             Submit Upgrade      1      32  0.000713\n",
              "29                      About      0     439  0.001882\n",
              "30            Add to Playlist      0    5488  0.023524\n",
              "31              Save Settings      1      58  0.001293\n",
              "32                       Help      1     239  0.005327\n",
              "33                   NextSong      1   36394  0.811207\n",
              "34                   NextSong      0  191714  0.821784\n",
              "35                       Help      0    1215  0.005208"
            ]
          },
          "execution_count": 59,
          "metadata": {},
          "output_type": "execute_result"
        }
      ],
      "source": [
        "df_page.head(40)"
      ]
    },
    {
      "cell_type": "code",
      "execution_count": null,
      "metadata": {
        "id": "jaXeehB3STr9",
        "outputId": "0bd617f9-45ed-403b-8a94-b693eb41f671"
      },
      "outputs": [
        {
          "data": {
            "image/png": "[encoded data removed]",
            "text/plain": [
              "<matplotlib.figure.Figure at 0x7fa7cdfad908>"
            ]
          },
          "metadata": {
            "needs_background": "light"
          },
          "output_type": "display_data"
        }
      ],
      "source": [
        "# plot the pages by churn\n",
        "plt.figure(figsize=[20,16])\n",
        "sns.barplot(data = df_page, x = 'rate', y = 'page', hue = 'churn')\n",
        "plt.title('Rate of Pages Navigated to by Users that Churned vs. Users that Stayed');"
      ]
    },
    {
      "cell_type": "markdown",
      "metadata": {
        "id": "JMMYo_1LSTr9"
      },
      "source": [
        "From the above chart, we can see that the most popular action for both users that stayed and those that churned was to skip to the next song. We can also see that churned users rolled the ad and thumbs down songs more. Those who were more likely to stay performed more thumbs up actions, added friends and also added songs to playlist."
      ]
    },
    {
      "cell_type": "markdown",
      "metadata": {
        "id": "w_nK0GtpSTr9"
      },
      "source": [
        "### Calculating Songs per Hour"
      ]
    },
    {
      "cell_type": "markdown",
      "metadata": {
        "id": "9sP84btoSTr9"
      },
      "source": [
        "We can now turn our attention to calculating the number of songs listened to by churn and non churn users per hour."
      ]
    },
    {
      "cell_type": "code",
      "execution_count": null,
      "metadata": {
        "id": "dBog4OukSTr9"
      },
      "outputs": [],
      "source": [
        "# get hour from the timestamp\n",
        "get_hour = udf(lambda x: datetime.datetime.fromtimestamp(x / 1000.0). hour)"
      ]
    },
    {
      "cell_type": "code",
      "execution_count": null,
      "metadata": {
        "id": "BAW7upveSTr9"
      },
      "outputs": [],
      "source": [
        "# create hour column\n",
        "df = df.withColumn(\"hour\", get_hour(df.ts))"
      ]
    },
    {
      "cell_type": "code",
      "execution_count": null,
      "metadata": {
        "id": "ivhsWCsNSTr-",
        "outputId": "a3e4d9d2-89a2-4427-b4ba-8484dcd9f5a3"
      },
      "outputs": [
        {
          "data": {
            "text/plain": [
              "Row(artist=None, auth='Logged In', firstName='Darianna', gender='F', itemInSession=34, lastName='Carpenter', length=None, level='free', location='Bridgeport-Stamford-Norwalk, CT', method='PUT', page='Logout', registration=1538016340000, sessionId=187, song=None, status=307, ts=1542823952000, userAgent='\"Mozilla/5.0 (iPhone; CPU iPhone OS 7_1_2 like Mac OS X) AppleWebKit/537.51.2 (KHTML, like Gecko) Version/7.0 Mobile/11D257 Safari/9537.53\"', userId='100010', churn=0, hour='18')"
            ]
          },
          "execution_count": 63,
          "metadata": {},
          "output_type": "execute_result"
        }
      ],
      "source": [
        "df.head()"
      ]
    },
    {
      "cell_type": "markdown",
      "metadata": {
        "id": "5FrjBBSESTr-"
      },
      "source": [
        "First we can look at those who didn't churn."
      ]
    },
    {
      "cell_type": "code",
      "execution_count": null,
      "metadata": {
        "id": "zBe-Cji3STr-"
      },
      "outputs": [],
      "source": [
        "# create a df with those who didnt churn and which counts when user goes to next song page\n",
        "songs_in_hour_stay = df.filter((df.page == \"NextSong\") & (df.churn == 0)).groupby(df.hour).count().orderBy(df.hour.cast(\"float\"))"
      ]
    },
    {
      "cell_type": "code",
      "execution_count": null,
      "metadata": {
        "id": "0-H0LRbjSTr-",
        "outputId": "146d750f-030b-4c5e-8386-195fbc564b5b"
      },
      "outputs": [
        {
          "name": "stdout",
          "output_type": "stream",
          "text": [
            "+----+-----+\n",
            "|hour|count|\n",
            "+----+-----+\n",
            "|   0| 7527|\n",
            "|   1| 7035|\n",
            "|   2| 7014|\n",
            "|   3| 7063|\n",
            "|   4| 6914|\n",
            "|   5| 6960|\n",
            "|   6| 6836|\n",
            "|   7| 6873|\n",
            "|   8| 7023|\n",
            "|   9| 7268|\n",
            "|  10| 7502|\n",
            "|  11| 7440|\n",
            "|  12| 7918|\n",
            "|  13| 8073|\n",
            "|  14| 8792|\n",
            "|  15| 9462|\n",
            "|  16| 9721|\n",
            "|  17| 9464|\n",
            "|  18| 9146|\n",
            "|  19| 9112|\n",
            "|  20| 9107|\n",
            "|  21| 8853|\n",
            "|  22| 8526|\n",
            "|  23| 8085|\n",
            "+----+-----+\n",
            "\n"
          ]
        }
      ],
      "source": [
        "songs_in_hour_stay.show(24)"
      ]
    },
    {
      "cell_type": "code",
      "execution_count": null,
      "metadata": {
        "id": "iqoETSOASTr-"
      },
      "outputs": [],
      "source": [
        "# convert to pandas and then to numeric\n",
        "songs_in_hour_stay_pd = songs_in_hour_stay.toPandas()\n",
        "songs_in_hour_stay_pd.hour = pd.to_numeric(songs_in_hour_stay_pd.hour)"
      ]
    },
    {
      "cell_type": "code",
      "execution_count": null,
      "metadata": {
        "id": "qXQQfJHUSTr-",
        "outputId": "df660e59-2ab3-4ab5-a252-943ea141db67"
      },
      "outputs": [
        {
          "data": {
            "text/html": [
              "<div>\n",
              "<style scoped>\n",
              "    .dataframe tbody tr th:only-of-type {\n",
              "        vertical-align: middle;\n",
              "    }\n",
              "\n",
              "    .dataframe tbody tr th {\n",
              "        vertical-align: top;\n",
              "    }\n",
              "\n",
              "    .dataframe thead th {\n",
              "        text-align: right;\n",
              "    }\n",
              "</style>\n",
              "<table border=\"1\" class=\"dataframe\">\n",
              "  <thead>\n",
              "    <tr style=\"text-align: right;\">\n",
              "      <th></th>\n",
              "      <th>hour</th>\n",
              "      <th>count</th>\n",
              "    </tr>\n",
              "  </thead>\n",
              "  <tbody>\n",
              "    <tr>\n",
              "      <th>0</th>\n",
              "      <td>0</td>\n",
              "      <td>7527</td>\n",
              "    </tr>\n",
              "    <tr>\n",
              "      <th>1</th>\n",
              "      <td>1</td>\n",
              "      <td>7035</td>\n",
              "    </tr>\n",
              "    <tr>\n",
              "      <th>2</th>\n",
              "      <td>2</td>\n",
              "      <td>7014</td>\n",
              "    </tr>\n",
              "    <tr>\n",
              "      <th>3</th>\n",
              "      <td>3</td>\n",
              "      <td>7063</td>\n",
              "    </tr>\n",
              "    <tr>\n",
              "      <th>4</th>\n",
              "      <td>4</td>\n",
              "      <td>6914</td>\n",
              "    </tr>\n",
              "    <tr>\n",
              "      <th>5</th>\n",
              "      <td>5</td>\n",
              "      <td>6960</td>\n",
              "    </tr>\n",
              "    <tr>\n",
              "      <th>6</th>\n",
              "      <td>6</td>\n",
              "      <td>6836</td>\n",
              "    </tr>\n",
              "    <tr>\n",
              "      <th>7</th>\n",
              "      <td>7</td>\n",
              "      <td>6873</td>\n",
              "    </tr>\n",
              "    <tr>\n",
              "      <th>8</th>\n",
              "      <td>8</td>\n",
              "      <td>7023</td>\n",
              "    </tr>\n",
              "    <tr>\n",
              "      <th>9</th>\n",
              "      <td>9</td>\n",
              "      <td>7268</td>\n",
              "    </tr>\n",
              "    <tr>\n",
              "      <th>10</th>\n",
              "      <td>10</td>\n",
              "      <td>7502</td>\n",
              "    </tr>\n",
              "    <tr>\n",
              "      <th>11</th>\n",
              "      <td>11</td>\n",
              "      <td>7440</td>\n",
              "    </tr>\n",
              "    <tr>\n",
              "      <th>12</th>\n",
              "      <td>12</td>\n",
              "      <td>7918</td>\n",
              "    </tr>\n",
              "    <tr>\n",
              "      <th>13</th>\n",
              "      <td>13</td>\n",
              "      <td>8073</td>\n",
              "    </tr>\n",
              "    <tr>\n",
              "      <th>14</th>\n",
              "      <td>14</td>\n",
              "      <td>8792</td>\n",
              "    </tr>\n",
              "    <tr>\n",
              "      <th>15</th>\n",
              "      <td>15</td>\n",
              "      <td>9462</td>\n",
              "    </tr>\n",
              "    <tr>\n",
              "      <th>16</th>\n",
              "      <td>16</td>\n",
              "      <td>9721</td>\n",
              "    </tr>\n",
              "    <tr>\n",
              "      <th>17</th>\n",
              "      <td>17</td>\n",
              "      <td>9464</td>\n",
              "    </tr>\n",
              "    <tr>\n",
              "      <th>18</th>\n",
              "      <td>18</td>\n",
              "      <td>9146</td>\n",
              "    </tr>\n",
              "    <tr>\n",
              "      <th>19</th>\n",
              "      <td>19</td>\n",
              "      <td>9112</td>\n",
              "    </tr>\n",
              "    <tr>\n",
              "      <th>20</th>\n",
              "      <td>20</td>\n",
              "      <td>9107</td>\n",
              "    </tr>\n",
              "    <tr>\n",
              "      <th>21</th>\n",
              "      <td>21</td>\n",
              "      <td>8853</td>\n",
              "    </tr>\n",
              "    <tr>\n",
              "      <th>22</th>\n",
              "      <td>22</td>\n",
              "      <td>8526</td>\n",
              "    </tr>\n",
              "    <tr>\n",
              "      <th>23</th>\n",
              "      <td>23</td>\n",
              "      <td>8085</td>\n",
              "    </tr>\n",
              "  </tbody>\n",
              "</table>\n",
              "</div>"
            ],
            "text/plain": [
              "    hour  count\n",
              "0      0   7527\n",
              "1      1   7035\n",
              "2      2   7014\n",
              "3      3   7063\n",
              "4      4   6914\n",
              "5      5   6960\n",
              "6      6   6836\n",
              "7      7   6873\n",
              "8      8   7023\n",
              "9      9   7268\n",
              "10    10   7502\n",
              "11    11   7440\n",
              "12    12   7918\n",
              "13    13   8073\n",
              "14    14   8792\n",
              "15    15   9462\n",
              "16    16   9721\n",
              "17    17   9464\n",
              "18    18   9146\n",
              "19    19   9112\n",
              "20    20   9107\n",
              "21    21   8853\n",
              "22    22   8526\n",
              "23    23   8085"
            ]
          },
          "execution_count": 67,
          "metadata": {},
          "output_type": "execute_result"
        }
      ],
      "source": [
        "songs_in_hour_stay_pd"
      ]
    },
    {
      "cell_type": "code",
      "execution_count": null,
      "metadata": {
        "id": "ANbLOCPASTr-",
        "outputId": "1bb6d69d-323c-4e39-c820-2ee54ae3885b"
      },
      "outputs": [
        {
          "data": {
            "image/png": "[encoded data removed]",
            "text/plain": [
              "<matplotlib.figure.Figure at 0x7fa7d172ed30>"
            ]
          },
          "metadata": {
            "needs_background": "light"
          },
          "output_type": "display_data"
        }
      ],
      "source": [
        "#plot the distribution\n",
        "plt.figure(figsize = [8,6])\n",
        "plt.scatter(songs_in_hour_stay_pd[\"hour\"], songs_in_hour_stay_pd[\"count\"])\n",
        "plt.xlim(-1, 24)\n",
        "plt.xlabel(\"Hour\")\n",
        "plt.ylabel(\"Songs played\")\n",
        "plt.title(\"Number of Songs Played per Hour (Non Churn Users)\");"
      ]
    },
    {
      "cell_type": "markdown",
      "metadata": {
        "id": "Us16wg2CSTr-"
      },
      "source": [
        "From above we can see that there is a peak of songs played between 3pm and 8pm. Next we will examine users who churned by using the same process."
      ]
    },
    {
      "cell_type": "code",
      "execution_count": null,
      "metadata": {
        "id": "lvzaJ4SSSTr-"
      },
      "outputs": [],
      "source": [
        "# dataframe with customers who churned and count next song page\n",
        "songs_in_hour_churned = df.filter((df.page == \"NextSong\") & (df.churn == 1)).groupby(df.hour).count().orderBy(df.hour.cast(\"float\"))"
      ]
    },
    {
      "cell_type": "code",
      "execution_count": null,
      "metadata": {
        "id": "Yfd3kIFbSTr-",
        "outputId": "ad2361cc-c43a-4c43-c1bc-38f7aefb52c7"
      },
      "outputs": [
        {
          "name": "stdout",
          "output_type": "stream",
          "text": [
            "+----+-----+\n",
            "|hour|count|\n",
            "+----+-----+\n",
            "|   0| 1535|\n",
            "|   1| 1353|\n",
            "|   2| 1322|\n",
            "|   3| 1292|\n",
            "|   4| 1233|\n",
            "|   5| 1218|\n",
            "|   6| 1218|\n",
            "|   7| 1218|\n",
            "|   8| 1230|\n",
            "|   9| 1230|\n",
            "|  10| 1380|\n",
            "|  11| 1390|\n",
            "|  12| 1408|\n",
            "|  13| 1571|\n",
            "|  14| 1702|\n",
            "|  15| 1892|\n",
            "|  16| 1915|\n",
            "|  17| 1996|\n",
            "|  18| 1978|\n",
            "|  19| 1818|\n",
            "+----+-----+\n",
            "only showing top 20 rows\n",
            "\n"
          ]
        }
      ],
      "source": [
        "songs_in_hour_churned.show()"
      ]
    },
    {
      "cell_type": "code",
      "execution_count": null,
      "metadata": {
        "id": "3DNPikWDSTr-"
      },
      "outputs": [],
      "source": [
        "# convert to pandas and to numeric\n",
        "songs_in_hour_churned = songs_in_hour_churned.toPandas()\n",
        "songs_in_hour_churned.hour = pd.to_numeric(songs_in_hour_churned.hour)"
      ]
    },
    {
      "cell_type": "code",
      "execution_count": null,
      "metadata": {
        "id": "tLKwMvLUSTr_",
        "outputId": "0e57afa7-3788-4dbd-9353-fc530d295e95"
      },
      "outputs": [
        {
          "data": {
            "image/png": "[encoded data removed]",
            "text/plain": [
              "<matplotlib.figure.Figure at 0x7fa7d0c6d7f0>"
            ]
          },
          "metadata": {
            "needs_background": "light"
          },
          "output_type": "display_data"
        }
      ],
      "source": [
        "#plot distribution of songs per hour for churned\n",
        "plt.figure(figsize = [8,6])\n",
        "plt.scatter(songs_in_hour_churned[\"hour\"], songs_in_hour_churned[\"count\"])\n",
        "plt.xlim(-1, 24)\n",
        "plt.xlabel(\"Hour\")\n",
        "plt.ylabel(\"Songs played\")\n",
        "plt.title(\"Number of Songs Played per Hour Users who Churned\");"
      ]
    },
    {
      "cell_type": "markdown",
      "metadata": {
        "id": "ZfLL437KSTr_"
      },
      "source": [
        "We can see users that churned had a similar distribution, however they listened to fewer songs per hour than users that stayed."
      ]
    },
    {
      "cell_type": "markdown",
      "metadata": {
        "id": "p0DXOIeTSTr_"
      },
      "source": [
        "### Songs Per Session for Users who Churned vs. Those who Stayed"
      ]
    },
    {
      "cell_type": "markdown",
      "metadata": {
        "id": "o1FHqWdaSTr_"
      },
      "source": [
        "We can plot this in a simple way which will allow us to compare those who churned and those who stayed in a bar chart by getting the averages for both groups."
      ]
    },
    {
      "cell_type": "code",
      "execution_count": null,
      "metadata": {
        "id": "RHsEShsFSTr_"
      },
      "outputs": [],
      "source": [
        "df_songs = df.filter(df.page == \"NextSong\").dropDuplicates().groupBy('sessionId','churn').count()"
      ]
    },
    {
      "cell_type": "code",
      "execution_count": null,
      "metadata": {
        "id": "RoOCSTvySTr_",
        "outputId": "6a4e7660-a785-4117-f1a3-96dacf21f6a9"
      },
      "outputs": [
        {
          "name": "stdout",
          "output_type": "stream",
          "text": [
            "+-----+-----------------+\n",
            "|churn|       avg(count)|\n",
            "+-----+-----------------+\n",
            "|    0| 93.3369036027264|\n",
            "|    1|79.81140350877193|\n",
            "+-----+-----------------+\n",
            "\n"
          ]
        }
      ],
      "source": [
        "# get average grouped by churn\n",
        "df_songs.groupby('churn').agg({\"count\":\"avg\"}).show()"
      ]
    },
    {
      "cell_type": "code",
      "execution_count": null,
      "metadata": {
        "id": "WinDq66eSTr_"
      },
      "outputs": [],
      "source": [
        "df_songs = df_songs.groupby('churn').agg({\"count\":\"avg\"})"
      ]
    },
    {
      "cell_type": "code",
      "execution_count": null,
      "metadata": {
        "id": "hKhji2B8STr_"
      },
      "outputs": [],
      "source": [
        "# convert this to pandas df\n",
        "df_songs = df_songs.toPandas()"
      ]
    },
    {
      "cell_type": "code",
      "execution_count": null,
      "metadata": {
        "id": "_WYRNPc1STr_",
        "outputId": "499dc70a-7340-4023-9456-edae0caba097"
      },
      "outputs": [
        {
          "data": {
            "image/png": "[encoded data removed]",
            "text/plain": [
              "<matplotlib.figure.Figure at 0x7fa7d06d6390>"
            ]
          },
          "metadata": {
            "needs_background": "light"
          },
          "output_type": "display_data"
        }
      ],
      "source": [
        "#plot\n",
        "plt.figure(figsize = [8,6])\n",
        "ax = sns.barplot(data = df_songs, x = 'churn', y='avg(count)')\n",
        "plt.title(\"Average number of Songs Played per Session for Users that Churned vs. Users that Stayed\")\n",
        "plt.ylabel(\"Average Number of Songs Played Per Session\");"
      ]
    },
    {
      "cell_type": "markdown",
      "metadata": {
        "id": "LSCL9mVGSTr_"
      },
      "source": [
        "From the chart we can see that those churned from Sparkify actually listening to fewer songs on average per session."
      ]
    },
    {
      "cell_type": "markdown",
      "metadata": {
        "id": "0veNLcJgSTr_"
      },
      "source": [
        "### Number of Unique Artists Listened to"
      ]
    },
    {
      "cell_type": "markdown",
      "metadata": {
        "id": "_wORyy24STsA"
      },
      "source": [
        "We can create a similar chart for the number of artists that users listened to."
      ]
    },
    {
      "cell_type": "code",
      "execution_count": null,
      "metadata": {
        "id": "p7AD8_JsSTsA"
      },
      "outputs": [],
      "source": [
        "df_artists = df.select(\"artist\", \"userId\", \"churn\").dropDuplicates().groupby(\"userId\", \"churn\").count()"
      ]
    },
    {
      "cell_type": "code",
      "execution_count": null,
      "metadata": {
        "id": "7SYW_PbzSTsA",
        "outputId": "c6efea34-286f-44ae-f43e-a3fb5c2b93bc"
      },
      "outputs": [
        {
          "name": "stdout",
          "output_type": "stream",
          "text": [
            "+-----+-----------------+\n",
            "|churn|       avg(count)|\n",
            "+-----+-----------------+\n",
            "|    0|750.7803468208092|\n",
            "|    1|519.6923076923077|\n",
            "+-----+-----------------+\n",
            "\n"
          ]
        }
      ],
      "source": [
        "# get averages\n",
        "df_artists.groupby('churn').agg({\"count\":\"avg\"}).show()"
      ]
    },
    {
      "cell_type": "code",
      "execution_count": null,
      "metadata": {
        "id": "ApalhA_YSTsA"
      },
      "outputs": [],
      "source": [
        "# convert to pandas\n",
        "df_artists = df_artists.toPandas()"
      ]
    },
    {
      "cell_type": "markdown",
      "metadata": {
        "id": "aszwsM0VSTsA"
      },
      "source": [
        "We can plot this as a boxplot to see the max and medians for both groups."
      ]
    },
    {
      "cell_type": "code",
      "execution_count": null,
      "metadata": {
        "id": "NRKxsNKgSTsA",
        "outputId": "2f2f9464-dd9f-4672-ae3a-8e9a83e4be83"
      },
      "outputs": [
        {
          "data": {
            "text/plain": [
              "Text(0.5,1,'Number of Artists Listened to on Sparkify')"
            ]
          },
          "execution_count": 81,
          "metadata": {},
          "output_type": "execute_result"
        },
        {
          "data": {
            "image/png": "[encoded data removed]",
            "text/plain": [
              "<matplotlib.figure.Figure at 0x7fa7cfc43160>"
            ]
          },
          "metadata": {
            "needs_background": "light"
          },
          "output_type": "display_data"
        }
      ],
      "source": [
        "#plot boxplot\n",
        "plt.figure(figsize = [8,6])\n",
        "ax = sns.boxplot(data = df_artists, x = 'churn', y='count')\n",
        "plt.title(\"Number of Artists Listened to on Sparkify\")"
      ]
    },
    {
      "cell_type": "markdown",
      "metadata": {
        "id": "hI5cn2SXSTsA"
      },
      "source": [
        "From the above we can see that those who didn't churn listened to a larger number of different artists compared to those who churned."
      ]
    },
    {
      "cell_type": "markdown",
      "metadata": {
        "id": "4ZIn43A8STsA"
      },
      "source": [
        "### Location"
      ]
    },
    {
      "cell_type": "markdown",
      "metadata": {
        "id": "TYe4Udu8STsA"
      },
      "source": [
        "We can now examine if location had an effect on churn."
      ]
    },
    {
      "cell_type": "code",
      "execution_count": null,
      "metadata": {
        "id": "OL2tKme-STsA",
        "outputId": "ade21321-1f3f-4146-bf82-db37ebd71525"
      },
      "outputs": [
        {
          "name": "stdout",
          "output_type": "stream",
          "text": [
            "+--------------------+-----+\n",
            "|            location|count|\n",
            "+--------------------+-----+\n",
            "|     Gainesville, FL| 1229|\n",
            "|Atlantic City-Ham...| 2176|\n",
            "|Deltona-Daytona B...|   73|\n",
            "|San Diego-Carlsba...|  754|\n",
            "|Cleveland-Elyria, OH| 1392|\n",
            "|Kingsport-Bristol...| 1863|\n",
            "|New Haven-Milford...| 4007|\n",
            "|Birmingham-Hoover...|   75|\n",
            "|  Corpus Christi, TX|   11|\n",
            "|         Dubuque, IA|  651|\n",
            "|Las Vegas-Henders...| 2042|\n",
            "|Indianapolis-Carm...|  970|\n",
            "|Seattle-Tacoma-Be...|  246|\n",
            "|          Albany, OR|   23|\n",
            "|   Winston-Salem, NC|  819|\n",
            "|     Bakersfield, CA| 1775|\n",
            "|Los Angeles-Long ...|30131|\n",
            "|Minneapolis-St. P...| 2134|\n",
            "|San Francisco-Oak...| 2647|\n",
            "|Phoenix-Mesa-Scot...| 4846|\n",
            "+--------------------+-----+\n",
            "only showing top 20 rows\n",
            "\n"
          ]
        }
      ],
      "source": [
        "df.select(\"location\", \"userId\", \"churn\").groupby(\"location\").count().show()"
      ]
    },
    {
      "cell_type": "markdown",
      "metadata": {
        "id": "PW4xcy-wSTsA"
      },
      "source": [
        "Let's just extract the state from the location by taking the last two characters in the location string."
      ]
    },
    {
      "cell_type": "code",
      "execution_count": null,
      "metadata": {
        "id": "S8UFdYPDSTsA"
      },
      "outputs": [],
      "source": [
        "# get last two characters\n",
        "get_state = udf(lambda x: x[-2:])"
      ]
    },
    {
      "cell_type": "code",
      "execution_count": null,
      "metadata": {
        "id": "pRb78eB2STsA"
      },
      "outputs": [],
      "source": [
        "# create state column\n",
        "df_state = df.withColumn(\"state\", get_state(df.location))"
      ]
    },
    {
      "cell_type": "code",
      "execution_count": null,
      "metadata": {
        "id": "pgwrgktBSTsA",
        "outputId": "162db5f6-7302-4346-bc5e-51b76c0b26c9"
      },
      "outputs": [
        {
          "data": {
            "text/plain": [
              "[Row(artist=None, auth='Logged In', firstName='Darianna', gender='F', itemInSession=34, lastName='Carpenter', length=None, level='free', location='Bridgeport-Stamford-Norwalk, CT', method='PUT', page='Logout', registration=1538016340000, sessionId=187, song=None, status=307, ts=1542823952000, userAgent='\"Mozilla/5.0 (iPhone; CPU iPhone OS 7_1_2 like Mac OS X) AppleWebKit/537.51.2 (KHTML, like Gecko) Version/7.0 Mobile/11D257 Safari/9537.53\"', userId='100010', churn=0, hour='18', state='CT'),\n",
              " Row(artist='Lily Allen', auth='Logged In', firstName='Darianna', gender='F', itemInSession=33, lastName='Carpenter', length=185.25995, level='free', location='Bridgeport-Stamford-Norwalk, CT', method='PUT', page='NextSong', registration=1538016340000, sessionId=187, song='22', status=200, ts=1542823951000, userAgent='\"Mozilla/5.0 (iPhone; CPU iPhone OS 7_1_2 like Mac OS X) AppleWebKit/537.51.2 (KHTML, like Gecko) Version/7.0 Mobile/11D257 Safari/9537.53\"', userId='100010', churn=0, hour='18', state='CT')]"
            ]
          },
          "execution_count": 85,
          "metadata": {},
          "output_type": "execute_result"
        }
      ],
      "source": [
        "# check that create state column worked\n",
        "df_state.take(2)"
      ]
    },
    {
      "cell_type": "code",
      "execution_count": null,
      "metadata": {
        "id": "gAvlC5hfSTsB"
      },
      "outputs": [],
      "source": [
        "df_state = df_state.select(\"state\", \"userId\", \"churn\").dropDuplicates().groupby(\"state\", \"churn\").count()"
      ]
    },
    {
      "cell_type": "code",
      "execution_count": null,
      "metadata": {
        "id": "LU7gFiW_STsB"
      },
      "outputs": [],
      "source": [
        "# convert to pandas\n",
        "df_state_pd = df_state.toPandas()"
      ]
    },
    {
      "cell_type": "code",
      "execution_count": null,
      "metadata": {
        "id": "EL13RMn2STsB",
        "outputId": "efb1e689-90f7-4c06-85ae-5930f56ded98"
      },
      "outputs": [
        {
          "data": {
            "image/png": "[encoded data removed]",
            "text/plain": [
              "<matplotlib.figure.Figure at 0x7fa7d3420518>"
            ]
          },
          "metadata": {
            "needs_background": "light"
          },
          "output_type": "display_data"
        }
      ],
      "source": [
        "# plot\n",
        "plt.figure(figsize=[20,16])\n",
        "sns.barplot(data = df_state_pd, x = 'count', y = 'state', hue = 'churn')\n",
        "plt.title('Count of Users that Churned vs. Users that Stayed by US State');"
      ]
    },
    {
      "cell_type": "markdown",
      "metadata": {
        "id": "okbZXOtcSTsB"
      },
      "source": [
        "Most users were based in CA. More users in MI, KY, and OH states churned than stayed. This may be difficult to engineer a useful feature for when it comes to modelling. Let's leave this for now and move onto another column from our dataset; operating systems and browsers."
      ]
    },
    {
      "cell_type": "markdown",
      "metadata": {
        "id": "4X1MVlmjSTsB"
      },
      "source": [
        "### UserAgent: Operating System and Browsers"
      ]
    },
    {
      "cell_type": "markdown",
      "metadata": {
        "id": "8fZVqgawSTsB"
      },
      "source": [
        "Now we can extract the Operating System a user is on to understand if this has an effect on churn."
      ]
    },
    {
      "cell_type": "code",
      "execution_count": null,
      "metadata": {
        "id": "cV_OtRhfSTsB"
      },
      "outputs": [],
      "source": [
        "df_opsys = df.select(\"userId\", \"userAgent\", \"churn\").dropDuplicates(['userId'])"
      ]
    },
    {
      "cell_type": "code",
      "execution_count": null,
      "metadata": {
        "id": "GSnRYJfUSTsB",
        "outputId": "a9b3c1d8-28b7-4764-c57c-df2fa2cb3c5c"
      },
      "outputs": [
        {
          "name": "stdout",
          "output_type": "stream",
          "text": [
            "+------+--------------------+-----+\n",
            "|userId|           userAgent|churn|\n",
            "+------+--------------------+-----+\n",
            "|100010|\"Mozilla/5.0 (iPh...|    0|\n",
            "|200002|\"Mozilla/5.0 (iPh...|    0|\n",
            "|   125|\"Mozilla/5.0 (Mac...|    1|\n",
            "|   124|\"Mozilla/5.0 (Mac...|    0|\n",
            "|    51|\"Mozilla/5.0 (Win...|    1|\n",
            "|     7|Mozilla/5.0 (Wind...|    0|\n",
            "|    15|\"Mozilla/5.0 (Win...|    0|\n",
            "|    54|Mozilla/5.0 (Wind...|    1|\n",
            "|   155|\"Mozilla/5.0 (Win...|    0|\n",
            "|100014|\"Mozilla/5.0 (Win...|    1|\n",
            "|   132|\"Mozilla/5.0 (Mac...|    0|\n",
            "|   154|\"Mozilla/5.0 (Win...|    0|\n",
            "|   101|Mozilla/5.0 (Wind...|    1|\n",
            "|    11|Mozilla/5.0 (Wind...|    0|\n",
            "|   138|\"Mozilla/5.0 (iPa...|    0|\n",
            "|300017|\"Mozilla/5.0 (Mac...|    0|\n",
            "|100021|\"Mozilla/5.0 (Mac...|    1|\n",
            "|    29|\"Mozilla/5.0 (Mac...|    1|\n",
            "|    69|\"Mozilla/5.0 (Win...|    0|\n",
            "|   112|Mozilla/5.0 (Wind...|    0|\n",
            "+------+--------------------+-----+\n",
            "only showing top 20 rows\n",
            "\n"
          ]
        }
      ],
      "source": [
        "df_opsys.show()"
      ]
    },
    {
      "cell_type": "code",
      "execution_count": null,
      "metadata": {
        "id": "hZuGbNDFSTsB"
      },
      "outputs": [],
      "source": [
        "# convert to pandas\n",
        "df_opsys = df_opsys.toPandas()"
      ]
    },
    {
      "cell_type": "code",
      "execution_count": null,
      "metadata": {
        "id": "oEEhK8hpSTsB",
        "outputId": "94bf454c-338a-430a-fcdd-312e9c25b346"
      },
      "outputs": [
        {
          "data": {
            "text/plain": [
              "\"Mozilla/5.0 (Windows NT 6.1; WOW64) AppleWebKit/537.36 (KHTML, like Gecko) Chrome/36.0.1985.143 Safari/537.36\"                                24\n",
              "Mozilla/5.0 (Windows NT 6.1; WOW64; rv:31.0) Gecko/20100101 Firefox/31.0                                                                       18\n",
              "\"Mozilla/5.0 (Macintosh; Intel Mac OS X 10_9_4) AppleWebKit/537.36 (KHTML, like Gecko) Chrome/36.0.1985.125 Safari/537.36\"                     16\n",
              "\"Mozilla/5.0 (Macintosh; Intel Mac OS X 10_9_4) AppleWebKit/537.36 (KHTML, like Gecko) Chrome/36.0.1985.143 Safari/537.36\"                     12\n",
              "\"Mozilla/5.0 (Macintosh; Intel Mac OS X 10_9_4) AppleWebKit/537.77.4 (KHTML, like Gecko) Version/7.0.5 Safari/537.77.4\"                        12\n",
              "\"Mozilla/5.0 (Windows NT 6.1; WOW64) AppleWebKit/537.36 (KHTML, like Gecko) Chrome/36.0.1985.125 Safari/537.36\"                                10\n",
              "\"Mozilla/5.0 (Macintosh; Intel Mac OS X 10_9_4) AppleWebKit/537.78.2 (KHTML, like Gecko) Version/7.0.6 Safari/537.78.2\"                        10\n",
              "Mozilla/5.0 (Macintosh; Intel Mac OS X 10.9; rv:31.0) Gecko/20100101 Firefox/31.0                                                               9\n",
              "\"Mozilla/5.0 (iPhone; CPU iPhone OS 7_1_2 like Mac OS X) AppleWebKit/537.51.2 (KHTML, like Gecko) Version/7.0 Mobile/11D257 Safari/9537.53\"     8\n",
              "\"Mozilla/5.0 (Windows NT 6.3; WOW64) AppleWebKit/537.36 (KHTML, like Gecko) Chrome/36.0.1985.143 Safari/537.36\"                                 7\n",
              "\"Mozilla/5.0 (Macintosh; Intel Mac OS X 10_9_4) AppleWebKit/537.36 (KHTML, like Gecko) Chrome/37.0.2062.94 Safari/537.36\"                       7\n",
              "Mozilla/5.0 (Windows NT 6.1; WOW64; Trident/7.0; rv:11.0) like Gecko                                                                            7\n",
              "\"Mozilla/5.0 (Windows NT 6.3; WOW64) AppleWebKit/537.36 (KHTML, like Gecko) Chrome/36.0.1985.125 Safari/537.36\"                                 5\n",
              "Mozilla/5.0 (Windows NT 6.3; WOW64; rv:31.0) Gecko/20100101 Firefox/31.0                                                                        4\n",
              "\"Mozilla/5.0 (Windows NT 5.1) AppleWebKit/537.36 (KHTML, like Gecko) Chrome/36.0.1985.143 Safari/537.36\"                                        4\n",
              "\"Mozilla/5.0 (Windows NT 6.1) AppleWebKit/537.36 (KHTML, like Gecko) Chrome/36.0.1985.143 Safari/537.36\"                                        4\n",
              "\"Mozilla/5.0 (X11; Linux x86_64) AppleWebKit/537.36 (KHTML, like Gecko) Chrome/36.0.1985.143 Safari/537.36\"                                     4\n",
              "Mozilla/5.0 (X11; Ubuntu; Linux x86_64; rv:31.0) Gecko/20100101 Firefox/31.0                                                                    4\n",
              "\"Mozilla/5.0 (iPhone; CPU iPhone OS 7_1 like Mac OS X) AppleWebKit/537.51.2 (KHTML, like Gecko) Version/7.0 Mobile/11D167 Safari/9537.53\"       4\n",
              "\"Mozilla/5.0 (Windows NT 6.1; WOW64) AppleWebKit/537.36 (KHTML, like Gecko) Chrome/37.0.2062.94 Safari/537.36\"                                  4\n",
              "Mozilla/5.0 (Windows NT 6.1; rv:31.0) Gecko/20100101 Firefox/31.0                                                                               3\n",
              "\"Mozilla/5.0 (Windows NT 6.1; WOW64) AppleWebKit/537.36 (KHTML, like Gecko) Chrome/37.0.2062.103 Safari/537.36\"                                 3\n",
              "Mozilla/5.0 (compatible; MSIE 9.0; Windows NT 6.1; WOW64; Trident/5.0)                                                                          3\n",
              "\"Mozilla/5.0 (Macintosh; Intel Mac OS X 10_7_5) AppleWebKit/537.77.4 (KHTML, like Gecko) Version/6.1.5 Safari/537.77.4\"                         2\n",
              "Mozilla/5.0 (Macintosh; Intel Mac OS X 10.7; rv:31.0) Gecko/20100101 Firefox/31.0                                                               2\n",
              "Mozilla/5.0 (Windows NT 6.1; WOW64; rv:32.0) Gecko/20100101 Firefox/32.0                                                                        2\n",
              "\"Mozilla/5.0 (Windows NT 6.1; WOW64) AppleWebKit/537.36 (KHTML, like Gecko) Chrome/35.0.1916.153 Safari/537.36\"                                 2\n",
              "\"Mozilla/5.0 (Macintosh; Intel Mac OS X 10_10) AppleWebKit/600.1.8 (KHTML, like Gecko) Version/8.0 Safari/600.1.8\"                              2\n",
              "\"Mozilla/5.0 (Windows NT 6.2; WOW64) AppleWebKit/537.36 (KHTML, like Gecko) Chrome/36.0.1985.143 Safari/537.36\"                                 2\n",
              "\"Mozilla/5.0 (Macintosh; Intel Mac OS X 10_9_4) AppleWebKit/537.36 (KHTML, like Gecko) Chrome/35.0.1916.153 Safari/537.36\"                      2\n",
              "\"Mozilla/5.0 (iPad; CPU OS 7_1_2 like Mac OS X) AppleWebKit/537.51.2 (KHTML, like Gecko) Version/7.0 Mobile/11D257 Safari/9537.53\"              2\n",
              "\"Mozilla/5.0 (Macintosh; Intel Mac OS X 10_9_2) AppleWebKit/537.36 (KHTML, like Gecko) Chrome/36.0.1985.125 Safari/537.36\"                      2\n",
              "\"Mozilla/5.0 (X11; Linux x86_64) AppleWebKit/537.36 (KHTML, like Gecko) Chrome/36.0.1985.125 Safari/537.36\"                                     2\n",
              "\"Mozilla/5.0 (Macintosh; Intel Mac OS X 10_6_8) AppleWebKit/537.36 (KHTML, like Gecko) Chrome/36.0.1985.143 Safari/537.36\"                      1\n",
              "\"Mozilla/5.0 (iPhone; CPU iPhone OS 7_1_1 like Mac OS X) AppleWebKit/537.51.2 (KHTML, like Gecko) Version/7.0 Mobile/11D201 Safari/9537.53\"     1\n",
              "Mozilla/5.0 (X11; Linux x86_64; rv:31.0) Gecko/20100101 Firefox/31.0                                                                            1\n",
              "\"Mozilla/5.0 (Macintosh; Intel Mac OS X 10_7_5) AppleWebKit/537.36 (KHTML, like Gecko) Chrome/36.0.1985.125 Safari/537.36\"                      1\n",
              "\"Mozilla/5.0 (Windows NT 6.1) AppleWebKit/537.36 (KHTML, like Gecko) Chrome/36.0.1985.125 Safari/537.36\"                                        1\n",
              "\"Mozilla/5.0 (Macintosh; Intel Mac OS X 10_9_2) AppleWebKit/537.74.9 (KHTML, like Gecko) Version/7.0.2 Safari/537.74.9\"                         1\n",
              "Mozilla/5.0 (Macintosh; Intel Mac OS X 10.8; rv:31.0) Gecko/20100101 Firefox/31.0                                                               1\n",
              "\"Mozilla/5.0 (Macintosh; Intel Mac OS X 10_8_5) AppleWebKit/537.36 (KHTML, like Gecko) Chrome/36.0.1985.143 Safari/537.36\"                      1\n",
              "\"Mozilla/5.0 (Windows NT 6.2; WOW64) AppleWebKit/537.36 (KHTML, like Gecko) Chrome/36.0.1985.125 Safari/537.36\"                                 1\n",
              "Mozilla/5.0 (X11; Ubuntu; Linux i686; rv:31.0) Gecko/20100101 Firefox/31.0                                                                      1\n",
              "Mozilla/5.0 (Windows NT 6.0; rv:31.0) Gecko/20100101 Firefox/31.0                                                                               1\n",
              "\"Mozilla/5.0 (Windows NT 5.1) AppleWebKit/537.36 (KHTML, like Gecko) Chrome/36.0.1985.125 Safari/537.36\"                                        1\n",
              "Mozilla/5.0 (Windows NT 6.1; WOW64; rv:24.0) Gecko/20100101 Firefox/24.0                                                                        1\n",
              "\"Mozilla/5.0 (Macintosh; Intel Mac OS X 10_8_5) AppleWebKit/537.36 (KHTML, like Gecko) Chrome/37.0.2062.94 Safari/537.36\"                       1\n",
              "Mozilla/5.0 (compatible; MSIE 9.0; Windows NT 6.1; Trident/5.0)                                                                                 1\n",
              "Mozilla/5.0 (Windows NT 6.1; WOW64; rv:30.0) Gecko/20100101 Firefox/30.0                                                                        1\n",
              "Mozilla/5.0 (compatible; MSIE 10.0; Windows NT 6.1; WOW64; Trident/6.0)                                                                         1\n",
              "\"Mozilla/5.0 (Macintosh; Intel Mac OS X 10_9_3) AppleWebKit/537.76.4 (KHTML, like Gecko) Version/7.0.4 Safari/537.76.4\"                         1\n",
              "\"Mozilla/5.0 (Macintosh; Intel Mac OS X 10_9_2) AppleWebKit/537.75.14 (KHTML, like Gecko) Version/7.0.3 Safari/537.75.14\"                       1\n",
              "\"Mozilla/5.0 (iPad; CPU OS 7_1_1 like Mac OS X) AppleWebKit/537.51.2 (KHTML, like Gecko) Version/7.0 Mobile/11D201 Safari/9537.53\"              1\n",
              "Mozilla/5.0 (Windows NT 6.2; WOW64; rv:31.0) Gecko/20100101 Firefox/31.0                                                                        1\n",
              "Mozilla/5.0 (Macintosh; Intel Mac OS X 10.6; rv:31.0) Gecko/20100101 Firefox/31.0                                                               1\n",
              "\"Mozilla/5.0 (Macintosh; Intel Mac OS X 10_10) AppleWebKit/600.1.3 (KHTML, like Gecko) Version/8.0 Safari/600.1.3\"                              1\n",
              "Name: userAgent, dtype: int64"
            ]
          },
          "execution_count": 92,
          "metadata": {},
          "output_type": "execute_result"
        }
      ],
      "source": [
        "# get the possible list of operating systems\n",
        "df_opsys.userAgent.value_counts()"
      ]
    },
    {
      "cell_type": "code",
      "execution_count": null,
      "metadata": {
        "id": "3w5PZBt3STsB"
      },
      "outputs": [],
      "source": [
        "# create list of operating systems\n",
        "os_list = [\"Windows\", \"Mac\", \"Linux\", \"iPhone\", \"iPad\"]"
      ]
    },
    {
      "cell_type": "code",
      "execution_count": null,
      "metadata": {
        "id": "COGcpQBLSTsB"
      },
      "outputs": [],
      "source": [
        "# create os column and extract strings that match our os_list and add to column\n",
        "df_opsys['os'] = df_opsys.userAgent.str.extract('(?i)({0})'.format('|'.join(os_list)))"
      ]
    },
    {
      "cell_type": "code",
      "execution_count": null,
      "metadata": {
        "id": "hU7fZmlrSTsB",
        "outputId": "06337fec-e895-4b25-ec58-c7c3c6645b6b"
      },
      "outputs": [
        {
          "data": {
            "text/html": [
              "<div>\n",
              "<style scoped>\n",
              "    .dataframe tbody tr th:only-of-type {\n",
              "        vertical-align: middle;\n",
              "    }\n",
              "\n",
              "    .dataframe tbody tr th {\n",
              "        vertical-align: top;\n",
              "    }\n",
              "\n",
              "    .dataframe thead th {\n",
              "        text-align: right;\n",
              "    }\n",
              "</style>\n",
              "<table border=\"1\" class=\"dataframe\">\n",
              "  <thead>\n",
              "    <tr style=\"text-align: right;\">\n",
              "      <th></th>\n",
              "      <th>userId</th>\n",
              "      <th>userAgent</th>\n",
              "      <th>churn</th>\n",
              "      <th>os</th>\n",
              "    </tr>\n",
              "  </thead>\n",
              "  <tbody>\n",
              "    <tr>\n",
              "      <th>0</th>\n",
              "      <td>100010</td>\n",
              "      <td>\"Mozilla/5.0 (iPhone; CPU iPhone OS 7_1_2 like...</td>\n",
              "      <td>0</td>\n",
              "      <td>iPhone</td>\n",
              "    </tr>\n",
              "    <tr>\n",
              "      <th>1</th>\n",
              "      <td>200002</td>\n",
              "      <td>\"Mozilla/5.0 (iPhone; CPU iPhone OS 7_1 like M...</td>\n",
              "      <td>0</td>\n",
              "      <td>iPhone</td>\n",
              "    </tr>\n",
              "    <tr>\n",
              "      <th>2</th>\n",
              "      <td>125</td>\n",
              "      <td>\"Mozilla/5.0 (Macintosh; Intel Mac OS X 10_9_4...</td>\n",
              "      <td>1</td>\n",
              "      <td>Mac</td>\n",
              "    </tr>\n",
              "    <tr>\n",
              "      <th>3</th>\n",
              "      <td>124</td>\n",
              "      <td>\"Mozilla/5.0 (Macintosh; Intel Mac OS X 10_9_4...</td>\n",
              "      <td>0</td>\n",
              "      <td>Mac</td>\n",
              "    </tr>\n",
              "    <tr>\n",
              "      <th>4</th>\n",
              "      <td>51</td>\n",
              "      <td>\"Mozilla/5.0 (Windows NT 6.1; WOW64) AppleWebK...</td>\n",
              "      <td>1</td>\n",
              "      <td>Windows</td>\n",
              "    </tr>\n",
              "    <tr>\n",
              "      <th>5</th>\n",
              "      <td>7</td>\n",
              "      <td>Mozilla/5.0 (Windows NT 6.1; rv:31.0) Gecko/20...</td>\n",
              "      <td>0</td>\n",
              "      <td>Windows</td>\n",
              "    </tr>\n",
              "    <tr>\n",
              "      <th>6</th>\n",
              "      <td>15</td>\n",
              "      <td>\"Mozilla/5.0 (Windows NT 6.1; WOW64) AppleWebK...</td>\n",
              "      <td>0</td>\n",
              "      <td>Windows</td>\n",
              "    </tr>\n",
              "    <tr>\n",
              "      <th>7</th>\n",
              "      <td>54</td>\n",
              "      <td>Mozilla/5.0 (Windows NT 6.1; WOW64; rv:32.0) G...</td>\n",
              "      <td>1</td>\n",
              "      <td>Windows</td>\n",
              "    </tr>\n",
              "    <tr>\n",
              "      <th>8</th>\n",
              "      <td>155</td>\n",
              "      <td>\"Mozilla/5.0 (Windows NT 6.1; WOW64) AppleWebK...</td>\n",
              "      <td>0</td>\n",
              "      <td>Windows</td>\n",
              "    </tr>\n",
              "    <tr>\n",
              "      <th>9</th>\n",
              "      <td>100014</td>\n",
              "      <td>\"Mozilla/5.0 (Windows NT 6.1; WOW64) AppleWebK...</td>\n",
              "      <td>1</td>\n",
              "      <td>Windows</td>\n",
              "    </tr>\n",
              "    <tr>\n",
              "      <th>10</th>\n",
              "      <td>132</td>\n",
              "      <td>\"Mozilla/5.0 (Macintosh; Intel Mac OS X 10_9_4...</td>\n",
              "      <td>0</td>\n",
              "      <td>Mac</td>\n",
              "    </tr>\n",
              "    <tr>\n",
              "      <th>11</th>\n",
              "      <td>154</td>\n",
              "      <td>\"Mozilla/5.0 (Windows NT 6.1; WOW64) AppleWebK...</td>\n",
              "      <td>0</td>\n",
              "      <td>Windows</td>\n",
              "    </tr>\n",
              "    <tr>\n",
              "      <th>12</th>\n",
              "      <td>101</td>\n",
              "      <td>Mozilla/5.0 (Windows NT 6.2; WOW64; rv:31.0) G...</td>\n",
              "      <td>1</td>\n",
              "      <td>Windows</td>\n",
              "    </tr>\n",
              "    <tr>\n",
              "      <th>13</th>\n",
              "      <td>11</td>\n",
              "      <td>Mozilla/5.0 (Windows NT 6.1; WOW64; Trident/7....</td>\n",
              "      <td>0</td>\n",
              "      <td>Windows</td>\n",
              "    </tr>\n",
              "    <tr>\n",
              "      <th>14</th>\n",
              "      <td>138</td>\n",
              "      <td>\"Mozilla/5.0 (iPad; CPU OS 7_1_1 like Mac OS X...</td>\n",
              "      <td>0</td>\n",
              "      <td>iPad</td>\n",
              "    </tr>\n",
              "    <tr>\n",
              "      <th>15</th>\n",
              "      <td>300017</td>\n",
              "      <td>\"Mozilla/5.0 (Macintosh; Intel Mac OS X 10_10)...</td>\n",
              "      <td>0</td>\n",
              "      <td>Mac</td>\n",
              "    </tr>\n",
              "    <tr>\n",
              "      <th>16</th>\n",
              "      <td>100021</td>\n",
              "      <td>\"Mozilla/5.0 (Macintosh; Intel Mac OS X 10_9_4...</td>\n",
              "      <td>1</td>\n",
              "      <td>Mac</td>\n",
              "    </tr>\n",
              "    <tr>\n",
              "      <th>17</th>\n",
              "      <td>29</td>\n",
              "      <td>\"Mozilla/5.0 (Macintosh; Intel Mac OS X 10_9_4...</td>\n",
              "      <td>1</td>\n",
              "      <td>Mac</td>\n",
              "    </tr>\n",
              "    <tr>\n",
              "      <th>18</th>\n",
              "      <td>69</td>\n",
              "      <td>\"Mozilla/5.0 (Windows NT 6.1; WOW64) AppleWebK...</td>\n",
              "      <td>0</td>\n",
              "      <td>Windows</td>\n",
              "    </tr>\n",
              "    <tr>\n",
              "      <th>19</th>\n",
              "      <td>112</td>\n",
              "      <td>Mozilla/5.0 (Windows NT 6.1; WOW64; rv:31.0) G...</td>\n",
              "      <td>0</td>\n",
              "      <td>Windows</td>\n",
              "    </tr>\n",
              "    <tr>\n",
              "      <th>20</th>\n",
              "      <td>42</td>\n",
              "      <td>\"Mozilla/5.0 (Windows NT 6.1) AppleWebKit/537....</td>\n",
              "      <td>0</td>\n",
              "      <td>Windows</td>\n",
              "    </tr>\n",
              "    <tr>\n",
              "      <th>21</th>\n",
              "      <td>73</td>\n",
              "      <td>Mozilla/5.0 (Windows NT 6.1; WOW64; rv:31.0) G...</td>\n",
              "      <td>1</td>\n",
              "      <td>Windows</td>\n",
              "    </tr>\n",
              "    <tr>\n",
              "      <th>22</th>\n",
              "      <td>87</td>\n",
              "      <td>\"Mozilla/5.0 (Windows NT 6.1; WOW64) AppleWebK...</td>\n",
              "      <td>1</td>\n",
              "      <td>Windows</td>\n",
              "    </tr>\n",
              "    <tr>\n",
              "      <th>23</th>\n",
              "      <td>200010</td>\n",
              "      <td>Mozilla/5.0 (X11; Ubuntu; Linux x86_64; rv:31....</td>\n",
              "      <td>0</td>\n",
              "      <td>Linux</td>\n",
              "    </tr>\n",
              "    <tr>\n",
              "      <th>24</th>\n",
              "      <td>64</td>\n",
              "      <td>\"Mozilla/5.0 (Macintosh; Intel Mac OS X 10_9_4...</td>\n",
              "      <td>0</td>\n",
              "      <td>Mac</td>\n",
              "    </tr>\n",
              "    <tr>\n",
              "      <th>25</th>\n",
              "      <td>3</td>\n",
              "      <td>\"Mozilla/5.0 (Windows NT 6.1; WOW64) AppleWebK...</td>\n",
              "      <td>1</td>\n",
              "      <td>Windows</td>\n",
              "    </tr>\n",
              "    <tr>\n",
              "      <th>26</th>\n",
              "      <td>113</td>\n",
              "      <td>\"Mozilla/5.0 (Macintosh; Intel Mac OS X 10_9_4...</td>\n",
              "      <td>0</td>\n",
              "      <td>Mac</td>\n",
              "    </tr>\n",
              "    <tr>\n",
              "      <th>27</th>\n",
              "      <td>30</td>\n",
              "      <td>Mozilla/5.0 (Windows NT 6.1; WOW64; rv:31.0) G...</td>\n",
              "      <td>0</td>\n",
              "      <td>Windows</td>\n",
              "    </tr>\n",
              "    <tr>\n",
              "      <th>28</th>\n",
              "      <td>34</td>\n",
              "      <td>\"Mozilla/5.0 (Macintosh; Intel Mac OS X 10_9_4...</td>\n",
              "      <td>0</td>\n",
              "      <td>Mac</td>\n",
              "    </tr>\n",
              "    <tr>\n",
              "      <th>29</th>\n",
              "      <td>133</td>\n",
              "      <td>\"Mozilla/5.0 (Windows NT 6.3; WOW64) AppleWebK...</td>\n",
              "      <td>0</td>\n",
              "      <td>Windows</td>\n",
              "    </tr>\n",
              "    <tr>\n",
              "      <th>...</th>\n",
              "      <td>...</td>\n",
              "      <td>...</td>\n",
              "      <td>...</td>\n",
              "      <td>...</td>\n",
              "    </tr>\n",
              "    <tr>\n",
              "      <th>195</th>\n",
              "      <td>83</td>\n",
              "      <td>\"Mozilla/5.0 (X11; Linux x86_64) AppleWebKit/5...</td>\n",
              "      <td>0</td>\n",
              "      <td>Linux</td>\n",
              "    </tr>\n",
              "    <tr>\n",
              "      <th>196</th>\n",
              "      <td>109</td>\n",
              "      <td>Mozilla/5.0 (Windows NT 6.1; WOW64; rv:31.0) G...</td>\n",
              "      <td>0</td>\n",
              "      <td>Windows</td>\n",
              "    </tr>\n",
              "    <tr>\n",
              "      <th>197</th>\n",
              "      <td>123</td>\n",
              "      <td>\"Mozilla/5.0 (iPhone; CPU iPhone OS 7_1 like M...</td>\n",
              "      <td>0</td>\n",
              "      <td>iPhone</td>\n",
              "    </tr>\n",
              "    <tr>\n",
              "      <th>198</th>\n",
              "      <td>200022</td>\n",
              "      <td>\"Mozilla/5.0 (Macintosh; Intel Mac OS X 10_7_5...</td>\n",
              "      <td>0</td>\n",
              "      <td>Mac</td>\n",
              "    </tr>\n",
              "    <tr>\n",
              "      <th>199</th>\n",
              "      <td>13</td>\n",
              "      <td>\"Mozilla/5.0 (iPhone; CPU iPhone OS 7_1_2 like...</td>\n",
              "      <td>0</td>\n",
              "      <td>iPhone</td>\n",
              "    </tr>\n",
              "    <tr>\n",
              "      <th>200</th>\n",
              "      <td>200019</td>\n",
              "      <td>\"Mozilla/5.0 (Macintosh; Intel Mac OS X 10_9_4...</td>\n",
              "      <td>0</td>\n",
              "      <td>Mac</td>\n",
              "    </tr>\n",
              "    <tr>\n",
              "      <th>201</th>\n",
              "      <td>14</td>\n",
              "      <td>Mozilla/5.0 (Macintosh; Intel Mac OS X 10.9; r...</td>\n",
              "      <td>0</td>\n",
              "      <td>Mac</td>\n",
              "    </tr>\n",
              "    <tr>\n",
              "      <th>202</th>\n",
              "      <td>21</td>\n",
              "      <td>Mozilla/5.0 (Windows NT 6.3; WOW64; rv:31.0) G...</td>\n",
              "      <td>0</td>\n",
              "      <td>Windows</td>\n",
              "    </tr>\n",
              "    <tr>\n",
              "      <th>203</th>\n",
              "      <td>66</td>\n",
              "      <td>Mozilla/5.0 (Windows NT 6.1; WOW64; rv:31.0) G...</td>\n",
              "      <td>0</td>\n",
              "      <td>Windows</td>\n",
              "    </tr>\n",
              "    <tr>\n",
              "      <th>204</th>\n",
              "      <td>91</td>\n",
              "      <td>Mozilla/5.0 (Windows NT 6.3; WOW64; rv:31.0) G...</td>\n",
              "      <td>0</td>\n",
              "      <td>Windows</td>\n",
              "    </tr>\n",
              "    <tr>\n",
              "      <th>205</th>\n",
              "      <td>94</td>\n",
              "      <td>\"Mozilla/5.0 (Windows NT 6.2; WOW64) AppleWebK...</td>\n",
              "      <td>0</td>\n",
              "      <td>Windows</td>\n",
              "    </tr>\n",
              "    <tr>\n",
              "      <th>206</th>\n",
              "      <td>137</td>\n",
              "      <td>\"Mozilla/5.0 (Macintosh; Intel Mac OS X 10_9_4...</td>\n",
              "      <td>0</td>\n",
              "      <td>Mac</td>\n",
              "    </tr>\n",
              "    <tr>\n",
              "      <th>207</th>\n",
              "      <td>72</td>\n",
              "      <td>\"Mozilla/5.0 (Macintosh; Intel Mac OS X 10_7_5...</td>\n",
              "      <td>0</td>\n",
              "      <td>Mac</td>\n",
              "    </tr>\n",
              "    <tr>\n",
              "      <th>208</th>\n",
              "      <td>74</td>\n",
              "      <td>\"Mozilla/5.0 (Macintosh; Intel Mac OS X 10_9_4...</td>\n",
              "      <td>0</td>\n",
              "      <td>Mac</td>\n",
              "    </tr>\n",
              "    <tr>\n",
              "      <th>209</th>\n",
              "      <td>300016</td>\n",
              "      <td>Mozilla/5.0 (Windows NT 6.1; rv:31.0) Gecko/20...</td>\n",
              "      <td>0</td>\n",
              "      <td>Windows</td>\n",
              "    </tr>\n",
              "    <tr>\n",
              "      <th>210</th>\n",
              "      <td>151</td>\n",
              "      <td>\"Mozilla/5.0 (Macintosh; Intel Mac OS X 10_9_4...</td>\n",
              "      <td>0</td>\n",
              "      <td>Mac</td>\n",
              "    </tr>\n",
              "    <tr>\n",
              "      <th>211</th>\n",
              "      <td>200015</td>\n",
              "      <td>\"Mozilla/5.0 (iPhone; CPU iPhone OS 7_1_2 like...</td>\n",
              "      <td>1</td>\n",
              "      <td>iPhone</td>\n",
              "    </tr>\n",
              "    <tr>\n",
              "      <th>212</th>\n",
              "      <td>129</td>\n",
              "      <td>\"Mozilla/5.0 (Windows NT 6.3; WOW64) AppleWebK...</td>\n",
              "      <td>1</td>\n",
              "      <td>Windows</td>\n",
              "    </tr>\n",
              "    <tr>\n",
              "      <th>213</th>\n",
              "      <td>76</td>\n",
              "      <td>\"Mozilla/5.0 (Macintosh; Intel Mac OS X 10_9_4...</td>\n",
              "      <td>0</td>\n",
              "      <td>Mac</td>\n",
              "    </tr>\n",
              "    <tr>\n",
              "      <th>214</th>\n",
              "      <td>2</td>\n",
              "      <td>\"Mozilla/5.0 (Windows NT 6.1; WOW64) AppleWebK...</td>\n",
              "      <td>0</td>\n",
              "      <td>Windows</td>\n",
              "    </tr>\n",
              "    <tr>\n",
              "      <th>215</th>\n",
              "      <td>100002</td>\n",
              "      <td>Mozilla/5.0 (Windows NT 6.1; WOW64; rv:32.0) G...</td>\n",
              "      <td>0</td>\n",
              "      <td>Windows</td>\n",
              "    </tr>\n",
              "    <tr>\n",
              "      <th>216</th>\n",
              "      <td>100018</td>\n",
              "      <td>\"Mozilla/5.0 (Macintosh; Intel Mac OS X 10_10)...</td>\n",
              "      <td>0</td>\n",
              "      <td>Mac</td>\n",
              "    </tr>\n",
              "    <tr>\n",
              "      <th>217</th>\n",
              "      <td>80</td>\n",
              "      <td>\"Mozilla/5.0 (Macintosh; Intel Mac OS X 10_9_4...</td>\n",
              "      <td>0</td>\n",
              "      <td>Mac</td>\n",
              "    </tr>\n",
              "    <tr>\n",
              "      <th>218</th>\n",
              "      <td>145</td>\n",
              "      <td>\"Mozilla/5.0 (X11; Linux x86_64) AppleWebKit/5...</td>\n",
              "      <td>0</td>\n",
              "      <td>Linux</td>\n",
              "    </tr>\n",
              "    <tr>\n",
              "      <th>219</th>\n",
              "      <td>50</td>\n",
              "      <td>\"Mozilla/5.0 (Windows NT 6.1; WOW64) AppleWebK...</td>\n",
              "      <td>0</td>\n",
              "      <td>Windows</td>\n",
              "    </tr>\n",
              "    <tr>\n",
              "      <th>220</th>\n",
              "      <td>45</td>\n",
              "      <td>\"Mozilla/5.0 (Windows NT 6.3; WOW64) AppleWebK...</td>\n",
              "      <td>0</td>\n",
              "      <td>Windows</td>\n",
              "    </tr>\n",
              "    <tr>\n",
              "      <th>221</th>\n",
              "      <td>57</td>\n",
              "      <td>\"Mozilla/5.0 (Macintosh; Intel Mac OS X 10_9_4...</td>\n",
              "      <td>0</td>\n",
              "      <td>Mac</td>\n",
              "    </tr>\n",
              "    <tr>\n",
              "      <th>222</th>\n",
              "      <td>200021</td>\n",
              "      <td>Mozilla/5.0 (Macintosh; Intel Mac OS X 10.7; r...</td>\n",
              "      <td>1</td>\n",
              "      <td>Mac</td>\n",
              "    </tr>\n",
              "    <tr>\n",
              "      <th>223</th>\n",
              "      <td>119</td>\n",
              "      <td>\"Mozilla/5.0 (Windows NT 6.2; WOW64) AppleWebK...</td>\n",
              "      <td>0</td>\n",
              "      <td>Windows</td>\n",
              "    </tr>\n",
              "    <tr>\n",
              "      <th>224</th>\n",
              "      <td>100001</td>\n",
              "      <td>\"Mozilla/5.0 (Macintosh; Intel Mac OS X 10_6_8...</td>\n",
              "      <td>1</td>\n",
              "      <td>Mac</td>\n",
              "    </tr>\n",
              "  </tbody>\n",
              "</table>\n",
              "<p>225 rows × 4 columns</p>\n",
              "</div>"
            ],
            "text/plain": [
              "     userId                                          userAgent  churn       os\n",
              "0    100010  \"Mozilla/5.0 (iPhone; CPU iPhone OS 7_1_2 like...      0   iPhone\n",
              "1    200002  \"Mozilla/5.0 (iPhone; CPU iPhone OS 7_1 like M...      0   iPhone\n",
              "2       125  \"Mozilla/5.0 (Macintosh; Intel Mac OS X 10_9_4...      1      Mac\n",
              "3       124  \"Mozilla/5.0 (Macintosh; Intel Mac OS X 10_9_4...      0      Mac\n",
              "4        51  \"Mozilla/5.0 (Windows NT 6.1; WOW64) AppleWebK...      1  Windows\n",
              "5         7  Mozilla/5.0 (Windows NT 6.1; rv:31.0) Gecko/20...      0  Windows\n",
              "6        15  \"Mozilla/5.0 (Windows NT 6.1; WOW64) AppleWebK...      0  Windows\n",
              "7        54  Mozilla/5.0 (Windows NT 6.1; WOW64; rv:32.0) G...      1  Windows\n",
              "8       155  \"Mozilla/5.0 (Windows NT 6.1; WOW64) AppleWebK...      0  Windows\n",
              "9    100014  \"Mozilla/5.0 (Windows NT 6.1; WOW64) AppleWebK...      1  Windows\n",
              "10      132  \"Mozilla/5.0 (Macintosh; Intel Mac OS X 10_9_4...      0      Mac\n",
              "11      154  \"Mozilla/5.0 (Windows NT 6.1; WOW64) AppleWebK...      0  Windows\n",
              "12      101  Mozilla/5.0 (Windows NT 6.2; WOW64; rv:31.0) G...      1  Windows\n",
              "13       11  Mozilla/5.0 (Windows NT 6.1; WOW64; Trident/7....      0  Windows\n",
              "14      138  \"Mozilla/5.0 (iPad; CPU OS 7_1_1 like Mac OS X...      0     iPad\n",
              "15   300017  \"Mozilla/5.0 (Macintosh; Intel Mac OS X 10_10)...      0      Mac\n",
              "16   100021  \"Mozilla/5.0 (Macintosh; Intel Mac OS X 10_9_4...      1      Mac\n",
              "17       29  \"Mozilla/5.0 (Macintosh; Intel Mac OS X 10_9_4...      1      Mac\n",
              "18       69  \"Mozilla/5.0 (Windows NT 6.1; WOW64) AppleWebK...      0  Windows\n",
              "19      112  Mozilla/5.0 (Windows NT 6.1; WOW64; rv:31.0) G...      0  Windows\n",
              "20       42  \"Mozilla/5.0 (Windows NT 6.1) AppleWebKit/537....      0  Windows\n",
              "21       73  Mozilla/5.0 (Windows NT 6.1; WOW64; rv:31.0) G...      1  Windows\n",
              "22       87  \"Mozilla/5.0 (Windows NT 6.1; WOW64) AppleWebK...      1  Windows\n",
              "23   200010  Mozilla/5.0 (X11; Ubuntu; Linux x86_64; rv:31....      0    Linux\n",
              "24       64  \"Mozilla/5.0 (Macintosh; Intel Mac OS X 10_9_4...      0      Mac\n",
              "25        3  \"Mozilla/5.0 (Windows NT 6.1; WOW64) AppleWebK...      1  Windows\n",
              "26      113  \"Mozilla/5.0 (Macintosh; Intel Mac OS X 10_9_4...      0      Mac\n",
              "27       30  Mozilla/5.0 (Windows NT 6.1; WOW64; rv:31.0) G...      0  Windows\n",
              "28       34  \"Mozilla/5.0 (Macintosh; Intel Mac OS X 10_9_4...      0      Mac\n",
              "29      133  \"Mozilla/5.0 (Windows NT 6.3; WOW64) AppleWebK...      0  Windows\n",
              "..      ...                                                ...    ...      ...\n",
              "195      83  \"Mozilla/5.0 (X11; Linux x86_64) AppleWebKit/5...      0    Linux\n",
              "196     109  Mozilla/5.0 (Windows NT 6.1; WOW64; rv:31.0) G...      0  Windows\n",
              "197     123  \"Mozilla/5.0 (iPhone; CPU iPhone OS 7_1 like M...      0   iPhone\n",
              "198  200022  \"Mozilla/5.0 (Macintosh; Intel Mac OS X 10_7_5...      0      Mac\n",
              "199      13  \"Mozilla/5.0 (iPhone; CPU iPhone OS 7_1_2 like...      0   iPhone\n",
              "200  200019  \"Mozilla/5.0 (Macintosh; Intel Mac OS X 10_9_4...      0      Mac\n",
              "201      14  Mozilla/5.0 (Macintosh; Intel Mac OS X 10.9; r...      0      Mac\n",
              "202      21  Mozilla/5.0 (Windows NT 6.3; WOW64; rv:31.0) G...      0  Windows\n",
              "203      66  Mozilla/5.0 (Windows NT 6.1; WOW64; rv:31.0) G...      0  Windows\n",
              "204      91  Mozilla/5.0 (Windows NT 6.3; WOW64; rv:31.0) G...      0  Windows\n",
              "205      94  \"Mozilla/5.0 (Windows NT 6.2; WOW64) AppleWebK...      0  Windows\n",
              "206     137  \"Mozilla/5.0 (Macintosh; Intel Mac OS X 10_9_4...      0      Mac\n",
              "207      72  \"Mozilla/5.0 (Macintosh; Intel Mac OS X 10_7_5...      0      Mac\n",
              "208      74  \"Mozilla/5.0 (Macintosh; Intel Mac OS X 10_9_4...      0      Mac\n",
              "209  300016  Mozilla/5.0 (Windows NT 6.1; rv:31.0) Gecko/20...      0  Windows\n",
              "210     151  \"Mozilla/5.0 (Macintosh; Intel Mac OS X 10_9_4...      0      Mac\n",
              "211  200015  \"Mozilla/5.0 (iPhone; CPU iPhone OS 7_1_2 like...      1   iPhone\n",
              "212     129  \"Mozilla/5.0 (Windows NT 6.3; WOW64) AppleWebK...      1  Windows\n",
              "213      76  \"Mozilla/5.0 (Macintosh; Intel Mac OS X 10_9_4...      0      Mac\n",
              "214       2  \"Mozilla/5.0 (Windows NT 6.1; WOW64) AppleWebK...      0  Windows\n",
              "215  100002  Mozilla/5.0 (Windows NT 6.1; WOW64; rv:32.0) G...      0  Windows\n",
              "216  100018  \"Mozilla/5.0 (Macintosh; Intel Mac OS X 10_10)...      0      Mac\n",
              "217      80  \"Mozilla/5.0 (Macintosh; Intel Mac OS X 10_9_4...      0      Mac\n",
              "218     145  \"Mozilla/5.0 (X11; Linux x86_64) AppleWebKit/5...      0    Linux\n",
              "219      50  \"Mozilla/5.0 (Windows NT 6.1; WOW64) AppleWebK...      0  Windows\n",
              "220      45  \"Mozilla/5.0 (Windows NT 6.3; WOW64) AppleWebK...      0  Windows\n",
              "221      57  \"Mozilla/5.0 (Macintosh; Intel Mac OS X 10_9_4...      0      Mac\n",
              "222  200021  Mozilla/5.0 (Macintosh; Intel Mac OS X 10.7; r...      1      Mac\n",
              "223     119  \"Mozilla/5.0 (Windows NT 6.2; WOW64) AppleWebK...      0  Windows\n",
              "224  100001  \"Mozilla/5.0 (Macintosh; Intel Mac OS X 10_6_8...      1      Mac\n",
              "\n",
              "[225 rows x 4 columns]"
            ]
          },
          "execution_count": 95,
          "metadata": {},
          "output_type": "execute_result"
        }
      ],
      "source": [
        "# check that worked\n",
        "df_opsys"
      ]
    },
    {
      "cell_type": "code",
      "execution_count": null,
      "metadata": {
        "id": "_bqwWCZTSTsC",
        "outputId": "0e2f7f8d-2e44-4259-b8cc-60d00441852a"
      },
      "outputs": [
        {
          "data": {
            "text/plain": [
              "Windows    111\n",
              "Mac         86\n",
              "iPhone      13\n",
              "Linux       12\n",
              "iPad         3\n",
              "Name: os, dtype: int64"
            ]
          },
          "execution_count": 96,
          "metadata": {},
          "output_type": "execute_result"
        }
      ],
      "source": [
        "df_opsys.os.value_counts()"
      ]
    },
    {
      "cell_type": "code",
      "execution_count": null,
      "metadata": {
        "id": "eG6mYp3mSTsC"
      },
      "outputs": [],
      "source": [
        "# order for the plot\n",
        "os_order = df_opsys.os.value_counts().index"
      ]
    },
    {
      "cell_type": "code",
      "execution_count": null,
      "metadata": {
        "id": "T1QC-j9JSTsC",
        "outputId": "a969e10a-6da2-4cbe-ee1c-b7f58dbe6ee5"
      },
      "outputs": [
        {
          "data": {
            "image/png": "[encoded data removed]",
            "text/plain": [
              "<matplotlib.figure.Figure at 0x7fa7db5aa438>"
            ]
          },
          "metadata": {
            "needs_background": "light"
          },
          "output_type": "display_data"
        }
      ],
      "source": [
        "# plot count for churn and non churn users\n",
        "plt.figure(figsize=[10,8])\n",
        "sns.countplot(data = df_opsys, x = 'os', hue ='churn', order = os_order)\n",
        "plt.title('Count of Users that Churned vs. Users that Stayed by Operating System')\n",
        "plt.legend(loc = 1, ncol = 2, framealpha =1, title = 'level');"
      ]
    },
    {
      "cell_type": "markdown",
      "metadata": {
        "id": "l114DHD7STsC"
      },
      "source": [
        "Windows was the most used. Linux users have the highest rate of churn. It is very few customers that this has affected therefore this won't be used in our model."
      ]
    },
    {
      "cell_type": "markdown",
      "metadata": {
        "id": "XxxegD3GSTsC"
      },
      "source": [
        "We can also look if browsers had an effect on churn using the same process."
      ]
    },
    {
      "cell_type": "code",
      "execution_count": null,
      "metadata": {
        "id": "Ne7NdyHNSTsC"
      },
      "outputs": [],
      "source": [
        "browser_list = [\"Chrome\", \"Firefox\", \"Safari\", \"Trident\"]"
      ]
    },
    {
      "cell_type": "code",
      "execution_count": null,
      "metadata": {
        "id": "dQE9Nh_HSTsC"
      },
      "outputs": [],
      "source": [
        "df_opsys['browser'] = df_opsys.userAgent.str.extract('(?i)({0})'.format('|'.join(browser_list)))"
      ]
    },
    {
      "cell_type": "code",
      "execution_count": null,
      "metadata": {
        "id": "hxKqpfZhSTsC",
        "outputId": "9269b9ab-53f8-41e6-ad47-8c6453a6aa19"
      },
      "outputs": [
        {
          "data": {
            "text/plain": [
              "Chrome     117\n",
              "Firefox     50\n",
              "Safari      46\n",
              "Trident     12\n",
              "Name: browser, dtype: int64"
            ]
          },
          "execution_count": 101,
          "metadata": {},
          "output_type": "execute_result"
        }
      ],
      "source": [
        "df_opsys.browser.value_counts()"
      ]
    },
    {
      "cell_type": "markdown",
      "metadata": {
        "id": "YislJIU3STsC"
      },
      "source": [
        "Here Trident is Internet Explorer software. Let's change Trident to 'Internet Explorer' as it is better known."
      ]
    },
    {
      "cell_type": "code",
      "execution_count": null,
      "metadata": {
        "id": "arISgP6QSTsC"
      },
      "outputs": [],
      "source": [
        "df_opsys['browser'].replace({\"Trident\":\"Internet Explorer\"}, inplace = True)"
      ]
    },
    {
      "cell_type": "code",
      "execution_count": null,
      "metadata": {
        "id": "Xten2hgOSTsC"
      },
      "outputs": [],
      "source": [
        "# order for the plot\n",
        "browser_order = df_opsys.browser.value_counts().index"
      ]
    },
    {
      "cell_type": "code",
      "execution_count": null,
      "metadata": {
        "id": "9s-ljf1jSTsC",
        "outputId": "b8a2d57f-e150-41cc-9b83-dd97f728a1dd"
      },
      "outputs": [
        {
          "data": {
            "image/png": "[encoded data removed]",
            "text/plain": [
              "<matplotlib.figure.Figure at 0x7fa7c69c6588>"
            ]
          },
          "metadata": {
            "needs_background": "light"
          },
          "output_type": "display_data"
        }
      ],
      "source": [
        "plt.figure(figsize=[10,8])\n",
        "sns.countplot(data = df_opsys, x = 'browser', hue ='churn', order = browser_order)\n",
        "plt.title('Count of Users that Churned vs. Users that Stayed by Browser')\n",
        "plt.legend(loc = 1, ncol = 2, framealpha =1, title = 'level');"
      ]
    },
    {
      "cell_type": "markdown",
      "metadata": {
        "id": "D5QJi9KfSTsC"
      },
      "source": [
        "Chrome was the most popular browser. Firefox users were most likely to churn. Internet Explorer had the fewest number of users that churned. There is no clear issue with browsers which is making users churn. Therefore this won't be used in our model."
      ]
    },
    {
      "cell_type": "markdown",
      "metadata": {
        "id": "NEV5_f_ISTsC"
      },
      "source": [
        "### Days Since Registration for Sparkify"
      ]
    },
    {
      "cell_type": "markdown",
      "metadata": {
        "id": "fURd-at3STsC"
      },
      "source": [
        "Finally, we can look at the number of days since a user had registered."
      ]
    },
    {
      "cell_type": "code",
      "execution_count": null,
      "metadata": {
        "id": "GAFJkScuSTsC"
      },
      "outputs": [],
      "source": [
        "df_days = df.select(['userId', 'registration', 'ts', 'churn']).dropDuplicates().sort('userId')"
      ]
    },
    {
      "cell_type": "code",
      "execution_count": null,
      "metadata": {
        "id": "KtMCNAX5STsC"
      },
      "outputs": [],
      "source": [
        "# order by last timestamp\n",
        "w = Window.partitionBy(\"userId\").orderBy(desc(\"ts\"))"
      ]
    },
    {
      "cell_type": "code",
      "execution_count": null,
      "metadata": {
        "id": "GqIVqS8VSTsC"
      },
      "outputs": [],
      "source": [
        "# create a rank with the most recent timestamp as rank number 1\n",
        "df_days = df_days.withColumn(\"Rank\", dense_rank().over(w))"
      ]
    },
    {
      "cell_type": "code",
      "execution_count": null,
      "metadata": {
        "id": "wZJmo7ybSTsD",
        "outputId": "5e47e591-42a5-4eb7-dcad-f1e9e1b48229"
      },
      "outputs": [
        {
          "name": "stdout",
          "output_type": "stream",
          "text": [
            "+------+-------------+-------------+-----+----+\n",
            "|userId| registration|           ts|churn|Rank|\n",
            "+------+-------------+-------------+-----+----+\n",
            "|    10|1538159495000|1542631788000|    0|   1|\n",
            "|    10|1538159495000|1542631753000|    0|   2|\n",
            "|    10|1538159495000|1542631690000|    0|   3|\n",
            "|    10|1538159495000|1542631518000|    0|   4|\n",
            "|    10|1538159495000|1542631517000|    0|   5|\n",
            "|    10|1538159495000|1542631090000|    0|   6|\n",
            "|    10|1538159495000|1542630866000|    0|   7|\n",
            "|    10|1538159495000|1542630637000|    0|   8|\n",
            "|    10|1538159495000|1542630407000|    0|   9|\n",
            "|    10|1538159495000|1542630394000|    0|  10|\n",
            "|    10|1538159495000|1542630248000|    0|  11|\n",
            "|    10|1538159495000|1542630247000|    0|  12|\n",
            "|    10|1538159495000|1542630029000|    0|  13|\n",
            "|    10|1538159495000|1542629861000|    0|  14|\n",
            "|    10|1538159495000|1542629636000|    0|  15|\n",
            "|    10|1538159495000|1542629464000|    0|  16|\n",
            "|    10|1538159495000|1542629238000|    0|  17|\n",
            "|    10|1538159495000|1542629029000|    0|  18|\n",
            "|    10|1538159495000|1542629028000|    0|  19|\n",
            "|    10|1538159495000|1542628798000|    0|  20|\n",
            "+------+-------------+-------------+-----+----+\n",
            "only showing top 20 rows\n",
            "\n"
          ]
        }
      ],
      "source": [
        "df_days.show()"
      ]
    },
    {
      "cell_type": "code",
      "execution_count": null,
      "metadata": {
        "id": "OS-TO7ZiSTsD"
      },
      "outputs": [],
      "source": [
        "# just get those with a rank of 1 i.e the first rows\n",
        "df_days = df_days.filter(df_days.Rank == 1).drop(df_days.Rank)"
      ]
    },
    {
      "cell_type": "code",
      "execution_count": null,
      "metadata": {
        "id": "SfHzxVDASTsD",
        "outputId": "97a8f690-8069-48fc-bca1-818543ab6492"
      },
      "outputs": [
        {
          "name": "stdout",
          "output_type": "stream",
          "text": [
            "+------+-------------+-------------+-----+\n",
            "|userId| registration|           ts|churn|\n",
            "+------+-------------+-------------+-----+\n",
            "|    10|1538159495000|1542631788000|    0|\n",
            "|   100|1537982255000|1543587349000|    0|\n",
            "|100001|1534627466000|1538498205000|    1|\n",
            "|100002|1529934689000|1543799476000|    0|\n",
            "|100003|1537309344000|1539274781000|    1|\n",
            "|100004|1528560242000|1543459065000|    0|\n",
            "|100005|1532610926000|1539971825000|    1|\n",
            "|100006|1537964483000|1538753070000|    1|\n",
            "|100007|1533522419000|1543491909000|    1|\n",
            "|100008|1537440271000|1543335219000|    0|\n",
            "|100009|1537376437000|1540611104000|    1|\n",
            "|100010|1538016340000|1542823952000|    0|\n",
            "|100011|1537970819000|1538417085000|    1|\n",
            "|100012|1537381154000|1541100900000|    1|\n",
            "|100013|1537367773000|1541184816000|    1|\n",
            "|100014|1535389443000|1542740649000|    1|\n",
            "|100015|1537208989000|1543073753000|    1|\n",
            "|100016|1536854322000|1543335647000|    0|\n",
            "|100017|1533247234000|1540062847000|    1|\n",
            "|100018|1533812833000|1543378360000|    0|\n",
            "+------+-------------+-------------+-----+\n",
            "only showing top 20 rows\n",
            "\n"
          ]
        }
      ],
      "source": [
        "df_days.show()"
      ]
    },
    {
      "cell_type": "markdown",
      "metadata": {
        "id": "FDxBPyApSTsD"
      },
      "source": [
        "Now need to minus these and work that out in days."
      ]
    },
    {
      "cell_type": "code",
      "execution_count": null,
      "metadata": {
        "id": "HEwtVkXySTsD"
      },
      "outputs": [],
      "source": [
        "# need to minus the registration from ts\n",
        "df_days = df_days.withColumn(\"delta_days\", (df_days['ts']) - (df_days['registration']))"
      ]
    },
    {
      "cell_type": "code",
      "execution_count": null,
      "metadata": {
        "id": "wr4x6KAPSTsD",
        "outputId": "93fa6b5f-8d26-4a67-b188-f3fb9fb65be8"
      },
      "outputs": [
        {
          "name": "stdout",
          "output_type": "stream",
          "text": [
            "+------+-------------+-------------+-----+-----------+\n",
            "|userId| registration|           ts|churn| delta_days|\n",
            "+------+-------------+-------------+-----+-----------+\n",
            "|    10|1538159495000|1542631788000|    0| 4472293000|\n",
            "|   100|1537982255000|1543587349000|    0| 5605094000|\n",
            "|100001|1534627466000|1538498205000|    1| 3870739000|\n",
            "|100002|1529934689000|1543799476000|    0|13864787000|\n",
            "|100003|1537309344000|1539274781000|    1| 1965437000|\n",
            "|100004|1528560242000|1543459065000|    0|14898823000|\n",
            "|100005|1532610926000|1539971825000|    1| 7360899000|\n",
            "|100006|1537964483000|1538753070000|    1|  788587000|\n",
            "|100007|1533522419000|1543491909000|    1| 9969490000|\n",
            "|100008|1537440271000|1543335219000|    0| 5894948000|\n",
            "|100009|1537376437000|1540611104000|    1| 3234667000|\n",
            "|100010|1538016340000|1542823952000|    0| 4807612000|\n",
            "|100011|1537970819000|1538417085000|    1|  446266000|\n",
            "|100012|1537381154000|1541100900000|    1| 3719746000|\n",
            "|100013|1537367773000|1541184816000|    1| 3817043000|\n",
            "|100014|1535389443000|1542740649000|    1| 7351206000|\n",
            "|100015|1537208989000|1543073753000|    1| 5864764000|\n",
            "|100016|1536854322000|1543335647000|    0| 6481325000|\n",
            "|100017|1533247234000|1540062847000|    1| 6815613000|\n",
            "|100018|1533812833000|1543378360000|    0| 9565527000|\n",
            "+------+-------------+-------------+-----+-----------+\n",
            "only showing top 20 rows\n",
            "\n"
          ]
        }
      ],
      "source": [
        "df_days.show()"
      ]
    },
    {
      "cell_type": "code",
      "execution_count": null,
      "metadata": {
        "id": "vairWRlTSTsD"
      },
      "outputs": [],
      "source": [
        "df_days = df_days.withColumn('days',(df_days['delta_days']/1000/3600/24))"
      ]
    },
    {
      "cell_type": "code",
      "execution_count": null,
      "metadata": {
        "id": "aCGymPFZSTsD",
        "outputId": "976569c2-34d8-4add-b1b8-ec00cff23c82"
      },
      "outputs": [
        {
          "name": "stdout",
          "output_type": "stream",
          "text": [
            "+------+-------------+-------------+-----+-----------+------------------+\n",
            "|userId| registration|           ts|churn| delta_days|              days|\n",
            "+------+-------------+-------------+-----+-----------+------------------+\n",
            "|    10|1538159495000|1542631788000|    0| 4472293000| 51.76265046296297|\n",
            "|   100|1537982255000|1543587349000|    0| 5605094000| 64.87377314814815|\n",
            "|100001|1534627466000|1538498205000|    1| 3870739000| 44.80021990740741|\n",
            "|100002|1529934689000|1543799476000|    0|13864787000|160.47207175925925|\n",
            "|100003|1537309344000|1539274781000|    1| 1965437000|22.748113425925926|\n",
            "|100004|1528560242000|1543459065000|    0|14898823000|172.44008101851853|\n",
            "|100005|1532610926000|1539971825000|    1| 7360899000| 85.19559027777778|\n",
            "|100006|1537964483000|1538753070000|    1|  788587000| 9.127164351851851|\n",
            "|100007|1533522419000|1543491909000|    1| 9969490000|115.38761574074074|\n",
            "|100008|1537440271000|1543335219000|    0| 5894948000| 68.22856481481482|\n",
            "|100009|1537376437000|1540611104000|    1| 3234667000| 37.43827546296296|\n",
            "|100010|1538016340000|1542823952000|    0| 4807612000|  55.6436574074074|\n",
            "|100011|1537970819000|1538417085000|    1|  446266000| 5.165115740740741|\n",
            "|100012|1537381154000|1541100900000|    1| 3719746000| 43.05261574074074|\n",
            "|100013|1537367773000|1541184816000|    1| 3817043000| 44.17873842592593|\n",
            "|100014|1535389443000|1542740649000|    1| 7351206000| 85.08340277777778|\n",
            "|100015|1537208989000|1543073753000|    1| 5864764000| 67.87921296296297|\n",
            "|100016|1536854322000|1543335647000|    0| 6481325000| 75.01533564814815|\n",
            "|100017|1533247234000|1540062847000|    1| 6815613000| 78.88440972222223|\n",
            "|100018|1533812833000|1543378360000|    0| 9565527000|110.71211805555555|\n",
            "+------+-------------+-------------+-----+-----------+------------------+\n",
            "only showing top 20 rows\n",
            "\n"
          ]
        }
      ],
      "source": [
        "df_days.show()"
      ]
    },
    {
      "cell_type": "code",
      "execution_count": null,
      "metadata": {
        "id": "yg2frJPFSTsD"
      },
      "outputs": [],
      "source": [
        "# to Pandas for the plot\n",
        "df_days_pd = df_days.toPandas()"
      ]
    },
    {
      "cell_type": "code",
      "execution_count": null,
      "metadata": {
        "id": "mgTinAeQSTsD",
        "outputId": "a9a1d1d6-be17-443b-8d54-a32e70853be3"
      },
      "outputs": [
        {
          "data": {
            "image/png": "[encoded data removed]",
            "text/plain": [
              "<matplotlib.figure.Figure at 0x7fa7cb678668>"
            ]
          },
          "metadata": {
            "needs_background": "light"
          },
          "output_type": "display_data"
        }
      ],
      "source": [
        "# plot boxplot\n",
        "plt.figure(figsize=[8,6])\n",
        "sns.boxplot(data = df_days_pd, x = 'churn', y ='days')\n",
        "plt.title('Count of Users that Churned vs. Users that Stayed by Days Since Registering')\n",
        "plt.ylabel(\"Days Since Registered\");"
      ]
    },
    {
      "cell_type": "markdown",
      "metadata": {
        "id": "NXGXBp9ESTsD"
      },
      "source": [
        "On average those who had been registered with Sparkify for longer were more likely to stay. Users who had registered more recently were more likely to churn."
      ]
    },
    {
      "cell_type": "markdown",
      "metadata": {
        "id": "kJIcShT5STsD"
      },
      "source": [
        "# Feature Engineering\n",
        "<a class=\"anchor\" id=\"eng\"></a>\n",
        "\n",
        "Now that EDA has been performed, we can build out the features that seem most promising to train our model on."
      ]
    },
    {
      "cell_type": "markdown",
      "metadata": {
        "id": "vpNnJf1SSTsD"
      },
      "source": [
        "The features we will build out are:\n",
        "- Categorical:\n",
        " - gender\n",
        " - level\n",
        "\n",
        "- Numerical:\n",
        " - number of songs per session\n",
        " - number of rollads actions\n",
        " - number of thumb down actions\n",
        " - number of thumbs up actions\n",
        " - number of friends added\n",
        " - number of songs added to playlist\n",
        " - number of different artists listened to on Sparkify\n",
        " - number of days since registering\n",
        "\n",
        "We will also then add a churn label and join these all together. This will create a dataFrame where each row represents information pertaining to each individual user. Once we drop the userId, this dataframe can be vectorised, standarised and fed into our different machine learning algorithms."
      ]
    },
    {
      "cell_type": "markdown",
      "metadata": {
        "id": "fBi1uPUDSTsD"
      },
      "source": [
        "First we will take our categorical variables and convert these into numeric variables, ready for our model."
      ]
    },
    {
      "cell_type": "markdown",
      "metadata": {
        "id": "se1XYBB4STsD"
      },
      "source": [
        "### Gender"
      ]
    },
    {
      "cell_type": "markdown",
      "metadata": {
        "id": "9a_BXISASTsD"
      },
      "source": [
        "Our first feature is gender which is a categorical one. We will assign a 1 for 'female' and a 0 for 'male'."
      ]
    },
    {
      "cell_type": "code",
      "execution_count": null,
      "metadata": {
        "id": "Y7Hjt-FaSTsD"
      },
      "outputs": [],
      "source": [
        "gender_f1 = df.select(['userId', 'gender']).dropDuplicates()"
      ]
    },
    {
      "cell_type": "code",
      "execution_count": null,
      "metadata": {
        "id": "rFMiZD2tSTsD"
      },
      "outputs": [],
      "source": [
        "# create gender column\n",
        "gender_f1 = gender_f1.withColumn('gender', when(col('gender') == 'F', 1).otherwise(0))"
      ]
    },
    {
      "cell_type": "code",
      "execution_count": null,
      "metadata": {
        "id": "wpxtpXkUSTsE",
        "outputId": "a47f215f-729a-4230-edc3-a1aabf90249a"
      },
      "outputs": [
        {
          "data": {
            "text/plain": [
              "225"
            ]
          },
          "execution_count": 119,
          "metadata": {},
          "output_type": "execute_result"
        }
      ],
      "source": [
        "gender_f1.count()"
      ]
    },
    {
      "cell_type": "code",
      "execution_count": null,
      "metadata": {
        "id": "i78RnGYUSTsE",
        "outputId": "0459df9e-af47-4005-e8a0-9690869003a7"
      },
      "outputs": [
        {
          "name": "stdout",
          "output_type": "stream",
          "text": [
            "+------+------+\n",
            "|userId|gender|\n",
            "+------+------+\n",
            "|    44|     1|\n",
            "|    46|     1|\n",
            "|    41|     1|\n",
            "|    72|     1|\n",
            "|300023|     1|\n",
            "|    39|     1|\n",
            "|100010|     1|\n",
            "|    40|     1|\n",
            "|    94|     1|\n",
            "|    35|     1|\n",
            "|    75|     1|\n",
            "|   116|     1|\n",
            "|200001|     0|\n",
            "|200020|     0|\n",
            "|100008|     1|\n",
            "|200015|     0|\n",
            "|   100|     0|\n",
            "|100006|     1|\n",
            "|300005|     1|\n",
            "|    25|     1|\n",
            "+------+------+\n",
            "only showing top 20 rows\n",
            "\n"
          ]
        }
      ],
      "source": [
        "# check\n",
        "gender_f1.show(20)"
      ]
    },
    {
      "cell_type": "markdown",
      "metadata": {
        "id": "jsjIE2W4STsE"
      },
      "source": [
        "### Level"
      ]
    },
    {
      "cell_type": "markdown",
      "metadata": {
        "id": "CoXIbt_oSTsE"
      },
      "source": [
        "The next feature we will take is level. The level can change so we need to only take the most recent. We can use the rank trick from before."
      ]
    },
    {
      "cell_type": "code",
      "execution_count": null,
      "metadata": {
        "id": "GO8iuCWkSTsE"
      },
      "outputs": [],
      "source": [
        "df2 = df.select(['userId', 'level', 'ts']).dropDuplicates().sort('userId')"
      ]
    },
    {
      "cell_type": "code",
      "execution_count": null,
      "metadata": {
        "id": "pl4StRXySTsE"
      },
      "outputs": [],
      "source": [
        "w = Window.partitionBy(\"userId\").orderBy(desc(\"ts\"))"
      ]
    },
    {
      "cell_type": "code",
      "execution_count": null,
      "metadata": {
        "id": "73r9PlqMSTsE"
      },
      "outputs": [],
      "source": [
        "df2 = df2.withColumn(\"Rank\", dense_rank().over(w))"
      ]
    },
    {
      "cell_type": "code",
      "execution_count": null,
      "metadata": {
        "id": "LzAWya2lSTsE",
        "outputId": "b240527c-53bd-481d-ecd1-954c9f167a3d"
      },
      "outputs": [
        {
          "name": "stdout",
          "output_type": "stream",
          "text": [
            "+------+-----+-------------+----+\n",
            "|userId|level|           ts|Rank|\n",
            "+------+-----+-------------+----+\n",
            "|    10| paid|1542631788000|   1|\n",
            "|    10| paid|1542631753000|   2|\n",
            "|    10| paid|1542631690000|   3|\n",
            "|    10| paid|1542631518000|   4|\n",
            "|    10| paid|1542631517000|   5|\n",
            "|    10| paid|1542631090000|   6|\n",
            "|    10| paid|1542630866000|   7|\n",
            "|    10| paid|1542630637000|   8|\n",
            "|    10| paid|1542630407000|   9|\n",
            "|    10| paid|1542630394000|  10|\n",
            "|    10| paid|1542630248000|  11|\n",
            "|    10| paid|1542630247000|  12|\n",
            "|    10| paid|1542630029000|  13|\n",
            "|    10| paid|1542629861000|  14|\n",
            "|    10| paid|1542629636000|  15|\n",
            "|    10| paid|1542629464000|  16|\n",
            "|    10| paid|1542629238000|  17|\n",
            "|    10| paid|1542629029000|  18|\n",
            "|    10| paid|1542629028000|  19|\n",
            "|    10| paid|1542628798000|  20|\n",
            "+------+-----+-------------+----+\n",
            "only showing top 20 rows\n",
            "\n"
          ]
        }
      ],
      "source": [
        "df2.show()"
      ]
    },
    {
      "cell_type": "code",
      "execution_count": null,
      "metadata": {
        "id": "PD27WqrWSTsE"
      },
      "outputs": [],
      "source": [
        "level_f2 = df2.filter(df2.Rank == 1).drop(df2.Rank)"
      ]
    },
    {
      "cell_type": "code",
      "execution_count": null,
      "metadata": {
        "id": "tpALQvInSTsE"
      },
      "outputs": [],
      "source": [
        "level_f2 = level_f2.drop('ts')"
      ]
    },
    {
      "cell_type": "code",
      "execution_count": null,
      "metadata": {
        "id": "9L8RnaK0STsE"
      },
      "outputs": [],
      "source": [
        "level_f2 = level_f2.withColumn('level', when(col('level') == 'paid', 1).otherwise(0))"
      ]
    },
    {
      "cell_type": "code",
      "execution_count": null,
      "metadata": {
        "id": "knEOOD4ESTsE",
        "outputId": "28fb960e-881f-4b5a-d6f8-3528ee8a6a98"
      },
      "outputs": [
        {
          "data": {
            "text/plain": [
              "225"
            ]
          },
          "execution_count": 128,
          "metadata": {},
          "output_type": "execute_result"
        }
      ],
      "source": [
        "level_f2.count()"
      ]
    },
    {
      "cell_type": "code",
      "execution_count": null,
      "metadata": {
        "id": "nHOhqbzOSTsE",
        "outputId": "8c5cb407-5589-480f-ff41-4117eb672936"
      },
      "outputs": [
        {
          "name": "stdout",
          "output_type": "stream",
          "text": [
            "+------+-----+\n",
            "|userId|level|\n",
            "+------+-----+\n",
            "|    10|    1|\n",
            "|   100|    1|\n",
            "|100001|    0|\n",
            "|100002|    1|\n",
            "|100003|    0|\n",
            "|100004|    1|\n",
            "|100005|    0|\n",
            "|100006|    0|\n",
            "|100007|    1|\n",
            "|100008|    0|\n",
            "|100009|    0|\n",
            "|100010|    0|\n",
            "|100011|    0|\n",
            "|100012|    0|\n",
            "|100013|    1|\n",
            "|100014|    1|\n",
            "|100015|    1|\n",
            "|100016|    0|\n",
            "|100017|    0|\n",
            "|100018|    0|\n",
            "+------+-----+\n",
            "only showing top 20 rows\n",
            "\n"
          ]
        }
      ],
      "source": [
        "level_f2.show(20)"
      ]
    },
    {
      "cell_type": "markdown",
      "metadata": {
        "id": "OieIjWNeSTsE"
      },
      "source": [
        "### Average Number of songs per session"
      ]
    },
    {
      "cell_type": "markdown",
      "metadata": {
        "id": "7RMcWajdSTsE"
      },
      "source": [
        "Our third feature is average number of songs per session for each user."
      ]
    },
    {
      "cell_type": "code",
      "execution_count": null,
      "metadata": {
        "id": "N0EI5itOSTsE"
      },
      "outputs": [],
      "source": [
        "song_f3 = df.filter(df.page == \"NextSong\").groupBy('userId','sessionId').count()"
      ]
    },
    {
      "cell_type": "code",
      "execution_count": null,
      "metadata": {
        "id": "smKN8JO4STsE",
        "outputId": "4b01f181-811a-4774-c8cb-1f60121122dc"
      },
      "outputs": [
        {
          "name": "stdout",
          "output_type": "stream",
          "text": [
            "+------+---------+-----+\n",
            "|userId|sessionId|count|\n",
            "+------+---------+-----+\n",
            "|    92|      358|   57|\n",
            "|    42|      433|   16|\n",
            "+------+---------+-----+\n",
            "only showing top 2 rows\n",
            "\n"
          ]
        }
      ],
      "source": [
        "df.filter(df.page == \"NextSong\").groupBy('userId','sessionId').count().show(2)"
      ]
    },
    {
      "cell_type": "code",
      "execution_count": null,
      "metadata": {
        "id": "kMDcvWDGSTsE"
      },
      "outputs": [],
      "source": [
        "song_f3 = song_f3.groupby('userId').agg({\"count\":\"avg\"})"
      ]
    },
    {
      "cell_type": "code",
      "execution_count": null,
      "metadata": {
        "id": "BDSgs2zuSTsF"
      },
      "outputs": [],
      "source": [
        "song_f3 = song_f3.withColumnRenamed(\"avg(count)\", \"avg_song\")"
      ]
    },
    {
      "cell_type": "code",
      "execution_count": null,
      "metadata": {
        "id": "1gysDYvQSTsF",
        "outputId": "f99ffb7c-0bb2-477a-9bb3-bd7d611f3554"
      },
      "outputs": [
        {
          "data": {
            "text/plain": [
              "225"
            ]
          },
          "execution_count": 134,
          "metadata": {},
          "output_type": "execute_result"
        }
      ],
      "source": [
        "song_f3.count()"
      ]
    },
    {
      "cell_type": "code",
      "execution_count": null,
      "metadata": {
        "id": "iScIdrleSTsF",
        "outputId": "80ba0f55-4bf4-4086-ac8b-dbb75c362cb9"
      },
      "outputs": [
        {
          "name": "stdout",
          "output_type": "stream",
          "text": [
            "+------+------------------+\n",
            "|userId|          avg_song|\n",
            "+------+------------------+\n",
            "|100010|39.285714285714285|\n",
            "|200002|              64.5|\n",
            "+------+------------------+\n",
            "only showing top 2 rows\n",
            "\n"
          ]
        }
      ],
      "source": [
        "song_f3.show(2)"
      ]
    },
    {
      "cell_type": "markdown",
      "metadata": {
        "id": "3x1oPHD9STsF"
      },
      "source": [
        "### Number of rollads actions\n"
      ]
    },
    {
      "cell_type": "markdown",
      "metadata": {
        "id": "HKMVWNwYSTsF"
      },
      "source": [
        "Next feature we can consider is number of roll advert actions. This had a higher number of roll ad count for those who churned since those who use the app for free are shown ads whereas paid subscribers aren't shown ads."
      ]
    },
    {
      "cell_type": "code",
      "execution_count": null,
      "metadata": {
        "id": "fprbaZ15STsF"
      },
      "outputs": [],
      "source": [
        "rollad_f4 = df.select([\"userId\", \"page\"])"
      ]
    },
    {
      "cell_type": "code",
      "execution_count": null,
      "metadata": {
        "id": "r6Bt2Ss6STsF"
      },
      "outputs": [],
      "source": [
        "rollad_event = udf(lambda x: 1 if x == \"Roll Advert\" else 0, IntegerType())"
      ]
    },
    {
      "cell_type": "code",
      "execution_count": null,
      "metadata": {
        "id": "fGnrRUJxSTsF"
      },
      "outputs": [],
      "source": [
        "#creating rollad column\n",
        "rollad_f4 = rollad_f4.withColumn(\"rollad\", rollad_event(\"page\"))"
      ]
    },
    {
      "cell_type": "code",
      "execution_count": null,
      "metadata": {
        "id": "jd2ixVOcSTsF"
      },
      "outputs": [],
      "source": [
        "rollad_f4 = rollad_f4.groupby('userId').sum(\"rollad\")"
      ]
    },
    {
      "cell_type": "code",
      "execution_count": null,
      "metadata": {
        "id": "64pYgou9STsF"
      },
      "outputs": [],
      "source": [
        "rollad_f4 = rollad_f4.withColumnRenamed(\"sum(rollad)\", \"roll_ad\")"
      ]
    },
    {
      "cell_type": "code",
      "execution_count": null,
      "metadata": {
        "id": "p_FVyon_STsF",
        "outputId": "1ace106a-ea03-4842-f79a-7976191d282a"
      },
      "outputs": [
        {
          "data": {
            "text/plain": [
              "225"
            ]
          },
          "execution_count": 141,
          "metadata": {},
          "output_type": "execute_result"
        }
      ],
      "source": [
        "rollad_f4.count()"
      ]
    },
    {
      "cell_type": "code",
      "execution_count": null,
      "metadata": {
        "id": "OcfiP3MxSTsF",
        "outputId": "d3ad0214-d8ef-4990-8997-5777db337649"
      },
      "outputs": [
        {
          "name": "stdout",
          "output_type": "stream",
          "text": [
            "+------+-------+\n",
            "|userId|roll_ad|\n",
            "+------+-------+\n",
            "|100010|     52|\n",
            "|200002|      7|\n",
            "+------+-------+\n",
            "only showing top 2 rows\n",
            "\n"
          ]
        }
      ],
      "source": [
        "rollad_f4.show(2)"
      ]
    },
    {
      "cell_type": "markdown",
      "metadata": {
        "id": "LTTLNRoDSTsF"
      },
      "source": [
        "### Number of thumb down actions\n"
      ]
    },
    {
      "cell_type": "markdown",
      "metadata": {
        "id": "wXkfnwU7STsF"
      },
      "source": [
        "The fifth feature we can add to our feature dataframe is thumbs down. Users who had churned in the past had performed more thumbs down actions than those who stayed with the service."
      ]
    },
    {
      "cell_type": "code",
      "execution_count": null,
      "metadata": {
        "id": "U1NPkag4STsG"
      },
      "outputs": [],
      "source": [
        "thumbdown_f5 = df.select([\"userId\", \"page\"])"
      ]
    },
    {
      "cell_type": "code",
      "execution_count": null,
      "metadata": {
        "id": "czZxB9gBSTsG"
      },
      "outputs": [],
      "source": [
        "thumddown_event = udf(lambda x: 1 if x == \"Thumbs Down\" else 0, IntegerType())"
      ]
    },
    {
      "cell_type": "code",
      "execution_count": null,
      "metadata": {
        "id": "1f6AEY9KSTsG"
      },
      "outputs": [],
      "source": [
        "thumbdown_f5 = thumbdown_f5.withColumn(\"Thumbs Down\", thumddown_event(\"page\"))"
      ]
    },
    {
      "cell_type": "code",
      "execution_count": null,
      "metadata": {
        "id": "m4Up4y6zSTsG"
      },
      "outputs": [],
      "source": [
        "thumbdown_f5 = thumbdown_f5.groupby('userId').sum(\"Thumbs Down\")"
      ]
    },
    {
      "cell_type": "code",
      "execution_count": null,
      "metadata": {
        "id": "mhtH1aiFSTsG"
      },
      "outputs": [],
      "source": [
        "thumbdown_f5 = thumbdown_f5.withColumnRenamed(\"sum(Thumbs Down)\", \"thumbs_down\")"
      ]
    },
    {
      "cell_type": "code",
      "execution_count": null,
      "metadata": {
        "id": "SUg9CnTOSTsG",
        "outputId": "628415ad-1f0a-4b67-9a89-20e506bcff04"
      },
      "outputs": [
        {
          "data": {
            "text/plain": [
              "225"
            ]
          },
          "execution_count": 148,
          "metadata": {},
          "output_type": "execute_result"
        }
      ],
      "source": [
        "thumbdown_f5.count()"
      ]
    },
    {
      "cell_type": "code",
      "execution_count": null,
      "metadata": {
        "id": "A3FpDYvFSTsG",
        "outputId": "dc2ff64a-8c38-4697-d81a-73aff069a1de"
      },
      "outputs": [
        {
          "name": "stdout",
          "output_type": "stream",
          "text": [
            "+------+-----------+\n",
            "|userId|thumbs_down|\n",
            "+------+-----------+\n",
            "|100010|          5|\n",
            "|200002|          6|\n",
            "+------+-----------+\n",
            "only showing top 2 rows\n",
            "\n"
          ]
        }
      ],
      "source": [
        "thumbdown_f5.show(2)"
      ]
    },
    {
      "cell_type": "markdown",
      "metadata": {
        "id": "qtFZcicFSTsG"
      },
      "source": [
        "### Number of thumbs up actions\n"
      ]
    },
    {
      "cell_type": "markdown",
      "metadata": {
        "id": "owZKYn4eSTsG"
      },
      "source": [
        "We can do the same for thumb up actions. Users who stayed with the service had performed more thumbs up actions in the past."
      ]
    },
    {
      "cell_type": "code",
      "execution_count": null,
      "metadata": {
        "id": "347UPmXMSTsG"
      },
      "outputs": [],
      "source": [
        "thumbup_f6 = df.select([\"userId\", \"page\"])"
      ]
    },
    {
      "cell_type": "code",
      "execution_count": null,
      "metadata": {
        "id": "CNShens5STsG"
      },
      "outputs": [],
      "source": [
        "thumbup_event = udf(lambda x: 1 if x == \"Thumbs Up\" else 0, IntegerType())"
      ]
    },
    {
      "cell_type": "code",
      "execution_count": null,
      "metadata": {
        "id": "g4L5u9CMSTsG"
      },
      "outputs": [],
      "source": [
        "thumbup_f6 = thumbup_f6.withColumn(\"Thumbs Up\", thumbup_event(\"page\"))"
      ]
    },
    {
      "cell_type": "code",
      "execution_count": null,
      "metadata": {
        "id": "TlC8FcD6STsG"
      },
      "outputs": [],
      "source": [
        "thumbup_f6 = thumbup_f6.groupby('userId').sum(\"Thumbs Up\")"
      ]
    },
    {
      "cell_type": "code",
      "execution_count": null,
      "metadata": {
        "id": "jXNc2CL4STsG"
      },
      "outputs": [],
      "source": [
        "thumbup_f6 = thumbup_f6.withColumnRenamed(\"sum(Thumbs Up)\", \"thumbs_up\")"
      ]
    },
    {
      "cell_type": "code",
      "execution_count": null,
      "metadata": {
        "id": "sePmJ59gSTsG",
        "outputId": "d750183e-dc91-4358-c319-2f7bfd12d70c"
      },
      "outputs": [
        {
          "data": {
            "text/plain": [
              "225"
            ]
          },
          "execution_count": 155,
          "metadata": {},
          "output_type": "execute_result"
        }
      ],
      "source": [
        "thumbup_f6.count()"
      ]
    },
    {
      "cell_type": "code",
      "execution_count": null,
      "metadata": {
        "id": "9ts7iU8-STsG",
        "outputId": "2001c3af-aae2-4db5-cb1e-49231016dafc"
      },
      "outputs": [
        {
          "name": "stdout",
          "output_type": "stream",
          "text": [
            "+------+---------+\n",
            "|userId|thumbs_up|\n",
            "+------+---------+\n",
            "|100010|       17|\n",
            "|200002|       21|\n",
            "+------+---------+\n",
            "only showing top 2 rows\n",
            "\n"
          ]
        }
      ],
      "source": [
        "thumbup_f6.show(2)"
      ]
    },
    {
      "cell_type": "markdown",
      "metadata": {
        "id": "jc4cAXP-STsG"
      },
      "source": [
        "### Number of friends added\n"
      ]
    },
    {
      "cell_type": "markdown",
      "metadata": {
        "id": "vOqP1B6rSTsG"
      },
      "source": [
        "Similarly, number of friends added can indicate if a user is likely to churn or not. In the past, those who added more friends stayed with the app."
      ]
    },
    {
      "cell_type": "code",
      "execution_count": null,
      "metadata": {
        "id": "5sDLMZQ2STsG"
      },
      "outputs": [],
      "source": [
        "friend_f7 = df.select([\"userId\", \"page\"])"
      ]
    },
    {
      "cell_type": "code",
      "execution_count": null,
      "metadata": {
        "id": "tTSnqDYhSTsG"
      },
      "outputs": [],
      "source": [
        "add_friend = udf(lambda x: 1 if x == \"Add Friend\" else 0, IntegerType())"
      ]
    },
    {
      "cell_type": "code",
      "execution_count": null,
      "metadata": {
        "id": "DFqd1hZQSTsG"
      },
      "outputs": [],
      "source": [
        "friend_f7 = friend_f7.withColumn(\"add_friend\", add_friend(\"page\"))"
      ]
    },
    {
      "cell_type": "code",
      "execution_count": null,
      "metadata": {
        "id": "SnmGGV_xSTsH"
      },
      "outputs": [],
      "source": [
        "friend_f7 = friend_f7.groupby('userId').sum(\"add_friend\")"
      ]
    },
    {
      "cell_type": "code",
      "execution_count": null,
      "metadata": {
        "id": "WiZB1EJ0STsH"
      },
      "outputs": [],
      "source": [
        "friend_f7 = friend_f7.withColumnRenamed(\"sum(add_friend)\", \"add_friend\")"
      ]
    },
    {
      "cell_type": "code",
      "execution_count": null,
      "metadata": {
        "id": "mU-d-_cNSTsH",
        "outputId": "f2d724dd-8527-4f51-b104-9e9b57370530"
      },
      "outputs": [
        {
          "data": {
            "text/plain": [
              "225"
            ]
          },
          "execution_count": 162,
          "metadata": {},
          "output_type": "execute_result"
        }
      ],
      "source": [
        "friend_f7.count()"
      ]
    },
    {
      "cell_type": "code",
      "execution_count": null,
      "metadata": {
        "id": "iwYJAWJeSTsH",
        "outputId": "85936c35-001b-4fd1-9b21-11250ea9e063"
      },
      "outputs": [
        {
          "name": "stdout",
          "output_type": "stream",
          "text": [
            "+------+----------+\n",
            "|userId|add_friend|\n",
            "+------+----------+\n",
            "|100010|         4|\n",
            "|200002|         4|\n",
            "+------+----------+\n",
            "only showing top 2 rows\n",
            "\n"
          ]
        }
      ],
      "source": [
        "friend_f7.show(2)"
      ]
    },
    {
      "cell_type": "markdown",
      "metadata": {
        "id": "XbqKXrTFSTsH"
      },
      "source": [
        "### Number of songs added to playlist"
      ]
    },
    {
      "cell_type": "markdown",
      "metadata": {
        "id": "Qe4F_aAfSTsH"
      },
      "source": [
        "Again, those who added more songs to their playlists had stayed with the service so this can provide an indication of whether a user is likely to churn."
      ]
    },
    {
      "cell_type": "code",
      "execution_count": null,
      "metadata": {
        "id": "gqAcMB6qSTsH"
      },
      "outputs": [],
      "source": [
        "playlist_f8 = df.select([\"userId\", \"page\"])"
      ]
    },
    {
      "cell_type": "code",
      "execution_count": null,
      "metadata": {
        "id": "pckyTUHPSTsH"
      },
      "outputs": [],
      "source": [
        "add_playlist = udf(lambda x: 1 if x == \"Add to Playlist\" else 0, IntegerType())"
      ]
    },
    {
      "cell_type": "code",
      "execution_count": null,
      "metadata": {
        "id": "Qx4I3r_1STsH"
      },
      "outputs": [],
      "source": [
        "playlist_f8 = playlist_f8.withColumn(\"Playlist\", add_playlist(\"page\"))"
      ]
    },
    {
      "cell_type": "code",
      "execution_count": null,
      "metadata": {
        "id": "VPlTRv7iSTsH"
      },
      "outputs": [],
      "source": [
        "playlist_f8 = playlist_f8.groupby('userId').sum(\"Playlist\")"
      ]
    },
    {
      "cell_type": "code",
      "execution_count": null,
      "metadata": {
        "id": "0mPVk7JhSTsH"
      },
      "outputs": [],
      "source": [
        "playlist_f8 = playlist_f8.withColumnRenamed(\"sum(Playlist)\", \"playlist\")"
      ]
    },
    {
      "cell_type": "code",
      "execution_count": null,
      "metadata": {
        "id": "wkRu-VL-STsH",
        "outputId": "5f5f8929-b559-4750-e1dc-7df3d07087f7"
      },
      "outputs": [
        {
          "data": {
            "text/plain": [
              "225"
            ]
          },
          "execution_count": 169,
          "metadata": {},
          "output_type": "execute_result"
        }
      ],
      "source": [
        "playlist_f8.count()"
      ]
    },
    {
      "cell_type": "code",
      "execution_count": null,
      "metadata": {
        "id": "YpM-FuEdSTsH",
        "outputId": "9d31e44c-85fb-42e6-f2ac-1696235ed758"
      },
      "outputs": [
        {
          "name": "stdout",
          "output_type": "stream",
          "text": [
            "+------+--------+\n",
            "|userId|playlist|\n",
            "+------+--------+\n",
            "|100010|       7|\n",
            "|200002|       8|\n",
            "+------+--------+\n",
            "only showing top 2 rows\n",
            "\n"
          ]
        }
      ],
      "source": [
        "playlist_f8.show(2)"
      ]
    },
    {
      "cell_type": "markdown",
      "metadata": {
        "id": "LbE6t_ZKSTsH"
      },
      "source": [
        "### Number of different Artists Listened to on Sparkify"
      ]
    },
    {
      "cell_type": "markdown",
      "metadata": {
        "id": "EvmZhdpjSTsH"
      },
      "source": [
        "As we discovered in EDA, users that listened to more diverse artists were less likely to churn."
      ]
    },
    {
      "cell_type": "code",
      "execution_count": null,
      "metadata": {
        "id": "De8MsdSRSTsH"
      },
      "outputs": [],
      "source": [
        "artists_f9 = df.select(\"userId\", \"artist\").dropDuplicates().groupby(\"userId\").count()"
      ]
    },
    {
      "cell_type": "code",
      "execution_count": null,
      "metadata": {
        "id": "v7wSfDG-STsH"
      },
      "outputs": [],
      "source": [
        "artists_f9 = artists_f9.withColumnRenamed(\"count\", \"num_artists\")"
      ]
    },
    {
      "cell_type": "code",
      "execution_count": null,
      "metadata": {
        "id": "CtkAcnObSTsH",
        "outputId": "fb868c59-ed5d-4065-acfa-790e65cdc4c9"
      },
      "outputs": [
        {
          "data": {
            "text/plain": [
              "225"
            ]
          },
          "execution_count": 173,
          "metadata": {},
          "output_type": "execute_result"
        }
      ],
      "source": [
        "artists_f9.count()"
      ]
    },
    {
      "cell_type": "code",
      "execution_count": null,
      "metadata": {
        "id": "Zo2iMw6VSTsH",
        "outputId": "d4f14a62-be45-4551-cfe0-5c76a46cb717"
      },
      "outputs": [
        {
          "name": "stdout",
          "output_type": "stream",
          "text": [
            "+------+-----------+\n",
            "|userId|num_artists|\n",
            "+------+-----------+\n",
            "|100010|        253|\n",
            "|200002|        340|\n",
            "+------+-----------+\n",
            "only showing top 2 rows\n",
            "\n"
          ]
        }
      ],
      "source": [
        "artists_f9.show(2)"
      ]
    },
    {
      "cell_type": "markdown",
      "metadata": {
        "id": "P1EI9nuYSTsH"
      },
      "source": [
        "### Number of Days Since Registering"
      ]
    },
    {
      "cell_type": "markdown",
      "metadata": {
        "id": "38YUhBM6STsI"
      },
      "source": [
        "Number of days since registering also looked useful from our EDA. We saw that users who had a shorter number of days since registering churned more than those who had used the service for a longer time."
      ]
    },
    {
      "cell_type": "code",
      "execution_count": null,
      "metadata": {
        "id": "ZSp0nfWvSTsI",
        "outputId": "3241b083-edb4-4a4e-d943-3dbd5ad52b14"
      },
      "outputs": [
        {
          "name": "stdout",
          "output_type": "stream",
          "text": [
            "+------+-------------+-------------+-----+-----------+------------------+\n",
            "|userId| registration|           ts|churn| delta_days|              days|\n",
            "+------+-------------+-------------+-----+-----------+------------------+\n",
            "|    10|1538159495000|1542631788000|    0| 4472293000| 51.76265046296297|\n",
            "|   100|1537982255000|1543587349000|    0| 5605094000| 64.87377314814815|\n",
            "|100001|1534627466000|1538498205000|    1| 3870739000| 44.80021990740741|\n",
            "|100002|1529934689000|1543799476000|    0|13864787000|160.47207175925925|\n",
            "|100003|1537309344000|1539274781000|    1| 1965437000|22.748113425925926|\n",
            "|100004|1528560242000|1543459065000|    0|14898823000|172.44008101851853|\n",
            "|100005|1532610926000|1539971825000|    1| 7360899000| 85.19559027777778|\n",
            "|100006|1537964483000|1538753070000|    1|  788587000| 9.127164351851851|\n",
            "|100007|1533522419000|1543491909000|    1| 9969490000|115.38761574074074|\n",
            "|100008|1537440271000|1543335219000|    0| 5894948000| 68.22856481481482|\n",
            "|100009|1537376437000|1540611104000|    1| 3234667000| 37.43827546296296|\n",
            "|100010|1538016340000|1542823952000|    0| 4807612000|  55.6436574074074|\n",
            "|100011|1537970819000|1538417085000|    1|  446266000| 5.165115740740741|\n",
            "|100012|1537381154000|1541100900000|    1| 3719746000| 43.05261574074074|\n",
            "|100013|1537367773000|1541184816000|    1| 3817043000| 44.17873842592593|\n",
            "|100014|1535389443000|1542740649000|    1| 7351206000| 85.08340277777778|\n",
            "|100015|1537208989000|1543073753000|    1| 5864764000| 67.87921296296297|\n",
            "|100016|1536854322000|1543335647000|    0| 6481325000| 75.01533564814815|\n",
            "|100017|1533247234000|1540062847000|    1| 6815613000| 78.88440972222223|\n",
            "|100018|1533812833000|1543378360000|    0| 9565527000|110.71211805555555|\n",
            "+------+-------------+-------------+-----+-----------+------------------+\n",
            "only showing top 20 rows\n",
            "\n"
          ]
        }
      ],
      "source": [
        "df_days.show()"
      ]
    },
    {
      "cell_type": "code",
      "execution_count": null,
      "metadata": {
        "id": "xpenY7BLSTsI"
      },
      "outputs": [],
      "source": [
        "days_f10 = df_days.drop('registration', 'ts', 'churn', 'delta_days')"
      ]
    },
    {
      "cell_type": "code",
      "execution_count": null,
      "metadata": {
        "id": "yg9WqRqKSTsI",
        "outputId": "b72c35b4-1156-487b-98b7-e593a9fcec17"
      },
      "outputs": [
        {
          "data": {
            "text/plain": [
              "225"
            ]
          },
          "execution_count": 177,
          "metadata": {},
          "output_type": "execute_result"
        }
      ],
      "source": [
        "days_f10.count()"
      ]
    },
    {
      "cell_type": "code",
      "execution_count": null,
      "metadata": {
        "id": "JQDIYqHLSTsI",
        "outputId": "cdf55d9f-6553-4648-de76-3031ba1793f0"
      },
      "outputs": [
        {
          "name": "stdout",
          "output_type": "stream",
          "text": [
            "+------+------------------+\n",
            "|userId|              days|\n",
            "+------+------------------+\n",
            "|    10| 51.76265046296297|\n",
            "|   100| 64.87377314814815|\n",
            "|100001| 44.80021990740741|\n",
            "|100002|160.47207175925925|\n",
            "|100003|22.748113425925926|\n",
            "|100004|172.44008101851853|\n",
            "|100005| 85.19559027777778|\n",
            "|100006| 9.127164351851851|\n",
            "|100007|115.38761574074074|\n",
            "|100008| 68.22856481481482|\n",
            "|100009| 37.43827546296296|\n",
            "|100010|  55.6436574074074|\n",
            "|100011| 5.165115740740741|\n",
            "|100012| 43.05261574074074|\n",
            "|100013| 44.17873842592593|\n",
            "|100014| 85.08340277777778|\n",
            "|100015| 67.87921296296297|\n",
            "|100016| 75.01533564814815|\n",
            "|100017| 78.88440972222223|\n",
            "|100018|110.71211805555555|\n",
            "+------+------------------+\n",
            "only showing top 20 rows\n",
            "\n"
          ]
        }
      ],
      "source": [
        "days_f10.show()"
      ]
    },
    {
      "cell_type": "markdown",
      "metadata": {
        "id": "Wh73xNn8STsI"
      },
      "source": [
        "### Label"
      ]
    },
    {
      "cell_type": "markdown",
      "metadata": {
        "id": "_EXCtJ1bSTsI"
      },
      "source": [
        "Now we can create our label column indicating if the user churned (1) or not (0)."
      ]
    },
    {
      "cell_type": "code",
      "execution_count": null,
      "metadata": {
        "id": "ZQU6qDVASTsI"
      },
      "outputs": [],
      "source": [
        "label = df.select(\"userId\", \"churn\").dropDuplicates().groupby(\"userId\", \"churn\").count()"
      ]
    },
    {
      "cell_type": "code",
      "execution_count": null,
      "metadata": {
        "id": "WlU9jvVMSTsI"
      },
      "outputs": [],
      "source": [
        "label = label.drop('count')"
      ]
    },
    {
      "cell_type": "code",
      "execution_count": null,
      "metadata": {
        "id": "dbA3hklISTsI",
        "outputId": "403348de-8963-4d38-e26f-d18f843b7117"
      },
      "outputs": [
        {
          "data": {
            "text/plain": [
              "225"
            ]
          },
          "execution_count": 181,
          "metadata": {},
          "output_type": "execute_result"
        }
      ],
      "source": [
        "label.count()"
      ]
    },
    {
      "cell_type": "code",
      "execution_count": null,
      "metadata": {
        "id": "1Xt8USoTSTsI"
      },
      "outputs": [],
      "source": [
        "label = label.withColumnRenamed(\"churn\", \"label\")"
      ]
    },
    {
      "cell_type": "code",
      "execution_count": null,
      "metadata": {
        "id": "B2tdOfx6STsI",
        "outputId": "1e431603-28ba-465d-80c9-0632737007c0"
      },
      "outputs": [
        {
          "name": "stdout",
          "output_type": "stream",
          "text": [
            "+------+-----+\n",
            "|userId|label|\n",
            "+------+-----+\n",
            "|100010|    0|\n",
            "|200002|    0|\n",
            "|   125|    1|\n",
            "|   124|    0|\n",
            "|    51|    1|\n",
            "|     7|    0|\n",
            "|    15|    0|\n",
            "|    54|    1|\n",
            "|   155|    0|\n",
            "|100014|    1|\n",
            "|   132|    0|\n",
            "|   154|    0|\n",
            "|   101|    1|\n",
            "|    11|    0|\n",
            "|   138|    0|\n",
            "|300017|    0|\n",
            "|100021|    1|\n",
            "|    29|    1|\n",
            "|    69|    0|\n",
            "|   112|    0|\n",
            "+------+-----+\n",
            "only showing top 20 rows\n",
            "\n"
          ]
        }
      ],
      "source": [
        "label.show()"
      ]
    },
    {
      "cell_type": "markdown",
      "metadata": {
        "id": "LGVguJTdSTsI"
      },
      "source": [
        "### Create Features Dataset"
      ]
    },
    {
      "cell_type": "markdown",
      "metadata": {
        "id": "1KdWal_ASTsI"
      },
      "source": [
        "Now that we have our features we need to join these together on `userId`."
      ]
    },
    {
      "cell_type": "code",
      "execution_count": null,
      "metadata": {
        "id": "GbV5DZbpSTsI"
      },
      "outputs": [],
      "source": [
        "feature_df = gender_f1.join(level_f2, [\"userId\"]).join(song_f3, [\"userId\"]).join(rollad_f4, [\"userId\"]).join(thumbdown_f5, [\"userId\"]).join(thumbup_f6, [\"userId\"]).join(friend_f7, [\"userId\"]).join(playlist_f8, [\"userId\"]).join(artists_f9, [\"userId\"]).join(days_f10, [\"userId\"]).join(label, [\"userId\"])"
      ]
    },
    {
      "cell_type": "code",
      "execution_count": null,
      "metadata": {
        "id": "ZO1Sp_DYSTsI",
        "outputId": "e4480807-fd02-4e5a-eecf-bfc6dbc294db"
      },
      "outputs": [
        {
          "name": "stdout",
          "output_type": "stream",
          "text": [
            "+------+------+-----+------------------+-------+-----------+---------+----------+--------+-----------+------------------+-----+\n",
            "|userId|gender|level|          avg_song|roll_ad|thumbs_down|thumbs_up|add_friend|playlist|num_artists|              days|label|\n",
            "+------+------+-----+------------------+-------+-----------+---------+----------+--------+-----------+------------------+-----+\n",
            "|100010|     1|    0|39.285714285714285|     52|          5|       17|         4|       7|        253|  55.6436574074074|    0|\n",
            "|200002|     0|    1|              64.5|      7|          6|       21|         4|       8|        340| 70.07462962962963|    0|\n",
            "|   125|     0|    0|               8.0|      1|          0|        0|         0|       0|          9| 71.31688657407408|    1|\n",
            "|   124|     1|    1|145.67857142857142|      4|         41|      171|        74|     118|       2233|131.55591435185184|    0|\n",
            "|    51|     0|    1|             211.1|      0|         21|      100|        28|      52|       1386|19.455844907407407|    1|\n",
            "|     7|     0|    0|21.428571428571427|     16|          1|        7|         1|       5|        143| 72.77818287037037|    0|\n",
            "|    15|     0|    1|136.71428571428572|      1|         14|       81|        31|      59|       1303|56.513576388888886|    0|\n",
            "|    54|     1|    1| 81.17142857142858|     47|         29|      163|        33|      72|       1745|110.75168981481481|    1|\n",
            "|   155|     1|    1|136.66666666666666|      8|          3|       58|        11|      24|        644|23.556018518518517|    0|\n",
            "|100014|     0|    1|42.833333333333336|      2|          3|       17|         6|       7|        234| 85.08340277777778|    1|\n",
            "|   132|     1|    1|             120.5|      2|         17|       96|        41|      38|       1300|  66.8891087962963|    0|\n",
            "|   154|     1|    0|              28.0|     10|          0|       11|         3|       1|         79|23.872037037037035|    0|\n",
            "|   101|     0|    1|             179.7|      8|         16|       86|        29|      61|       1242|53.965937499999995|    1|\n",
            "|    11|     1|    1|           40.4375|     39|          9|       40|         6|      20|        535|124.47825231481481|    0|\n",
            "|   138|     0|    1|             138.0|     17|         24|       95|        41|      67|       1333| 66.62668981481481|    0|\n",
            "|300017|     1|    1|59.540983606557376|     11|         28|      303|        63|     113|       2071| 74.35851851851852|    0|\n",
            "|100021|     0|    0|              46.0|     30|          5|       11|         7|       7|        208| 64.73886574074074|    1|\n",
            "|    29|     0|    1| 89.05882352941177|     22|         22|      154|        47|      89|       1805|60.104050925925925|    1|\n",
            "|    69|     1|    1|             125.0|      3|          9|       72|        12|      33|        866| 71.42444444444445|    0|\n",
            "|   112|     0|    0| 23.88888888888889|     21|          3|        9|         7|       7|        196| 87.46262731481481|    0|\n",
            "+------+------+-----+------------------+-------+-----------+---------+----------+--------+-----------+------------------+-----+\n",
            "only showing top 20 rows\n",
            "\n"
          ]
        }
      ],
      "source": [
        "feature_df.show()"
      ]
    },
    {
      "cell_type": "markdown",
      "metadata": {
        "id": "wqo2SPXtSTsI"
      },
      "source": [
        "Now we can drop the userId."
      ]
    },
    {
      "cell_type": "code",
      "execution_count": null,
      "metadata": {
        "id": "GMYuLotMSTsI"
      },
      "outputs": [],
      "source": [
        "feature_df = feature_df.drop('userId')"
      ]
    },
    {
      "cell_type": "code",
      "execution_count": null,
      "metadata": {
        "id": "Bzm67il7STsI",
        "outputId": "81551f66-5675-4d5c-e5e3-021f72266ba7"
      },
      "outputs": [
        {
          "name": "stdout",
          "output_type": "stream",
          "text": [
            "+------+-----+------------------+-------+-----------+---------+----------+--------+-----------+------------------+-----+\n",
            "|gender|level|          avg_song|roll_ad|thumbs_down|thumbs_up|add_friend|playlist|num_artists|              days|label|\n",
            "+------+-----+------------------+-------+-----------+---------+----------+--------+-----------+------------------+-----+\n",
            "|     1|    0|39.285714285714285|     52|          5|       17|         4|       7|        253|  55.6436574074074|    0|\n",
            "|     0|    1|              64.5|      7|          6|       21|         4|       8|        340| 70.07462962962963|    0|\n",
            "|     0|    0|               8.0|      1|          0|        0|         0|       0|          9| 71.31688657407408|    1|\n",
            "|     1|    1|145.67857142857142|      4|         41|      171|        74|     118|       2233|131.55591435185184|    0|\n",
            "|     0|    1|             211.1|      0|         21|      100|        28|      52|       1386|19.455844907407407|    1|\n",
            "|     0|    0|21.428571428571427|     16|          1|        7|         1|       5|        143| 72.77818287037037|    0|\n",
            "|     0|    1|136.71428571428572|      1|         14|       81|        31|      59|       1303|56.513576388888886|    0|\n",
            "|     1|    1| 81.17142857142858|     47|         29|      163|        33|      72|       1745|110.75168981481481|    1|\n",
            "|     1|    1|136.66666666666666|      8|          3|       58|        11|      24|        644|23.556018518518517|    0|\n",
            "|     0|    1|42.833333333333336|      2|          3|       17|         6|       7|        234| 85.08340277777778|    1|\n",
            "|     1|    1|             120.5|      2|         17|       96|        41|      38|       1300|  66.8891087962963|    0|\n",
            "|     1|    0|              28.0|     10|          0|       11|         3|       1|         79|23.872037037037035|    0|\n",
            "|     0|    1|             179.7|      8|         16|       86|        29|      61|       1242|53.965937499999995|    1|\n",
            "|     1|    1|           40.4375|     39|          9|       40|         6|      20|        535|124.47825231481481|    0|\n",
            "|     0|    1|             138.0|     17|         24|       95|        41|      67|       1333| 66.62668981481481|    0|\n",
            "|     1|    1|59.540983606557376|     11|         28|      303|        63|     113|       2071| 74.35851851851852|    0|\n",
            "|     0|    0|              46.0|     30|          5|       11|         7|       7|        208| 64.73886574074074|    1|\n",
            "|     0|    1| 89.05882352941177|     22|         22|      154|        47|      89|       1805|60.104050925925925|    1|\n",
            "|     1|    1|             125.0|      3|          9|       72|        12|      33|        866| 71.42444444444445|    0|\n",
            "|     0|    0| 23.88888888888889|     21|          3|        9|         7|       7|        196| 87.46262731481481|    0|\n",
            "+------+-----+------------------+-------+-----------+---------+----------+--------+-----------+------------------+-----+\n",
            "only showing top 20 rows\n",
            "\n"
          ]
        }
      ],
      "source": [
        "feature_df.show()"
      ]
    },
    {
      "cell_type": "markdown",
      "metadata": {
        "id": "RT4v24ksSTsJ"
      },
      "source": [
        "Now we have a dataframe with all the features we can into our model where each row represents a user.However first we need to do some preprocessing."
      ]
    },
    {
      "cell_type": "markdown",
      "metadata": {
        "id": "fZT4CKI0STsJ"
      },
      "source": [
        "## Preprocessing"
      ]
    },
    {
      "cell_type": "code",
      "execution_count": null,
      "metadata": {
        "id": "nvZjYRc4STsJ",
        "outputId": "28d7836f-38e2-49d9-8243-e43c97e40075"
      },
      "outputs": [
        {
          "name": "stdout",
          "output_type": "stream",
          "text": [
            "root\n",
            " |-- gender: integer (nullable = false)\n",
            " |-- level: integer (nullable = false)\n",
            " |-- avg_song: double (nullable = true)\n",
            " |-- roll_ad: long (nullable = true)\n",
            " |-- thumbs_down: long (nullable = true)\n",
            " |-- thumbs_up: long (nullable = true)\n",
            " |-- add_friend: long (nullable = true)\n",
            " |-- playlist: long (nullable = true)\n",
            " |-- num_artists: long (nullable = false)\n",
            " |-- days: double (nullable = true)\n",
            " |-- label: long (nullable = true)\n",
            "\n"
          ]
        }
      ],
      "source": [
        "# print schema\n",
        "feature_df.printSchema()"
      ]
    },
    {
      "cell_type": "markdown",
      "metadata": {
        "id": "SMByZA--STsJ"
      },
      "source": [
        "Now we need to take these columns and convert into the numerical datatypes that will be used in our model: integers and floats. We can use write a function to adhere to DRY principles."
      ]
    },
    {
      "cell_type": "code",
      "execution_count": null,
      "metadata": {
        "id": "kYr0BuhiSTsJ"
      },
      "outputs": [],
      "source": [
        "for feature in feature_df.columns:\n",
        "    feature_df = feature_df.withColumn(feature, feature_df[feature].cast('float'))"
      ]
    },
    {
      "cell_type": "code",
      "execution_count": null,
      "metadata": {
        "id": "YCc9wUA3STsJ",
        "outputId": "359bb8aa-77a7-45e7-d5eb-373847a1335e"
      },
      "outputs": [
        {
          "name": "stdout",
          "output_type": "stream",
          "text": [
            "root\n",
            " |-- gender: float (nullable = false)\n",
            " |-- level: float (nullable = false)\n",
            " |-- avg_song: float (nullable = true)\n",
            " |-- roll_ad: float (nullable = true)\n",
            " |-- thumbs_down: float (nullable = true)\n",
            " |-- thumbs_up: float (nullable = true)\n",
            " |-- add_friend: float (nullable = true)\n",
            " |-- playlist: float (nullable = true)\n",
            " |-- num_artists: float (nullable = false)\n",
            " |-- days: float (nullable = true)\n",
            " |-- label: float (nullable = true)\n",
            "\n"
          ]
        }
      ],
      "source": [
        "#check this works\n",
        "feature_df.printSchema()"
      ]
    },
    {
      "cell_type": "markdown",
      "metadata": {
        "id": "5xUkL2B5STsJ"
      },
      "source": [
        "The next stage of preprocessing is to vectorise our features."
      ]
    },
    {
      "cell_type": "markdown",
      "metadata": {
        "id": "9GZm25Z0STsJ"
      },
      "source": [
        "### Vector Assembler"
      ]
    },
    {
      "cell_type": "markdown",
      "metadata": {
        "id": "5_fgbP7rSTsJ"
      },
      "source": [
        "The purpose of vector assembler is to tranform our features into a vector. The vector can then be standardised and fed into our chosen algorithms."
      ]
    },
    {
      "cell_type": "code",
      "execution_count": null,
      "metadata": {
        "id": "b_kPVpSeSTsJ"
      },
      "outputs": [],
      "source": [
        "assembler = VectorAssembler(inputCols = [\"gender\", \"level\", \"avg_song\", \"roll_ad\", \"thumbs_down\", \"thumbs_up\", \"add_friend\", \"playlist\", \"num_artists\", \"days\"], outputCol = \"vec_features\")"
      ]
    },
    {
      "cell_type": "code",
      "execution_count": null,
      "metadata": {
        "id": "laffSd82STsJ"
      },
      "outputs": [],
      "source": [
        "feature_df = assembler.transform(feature_df)"
      ]
    },
    {
      "cell_type": "code",
      "execution_count": null,
      "metadata": {
        "id": "JPcXa5TvSTsJ",
        "outputId": "1934dbd3-c906-4d2a-faed-efefa2e7f0a8"
      },
      "outputs": [
        {
          "name": "stdout",
          "output_type": "stream",
          "text": [
            "+------+-----+---------+-------+-----------+---------+----------+--------+-----------+----------+-----+--------------------+\n",
            "|gender|level| avg_song|roll_ad|thumbs_down|thumbs_up|add_friend|playlist|num_artists|      days|label|        vec_features|\n",
            "+------+-----+---------+-------+-----------+---------+----------+--------+-----------+----------+-----+--------------------+\n",
            "|   1.0|  0.0|39.285713|   52.0|        5.0|     17.0|       4.0|     7.0|      253.0| 55.643658|  0.0|[1.0,0.0,39.28571...|\n",
            "|   0.0|  1.0|     64.5|    7.0|        6.0|     21.0|       4.0|     8.0|      340.0|  70.07463|  0.0|[0.0,1.0,64.5,7.0...|\n",
            "|   0.0|  0.0|      8.0|    1.0|        0.0|      0.0|       0.0|     0.0|        9.0|  71.31689|  1.0|(10,[2,3,8,9],[8....|\n",
            "|   1.0|  1.0|145.67857|    4.0|       41.0|    171.0|      74.0|   118.0|     2233.0| 131.55591|  0.0|[1.0,1.0,145.6785...|\n",
            "|   0.0|  1.0|    211.1|    0.0|       21.0|    100.0|      28.0|    52.0|     1386.0| 19.455845|  1.0|[0.0,1.0,211.1000...|\n",
            "|   0.0|  0.0|21.428572|   16.0|        1.0|      7.0|       1.0|     5.0|      143.0|  72.77818|  0.0|[0.0,0.0,21.42857...|\n",
            "|   0.0|  1.0|136.71428|    1.0|       14.0|     81.0|      31.0|    59.0|     1303.0| 56.513577|  0.0|[0.0,1.0,136.7142...|\n",
            "|   1.0|  1.0|81.171425|   47.0|       29.0|    163.0|      33.0|    72.0|     1745.0|110.751686|  1.0|[1.0,1.0,81.17142...|\n",
            "|   1.0|  1.0|136.66667|    8.0|        3.0|     58.0|      11.0|    24.0|      644.0| 23.556019|  0.0|[1.0,1.0,136.6666...|\n",
            "|   0.0|  1.0|42.833332|    2.0|        3.0|     17.0|       6.0|     7.0|      234.0| 85.083405|  1.0|[0.0,1.0,42.83333...|\n",
            "|   1.0|  1.0|    120.5|    2.0|       17.0|     96.0|      41.0|    38.0|     1300.0|  66.88911|  0.0|[1.0,1.0,120.5,2....|\n",
            "|   1.0|  0.0|     28.0|   10.0|        0.0|     11.0|       3.0|     1.0|       79.0| 23.872038|  0.0|[1.0,0.0,28.0,10....|\n",
            "|   0.0|  1.0|    179.7|    8.0|       16.0|     86.0|      29.0|    61.0|     1242.0|  53.96594|  1.0|[0.0,1.0,179.6999...|\n",
            "|   1.0|  1.0|  40.4375|   39.0|        9.0|     40.0|       6.0|    20.0|      535.0| 124.47825|  0.0|[1.0,1.0,40.4375,...|\n",
            "|   0.0|  1.0|    138.0|   17.0|       24.0|     95.0|      41.0|    67.0|     1333.0| 66.626686|  0.0|[0.0,1.0,138.0,17...|\n",
            "|   1.0|  1.0|59.540985|   11.0|       28.0|    303.0|      63.0|   113.0|     2071.0|  74.35852|  0.0|[1.0,1.0,59.54098...|\n",
            "|   0.0|  0.0|     46.0|   30.0|        5.0|     11.0|       7.0|     7.0|      208.0|  64.73887|  1.0|[0.0,0.0,46.0,30....|\n",
            "|   0.0|  1.0| 89.05882|   22.0|       22.0|    154.0|      47.0|    89.0|     1805.0|  60.10405|  1.0|[0.0,1.0,89.05882...|\n",
            "|   1.0|  1.0|    125.0|    3.0|        9.0|     72.0|      12.0|    33.0|      866.0| 71.424446|  0.0|[1.0,1.0,125.0,3....|\n",
            "|   0.0|  0.0| 23.88889|   21.0|        3.0|      9.0|       7.0|     7.0|      196.0|  87.46262|  0.0|[0.0,0.0,23.88888...|\n",
            "+------+-----+---------+-------+-----------+---------+----------+--------+-----------+----------+-----+--------------------+\n",
            "only showing top 20 rows\n",
            "\n"
          ]
        }
      ],
      "source": [
        "feature_df.show()"
      ]
    },
    {
      "cell_type": "markdown",
      "metadata": {
        "id": "tyOR17L0STsJ"
      },
      "source": [
        "### Standardisation"
      ]
    },
    {
      "cell_type": "markdown",
      "metadata": {
        "id": "85FjwXgQSTsJ"
      },
      "source": [
        "Now that we have our vectors we can standardise our values. This is important for our machine learning model so that those features with the highest values don't dominate the results and so that we can make the individual features look like standard normally distributed data."
      ]
    },
    {
      "cell_type": "code",
      "execution_count": null,
      "metadata": {
        "id": "A-9uQREqSTsJ"
      },
      "outputs": [],
      "source": [
        "scaler = StandardScaler(inputCol=\"vec_features\", outputCol=\"features\", withStd=True)"
      ]
    },
    {
      "cell_type": "code",
      "execution_count": null,
      "metadata": {
        "id": "X07zsxe9STsJ"
      },
      "outputs": [],
      "source": [
        "scaler_model = scaler.fit(feature_df)"
      ]
    },
    {
      "cell_type": "code",
      "execution_count": null,
      "metadata": {
        "id": "RV1EuNIwSTsJ"
      },
      "outputs": [],
      "source": [
        "feature_df = scaler_model.transform(feature_df)"
      ]
    },
    {
      "cell_type": "code",
      "execution_count": null,
      "metadata": {
        "id": "FD75bQevSTsJ",
        "outputId": "3463eb42-af5d-4631-d4dd-9b83ae2ae15b"
      },
      "outputs": [
        {
          "data": {
            "text/plain": [
              "[Row(gender=1.0, level=0.0, avg_song=39.28571319580078, roll_ad=52.0, thumbs_down=5.0, thumbs_up=17.0, add_friend=4.0, playlist=7.0, num_artists=253.0, days=55.64365768432617, label=0.0, vec_features=DenseVector([1.0, 0.0, 39.2857, 52.0, 5.0, 17.0, 4.0, 7.0, 253.0, 55.6437]), features=DenseVector([2.0013, 0.0, 0.9219, 2.413, 0.3823, 0.2596, 0.1943, 0.214, 0.4189, 1.4775])),\n",
              " Row(gender=0.0, level=1.0, avg_song=64.5, roll_ad=7.0, thumbs_down=6.0, thumbs_up=21.0, add_friend=4.0, playlist=8.0, num_artists=340.0, days=70.07463073730469, label=0.0, vec_features=DenseVector([0.0, 1.0, 64.5, 7.0, 6.0, 21.0, 4.0, 8.0, 340.0, 70.0746]), features=DenseVector([0.0, 2.0844, 1.5135, 0.3248, 0.4588, 0.3207, 0.1943, 0.2445, 0.563, 1.8606]))]"
            ]
          },
          "execution_count": 302,
          "metadata": {},
          "output_type": "execute_result"
        }
      ],
      "source": [
        "feature_df.head(2)"
      ]
    },
    {
      "cell_type": "markdown",
      "metadata": {
        "id": "3Mg1vvv7STsJ"
      },
      "source": [
        "We can see from above that standardisation has worked by comparing  vec_features=DenseVector([0.0, 1.0, 64.5, 7.0, 6.0, 21.0, 4.0, 8.0, 340.0, 70.0746]), to features=DenseVector([0.0, 2.0844, 1.5135, 0.3248, 0.4588, 0.3207, 0.1943, 0.2445, 0.563, 1.8606])."
      ]
    },
    {
      "cell_type": "markdown",
      "metadata": {
        "id": "1lXEa7MeSTsJ"
      },
      "source": [
        "## Train / Test / Validation Split"
      ]
    },
    {
      "cell_type": "markdown",
      "metadata": {
        "id": "aJyboGWwSTsK"
      },
      "source": [
        "Let's check how many records we have in total is 225 as it should be."
      ]
    },
    {
      "cell_type": "code",
      "execution_count": null,
      "metadata": {
        "id": "6XmB6LS2STsK",
        "outputId": "401e8fdf-34f7-45eb-d67e-70bed1c0e26c"
      },
      "outputs": [
        {
          "name": "stdout",
          "output_type": "stream",
          "text": [
            "+-----+-----+\n",
            "|label|count|\n",
            "+-----+-----+\n",
            "|  1.0|   52|\n",
            "|  0.0|  173|\n",
            "+-----+-----+\n",
            "\n"
          ]
        }
      ],
      "source": [
        "feature_df.groupby('label').count().show()"
      ]
    },
    {
      "cell_type": "markdown",
      "metadata": {
        "id": "ffE22FgfSTsK"
      },
      "source": [
        "This count is what we would expect, now we can split our data into train, test and validation sets. Here we will do a 60:20:20 split and include a seed so we can reproduce the result. I've included the same seed for the different machine learning models so that my results can be reproduced."
      ]
    },
    {
      "cell_type": "code",
      "execution_count": null,
      "metadata": {
        "id": "4W-ctqqeSTsK",
        "outputId": "98641093-c39e-4653-8937-be22f5dca52d"
      },
      "outputs": [
        {
          "name": "stdout",
          "output_type": "stream",
          "text": [
            "Training Dataset:142\n",
            "Test Dataset:47\n",
            "Validation Dataset:36\n"
          ]
        }
      ],
      "source": [
        "train, test, valid = feature_df.randomSplit([0.6, 0.2, 0.2], seed = 1996)\n",
        "print(\"Training Dataset:\" + str(train.count()))\n",
        "print(\"Test Dataset:\" + str(test.count()))\n",
        "print(\"Validation Dataset:\" + str(valid.count()))"
      ]
    },
    {
      "cell_type": "markdown",
      "metadata": {
        "id": "natsnSiwSTsK"
      },
      "source": [
        "# Modelling\n",
        "<a class=\"anchor\" id=\"model\"></a>\n",
        "\n",
        "Now we have created our features dataFrame with only numeric variables, we can split the full dataset into train, test, and validation sets. We will test out different machine learning classification algorithms including:\n",
        " - Logistic Regression\n",
        " - Random Forest Classifier\n",
        " - Gradient-Boosted Tree Classifier\n",
        " - Linear Support Vector Machine\n",
        " - Naive Bayes\n",
        "\n",
        "We will use these classification algorithms since churn prediction is a binary classification problem, meaning that customers will either churn (1) or they will stay (0) in a certain period of time.\n",
        "\n",
        "### Metrics\n",
        "We will evaluate the accuracy of the various models, tuning parameters as necessary. We will finally determine our winning model based on test accuracy and report results on the validation set. Since the churned users are a fairly small subset, I will use F1 score as the metric to optimize. F1 is a measure of the model's accuracy on a dataset and is used to evaluate binary classification systems like we have here. F1-score is a way of combining the precision and recall of the model and gives a better measure of the incorrectly classified cases than accuracy metric. F1 is also better for dealing with imbalanced classes like we have here."
      ]
    },
    {
      "cell_type": "markdown",
      "metadata": {
        "id": "d4A4tNeMSTsK"
      },
      "source": [
        "Now we can start modelling. When we identify the model with the best F1 score, accuracy and time we will then tune the model."
      ]
    },
    {
      "cell_type": "markdown",
      "metadata": {
        "id": "dhYEOZh4STsK"
      },
      "source": [
        "\n",
        "The models I have selected are below with the reasons why these have been chosen. Each model that has been chosen is suitable for our binary classification problem of predicting churn."
      ]
    },
    {
      "cell_type": "markdown",
      "metadata": {
        "id": "ZI3aLjK8STsK"
      },
      "source": [
        "- **Logistic Regression:** Logistic regression is the first machine learning algorithm we can try. Logistic regression is a reliable machine learning algorithm to try since this is a binary classification problem and logistic regression provides a model with good explainability. Logistic regression is also easy to implement, interpret and is efficient to train. It is also less inclined to overfitting.       \n",
        "- **Random Forest:** Random Forest is a powerful supervised learning algorithm that can be used for classification. RF is an ensemble method that creates multiple decision trees to make predictions and takes a majority vote of decisions reached. This can help avoid overfitting. RF is also robust and has good performance on imbalanced datasets like we have here.        \n",
        "- **Gradient Boosted Tree Classifier:** GBT provides good predictive accuracy. This works by building one tree at a time where each new tree helps correct errors made by the previous tree compared to RF which builds trees independently. There is a risk of overfitting with GBT so this needs to be considered. However GBT performs well with unbalanced data which we have here.    \n",
        "- **Linear SVC:** SVC is another supervised learning binary classification algorithm. It works well with clear margins of separations between classes and is memory efficient.    \n",
        "- **Naive Bayes:** Finally, we will try Naive Bayes. This is another classifier algorithm that is easy to implement and is fast."
      ]
    },
    {
      "cell_type": "markdown",
      "metadata": {
        "id": "RWhzMsjQSTsK"
      },
      "source": [
        "### Training the Models & Evaluating the Model Performance\n",
        "Steps:\n",
        " - Instantiate\n",
        " - Fit Models on Train\n",
        " - Predicting\n",
        " - Evaluating\n"
      ]
    },
    {
      "cell_type": "code",
      "execution_count": null,
      "metadata": {
        "id": "lvtcsZYESTsK"
      },
      "outputs": [],
      "source": [
        "# instantiate all of our models and include a seed for reproduciblity where possible\n",
        "lr = LogisticRegression(featuresCol = 'features', labelCol = 'label', maxIter=10)\n",
        "rf = RandomForestClassifier(featuresCol = 'features', labelCol = 'label', seed=1996)\n",
        "gbt = GBTClassifier(featuresCol = 'features', labelCol = 'label', maxIter=10, seed=1996)\n",
        "lsvc = LinearSVC(featuresCol = 'features', labelCol = 'label')\n",
        "nb = NaiveBayes(featuresCol = 'features', labelCol = 'label')"
      ]
    },
    {
      "cell_type": "code",
      "execution_count": null,
      "metadata": {
        "id": "O7qYQECYSTsK"
      },
      "outputs": [],
      "source": [
        "#list of models\n",
        "model_list = [lr,rf,gbt,lsvc,nb]"
      ]
    },
    {
      "cell_type": "code",
      "execution_count": null,
      "metadata": {
        "id": "35TkFWpjSTsK"
      },
      "outputs": [],
      "source": [
        "# evaluator we are using is multiclassclassificationevaluator to get the F1 scores\n",
        "evaluator = MulticlassClassificationEvaluator(labelCol = 'label', predictionCol='prediction')"
      ]
    },
    {
      "cell_type": "code",
      "execution_count": null,
      "metadata": {
        "id": "zKf0d4QfSTsK",
        "outputId": "b96f6f34-a01e-4985-ca4f-feead2a9a34e"
      },
      "outputs": [
        {
          "name": "stdout",
          "output_type": "stream",
          "text": [
            "LogisticRegression training started\n",
            "LogisticRegression training ended\n",
            "Time taken for LogisticRegression is: 110.01356387138367 seconds\n",
            "LogisticRegression predicting started\n",
            "LogisticRegression predicting ended\n",
            "F1 for LogisticRegression is: 0.6523297491039427\n",
            "The accuracy of the LogisticRegression model is: 0.7222222222222222\n",
            "RandomForestClassifier training started\n",
            "RandomForestClassifier training ended\n",
            "Time taken for RandomForestClassifier is: 179.0605046749115 seconds\n",
            "RandomForestClassifier predicting started\n",
            "RandomForestClassifier predicting ended\n",
            "F1 for RandomForestClassifier is: 0.874074074074074\n",
            "The accuracy of the RandomForestClassifier model is: 0.8888888888888888\n",
            "GBTClassifier training started\n",
            "GBTClassifier training ended\n",
            "Time taken for GBTClassifier is: 248.71031594276428 seconds\n",
            "GBTClassifier predicting started\n",
            "GBTClassifier predicting ended\n",
            "F1 for GBTClassifier is: 0.8888888888888888\n",
            "The accuracy of the GBTClassifier model is: 0.8888888888888888\n",
            "LinearSVC training started\n",
            "LinearSVC training ended\n",
            "Time taken for LinearSVC is: 3649.3062496185303 seconds\n",
            "LinearSVC predicting started\n",
            "LinearSVC predicting ended\n",
            "F1 for LinearSVC is: 0.6805555555555557\n",
            "The accuracy of the LinearSVC model is: 0.7777777777777778\n",
            "NaiveBayes training started\n",
            "NaiveBayes training ended\n",
            "Time taken for NaiveBayes is: 119.9338128566742 seconds\n",
            "NaiveBayes predicting started\n",
            "NaiveBayes predicting ended\n",
            "F1 for NaiveBayes is: 0.6805555555555557\n",
            "The accuracy of the NaiveBayes model is: 0.7777777777777778\n"
          ]
        }
      ],
      "source": [
        "# for loop to go through all our models\n",
        "for model in model_list:\n",
        "    # get model name\n",
        "    model_name = model.__class__.__name__\n",
        "\n",
        "    # print training started\n",
        "    print(model_name, 'training started')\n",
        "\n",
        "    # start time\n",
        "    start = time.time()\n",
        "    # fit the models on train dataset\n",
        "    model = model.fit(train)\n",
        "    # end time\n",
        "    end = time.time()\n",
        "\n",
        "    # print training ended\n",
        "    print(model_name, 'training ended')\n",
        "    # print time taken\n",
        "    print('Time taken for {} is:'.format(model_name),(end-start),'seconds')\n",
        "\n",
        "    # predict\n",
        "    print(model_name, 'predicting started')\n",
        "    predictions = model.transform(valid)\n",
        "    print(model_name, 'predicting ended')\n",
        "\n",
        "    # get metrics to evaluate\n",
        "    # f1\n",
        "    print('F1 for {} is:'.format(model_name), evaluator.evaluate(predictions, {evaluator.metricName: \"f1\"}))\n",
        "    # accuracy\n",
        "    accuracy = predictions.filter(predictions.label == predictions.prediction).count() / (predictions.count())\n",
        "    print(\"The accuracy of the {} model is:\".format(model_name), accuracy)"
      ]
    },
    {
      "cell_type": "markdown",
      "metadata": {
        "id": "BYntwZg-STsK"
      },
      "source": [
        "Now that we have our results we can choose our best model. Random Forest and Gradient Boosted Trees performed well but random forest was faster so I will choose this one to tune."
      ]
    },
    {
      "cell_type": "markdown",
      "metadata": {
        "id": "w98HMINqSTsK"
      },
      "source": [
        "## Model Tuning for Best Models:"
      ]
    },
    {
      "cell_type": "markdown",
      "metadata": {
        "id": "ERWc0IE0STsK"
      },
      "source": [
        "Now we can tune our model using paramGridbuilder and CrossValidator. I am going to select Random Forest since this is the best compromise for F1 score, accuracy, and time to run. Random Forrest had a F1 score of 0.87 and accuracy of 0.88 and took 2 min 57s compared to GTB which achieved a similar score of 0.88 for both F1 score and accuracy but took 3 min 51s."
      ]
    },
    {
      "cell_type": "markdown",
      "metadata": {
        "id": "6xkm3SIuSTsK"
      },
      "source": [
        "### Random Forest"
      ]
    },
    {
      "cell_type": "code",
      "execution_count": null,
      "metadata": {
        "id": "NoNUolCgSTsK",
        "outputId": "a5a16e3a-edfe-47ee-f767-38a5daf08161"
      },
      "outputs": [
        {
          "name": "stdout",
          "output_type": "stream",
          "text": [
            "cacheNodeIds: If false, the algorithm will pass trees to executors to match instances with nodes. If true, the algorithm will cache node IDs for each instance. Caching can speed up training of deeper trees. Users can set how often should the cache be checkpointed or disable it by setting checkpointInterval. (default: False)\n",
            "checkpointInterval: set checkpoint interval (>= 1) or disable checkpoint (-1). E.g. 10 means that the cache will get checkpointed every 10 iterations. Note: this setting will be ignored if the checkpoint directory is not set in the SparkContext. (default: 10)\n",
            "featureSubsetStrategy: The number of features to consider for splits at each tree node. Supported options: 'auto' (choose automatically for task: If numTrees == 1, set to 'all'. If numTrees > 1 (forest), set to 'sqrt' for classification and to 'onethird' for regression), 'all' (use all features), 'onethird' (use 1/3 of the features), 'sqrt' (use sqrt(number of features)), 'log2' (use log2(number of features)), 'n' (when n is in the range (0, 1.0], use n * number of features. When n is in the range (1, number of features), use n features). default = 'auto' (default: auto)\n",
            "featuresCol: features column name. (default: features, current: features)\n",
            "impurity: Criterion used for information gain calculation (case-insensitive). Supported options: entropy, gini (default: gini)\n",
            "labelCol: label column name. (default: label, current: label)\n",
            "maxBins: Max number of bins for discretizing continuous features.  Must be >=2 and >= number of categories for any categorical feature. (default: 32)\n",
            "maxDepth: Maximum depth of the tree. (>= 0) E.g., depth 0 means 1 leaf node; depth 1 means 1 internal node + 2 leaf nodes. (default: 5)\n",
            "maxMemoryInMB: Maximum memory in MB allocated to histogram aggregation. If too small, then 1 node will be split per iteration, and its aggregates may exceed this size. (default: 256)\n",
            "minInfoGain: Minimum information gain for a split to be considered at a tree node. (default: 0.0)\n",
            "minInstancesPerNode: Minimum number of instances each child must have after split. If a split causes the left or right child to have fewer than minInstancesPerNode, the split will be discarded as invalid. Should be >= 1. (default: 1)\n",
            "numTrees: Number of trees to train (>= 1). (default: 20)\n",
            "predictionCol: prediction column name. (default: prediction)\n",
            "probabilityCol: Column name for predicted class conditional probabilities. Note: Not all models output well-calibrated probability estimates! These probabilities should be treated as confidences, not precise probabilities. (default: probability)\n",
            "rawPredictionCol: raw prediction (a.k.a. confidence) column name. (default: rawPrediction)\n",
            "seed: random seed. (default: 3987110865542101057, current: 1996)\n",
            "subsamplingRate: Fraction of the training data used for learning each decision tree, in range (0, 1]. (default: 1.0)\n"
          ]
        }
      ],
      "source": [
        "#Let's see what parameters we can tune.\n",
        "print(rf.explainParams())"
      ]
    },
    {
      "cell_type": "markdown",
      "metadata": {
        "id": "TNm79TIzSTsK"
      },
      "source": [
        "## Parameters\n",
        "\n",
        "I will select numTrees and maxDepth for our RF model tuning.\n",
        "- **NumTrees**: I have chosen to go up to 100 trees to improve performance. Since these trees are individual randomised models in an ensemble there is not a great risk of overfitting with this numTrees parameter.\n",
        "- **Maxdepth**: I have chosen a max of 15 to reduce the possibility of overfitting. Anything over 15 would increase the risk of overfitting greatly.\n",
        "- **Numfolds**: I originally had numFolds = 5 but had to change to 3 to speed up the process."
      ]
    },
    {
      "cell_type": "code",
      "execution_count": null,
      "metadata": {
        "id": "vNsgVrw0STsL"
      },
      "outputs": [],
      "source": [
        "paramGrid = ParamGridBuilder() \\\n",
        "    .addGrid(rf.numTrees,[20, 50, 100]) \\\n",
        "    .addGrid(rf.maxDepth,[5, 10, 15]) \\\n",
        "    .build()\n",
        "\n",
        "\n",
        "crossval = CrossValidator(estimator=rf,\n",
        "                          estimatorParamMaps=paramGrid,\n",
        "                          evaluator=MulticlassClassificationEvaluator(metricName = \"f1\"),\n",
        "                          numFolds=3)"
      ]
    },
    {
      "cell_type": "code",
      "execution_count": null,
      "metadata": {
        "id": "mQmD-V8eSTsL",
        "outputId": "ebb21b68-054b-4c27-bc6e-9a9814caa539"
      },
      "outputs": [
        {
          "name": "stdout",
          "output_type": "stream",
          "text": [
            "CPU times: user 20 s, sys: 6.86 s, total: 26.9 s\n",
            "Wall time: 1h 5min 37s\n"
          ]
        }
      ],
      "source": [
        "%%time\n",
        "cvModel = crossval.fit(train)"
      ]
    },
    {
      "cell_type": "code",
      "execution_count": null,
      "metadata": {
        "id": "Fayu-4nZSTsL",
        "outputId": "cff39266-5174-47d4-955c-fb5d57154883"
      },
      "outputs": [
        {
          "data": {
            "text/plain": [
              "[0.7556815878823815,\n",
              " 0.7424426067907048,\n",
              " 0.7424426067907048,\n",
              " 0.7159424371144218,\n",
              " 0.720893652967439,\n",
              " 0.720893652967439,\n",
              " 0.7204708834443534,\n",
              " 0.7260493013684504,\n",
              " 0.7260493013684504]"
            ]
          },
          "execution_count": 230,
          "metadata": {},
          "output_type": "execute_result"
        }
      ],
      "source": [
        "cvModel.avgMetrics"
      ]
    },
    {
      "cell_type": "markdown",
      "metadata": {
        "id": "JRPML10YSTsL"
      },
      "source": [
        "### Best Model Performance Results:"
      ]
    },
    {
      "cell_type": "markdown",
      "metadata": {
        "id": "f8wsAs66STsL"
      },
      "source": [
        "We can now get the final results for our random forest model."
      ]
    },
    {
      "cell_type": "code",
      "execution_count": null,
      "metadata": {
        "id": "ApbsHK7mSTsL"
      },
      "outputs": [],
      "source": [
        "results = cvModel.transform(valid)"
      ]
    },
    {
      "cell_type": "code",
      "execution_count": null,
      "metadata": {
        "id": "ds75-PJoSTsL"
      },
      "outputs": [],
      "source": [
        "accuracy = results.filter(results.label == results.prediction).count() / (results.count())"
      ]
    },
    {
      "cell_type": "code",
      "execution_count": null,
      "metadata": {
        "id": "fLByWdYSSTsL"
      },
      "outputs": [],
      "source": [
        "best_model = cvModel.bestModel"
      ]
    },
    {
      "cell_type": "code",
      "execution_count": null,
      "metadata": {
        "id": "Llpn9fvHSTsL",
        "outputId": "5d1fd925-3f37-430e-cfa2-baa0a469d477"
      },
      "outputs": [
        {
          "name": "stdout",
          "output_type": "stream",
          "text": [
            "Best Param (numTrees):  20\n",
            "Best Param (MaxDepth):  5\n"
          ]
        }
      ],
      "source": [
        "print (\"Best Param (numTrees): \", best_model._java_obj.getNumTrees())\n",
        "print (\"Best Param (MaxDepth): \", best_model._java_obj.getMaxDepth())"
      ]
    },
    {
      "cell_type": "code",
      "execution_count": null,
      "metadata": {
        "id": "gIE4TxuZSTsL",
        "outputId": "54a76598-bae2-4a5c-e7bb-c75ea6428f6f"
      },
      "outputs": [
        {
          "name": "stdout",
          "output_type": "stream",
          "text": [
            "F1 for our best model is: 0.8888888888888888\n"
          ]
        }
      ],
      "source": [
        "print('F1 for our best model is:', evaluator.evaluate(predictions, {evaluator.metricName: \"f1\"}))"
      ]
    },
    {
      "cell_type": "code",
      "execution_count": null,
      "metadata": {
        "id": "GsdaDh9BSTsL",
        "outputId": "002b38af-4dc2-4aac-935c-0f33ce421939"
      },
      "outputs": [
        {
          "name": "stdout",
          "output_type": "stream",
          "text": [
            "Accuracy for our best model is: 0.8888888888888888\n"
          ]
        }
      ],
      "source": [
        "print('Accuracy for our best model is:', evaluator.evaluate(predictions, {evaluator.metricName: \"accuracy\"}))"
      ]
    },
    {
      "cell_type": "markdown",
      "metadata": {
        "id": "0bO02NfnSTsL"
      },
      "source": [
        "Here our RF model achieved a F1 and accuracy of 0.88. Accuracy means the number of correctly predicted data points out of all the predictions. So for an accuracy of 0.88 or 88% we get 88 correct predictions out of 100 total predictions. In our context we can use a confusion matrix to think about this:"
      ]
    },
    {
      "cell_type": "markdown",
      "metadata": {
        "id": "dcrXm5qmSTsL"
      },
      "source": [
        "![Confusion_Matrix2_2.png](attachment:Confusion_Matrix2_2.png)\n",
        "\n",
        "\n",
        "Where TP = True Positives, TN = True Negatives, FP = False Positives, and FN = False Negatives."
      ]
    },
    {
      "cell_type": "markdown",
      "metadata": {
        "id": "CWRMbwBOSTsL"
      },
      "source": [
        "F1 here is a measure of the model's accuracy on a dataset and is used to evaluate binary classification systems like we have here. F1-score is a way of combining the precision and recall of the model and gives a better measure of the incorrectly classified cases than accuracy metric. F1 is also better for dealing with imbalanced classes like we have here."
      ]
    },
    {
      "cell_type": "markdown",
      "metadata": {
        "id": "ubvbZdxUSTsL"
      },
      "source": [
        "![1_wUdjcIb9J9Bq6f2GvX1jSA.png](attachment:1_wUdjcIb9J9Bq6f2GvX1jSA.png)"
      ]
    },
    {
      "cell_type": "markdown",
      "metadata": {
        "id": "Te3dmdvaSTsL"
      },
      "source": [
        "#### Feature Importance:"
      ]
    },
    {
      "cell_type": "markdown",
      "metadata": {
        "id": "hNzJ4YOHSTsL"
      },
      "source": [
        "Finally, we can check the feature importance for our best model and plot this in a chart."
      ]
    },
    {
      "cell_type": "code",
      "execution_count": null,
      "metadata": {
        "id": "8Mxv43CKSTsL"
      },
      "outputs": [],
      "source": [
        "importances = best_model.featureImportances"
      ]
    },
    {
      "cell_type": "code",
      "execution_count": null,
      "metadata": {
        "id": "aIi9kSiXSTsL"
      },
      "outputs": [],
      "source": [
        "x_values = list(range(len(importances)))"
      ]
    },
    {
      "cell_type": "code",
      "execution_count": null,
      "metadata": {
        "id": "aVwaxOtXSTsL"
      },
      "outputs": [],
      "source": [
        "feature_list = list([\"gender\", \"level\", \"avg_song\", \"roll_ad\", \"thumbs_down\", \"thumbs_up\", \"add_friend\", \"playlist\", \"num_artists\", \"days\"])"
      ]
    },
    {
      "cell_type": "code",
      "execution_count": null,
      "metadata": {
        "id": "AwL7n-48STsL",
        "outputId": "887f82c5-69ae-4a41-9ff9-942bd78f86d6"
      },
      "outputs": [
        {
          "data": {
            "image/png": "[encoded data removed]",
            "text/plain": [
              "<matplotlib.figure.Figure at 0x7f10a0802b38>"
            ]
          },
          "metadata": {},
          "output_type": "display_data"
        }
      ],
      "source": [
        "plt.figure(figsize=[8,6])\n",
        "plt.bar(x_values, importances, orientation = 'vertical')\n",
        "plt.xticks(x_values, feature_list, rotation=40)\n",
        "plt.ylabel('Importance')\n",
        "plt.xlabel('Feature')\n",
        "plt.title('Feature Importances');"
      ]
    },
    {
      "cell_type": "markdown",
      "metadata": {
        "id": "CGo7cpwPSTsL"
      },
      "source": [
        "Here we can see that the feature with the highest importance was days since registered. Gender and level were the least important features."
      ]
    },
    {
      "cell_type": "markdown",
      "metadata": {
        "id": "If_B7DCFSTsM"
      },
      "source": [
        "# Conclusions\n",
        "<a class=\"anchor\" id=\"con\"></a>"
      ]
    },
    {
      "cell_type": "markdown",
      "metadata": {
        "id": "lFVfv-TzSTsM"
      },
      "source": [
        "We started the project with a small dataset of just 128MB and 225 unique customers. After loading and cleaning our data we explored the dataset for useful features to predict churn and were able to build out the most promising features. We then preprocessed these and used the features with different machine learning algorithms. Random Forest performed the best, so we tuned the model and achieved an accuracy and F1 score of 0.88.\n",
        "\n",
        "### Business Impact:\n",
        "\n",
        "Now, Sparkify can use this information to target customers who are likely to churn and offer attractive incentives to stay, thereby saving Sparkify revenue and getting the customer a nice deal. Since we found that newer customers are more likely to churn, we could target them with a nice free trial of the premium service without those pesky ads! Sparkify could also work on music recommendation system so they can recommend songs that users will enjoy more and thumbs down less.\n",
        "\n",
        "### Project Reflection\n",
        "\n",
        "From this project I have learned how to manipulate datasets with Spark to engineer relevant features for predicting churn. I used Spark MLib to build machine learning models to predict churn. It was interesting to start with a dataset which had the customers' user interactions and then use this to predict whether or not they were likely to churn. The best model was the Random Forest classifier which achieved an accuracy and F1 score of 0.88. It was interesting to build my first model for predicting churn in pyspark as opposed to pandas.\n",
        "\n",
        "### Future Work\n",
        "\n",
        "This project could have been improved by:\n",
        " - doing more feature engineering to select the best features to get a better score\n",
        " - considered overfitting problems in more depth\n",
        " - analysing mispredicted users"
      ]
    },
    {
      "cell_type": "markdown",
      "metadata": {
        "id": "4egdLgwmSTsM"
      },
      "source": [
        "## References"
      ]
    },
    {
      "cell_type": "markdown",
      "metadata": {
        "id": "mUbBuTENSTsM"
      },
      "source": [
        "https://stackoverflow.com/questions/21702342/creating-a-new-column-based-on-if-elif-else-condition     \n",
        "https://stackoverflow.com/questions/46921465/extract-substring-from-text-in-a-pandas-dataframe-as-new-column     \n",
        "https://developers.whatismybrowser.com/useragents/explore/layout_engine_name/trident/     \n",
        "https://sparkbyexamples.com/pyspark/pyspark-when-otherwise/     \n",
        "https://stackoverflow.com/questions/52943627/convert-a-pandas-dataframe-to-a-pyspark-dataframe     \n",
        "https://stackoverflow.com/questions/29600673/how-to-delete-columns-in-pyspark-dataframe      \n",
        "https://stackoverflow.com/questions/48738354/having-troubles-joining-3-dataframes-pyspark     \n",
        "https://stackoverflow.com/questions/59886143/spark-dataframe-how-to-keep-only-latest-record-for-each-group-based-on-id-and    \n",
        "https://stackoverflow.com/questions/46956026/how-to-convert-column-with-string-type-to-int-form-in-pyspark-data-frame    \n",
        "https://medium.com/swlh/logistic-regression-with-pyspark-60295d41221     \n",
        "https://towardsdatascience.com/machine-learning-with-pyspark-and-mllib-solving-a-binary-classification-problem-96396065d2aa     \n",
        "https://spark.apache.org/docs/latest/ml-classification-regression.html#logistic-regression     \n",
        "https://stackoverflow.com/questions/60772315/how-to-evaluate-a-classifier-with-apache-spark-2-4-5-and-pyspark-python    \n",
        "https://stackoverflow.com/questions/60772315/how-to-evaluate-a-classifier-with-apache-spark-2-4-5-and-pyspark-python    \n",
        "https://spark.apache.org/docs/2.2.0/ml-classification-regression.html    \n",
        "https://scikit-learn.org/stable/modules/generated/sklearn.preprocessing.StandardScaler.html      \n",
        "https://stackoverflow.com/questions/32565829/simple-way-to-measure-cell-execution-time-in-ipython-notebook     \n",
        "https://www.silect.is/blog/random-forest-models-in-spark-ml/     \n",
        "https://stackoverflow.com/questions/75440/how-do-i-get-the-string-with-name-of-a-class"
      ]
    },
    {
      "cell_type": "code",
      "execution_count": null,
      "metadata": {
        "id": "oKW3pQrWSTsM"
      },
      "outputs": [],
      "source": []
    }
  ],
  "metadata": {
    "kernelspec": {
      "display_name": "Python 3",
      "language": "python",
      "name": "python3"
    },
    "language_info": {
      "codemirror_mode": {
        "name": "ipython",
        "version": 3
      },
      "file_extension": ".py",
      "mimetype": "text/x-python",
      "name": "python",
      "nbconvert_exporter": "python",
      "pygments_lexer": "ipython3",
      "version": "3.8.5"
    },
    "colab": {
      "provenance": []
    }
  },
  "nbformat": 4,
  "nbformat_minor": 0
}